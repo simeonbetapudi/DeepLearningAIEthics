{
  "nbformat": 4,
  "nbformat_minor": 0,
  "metadata": {
    "colab": {
      "provenance": [],
      "gpuType": "T4",
      "include_colab_link": true
    },
    "kernelspec": {
      "name": "python3",
      "display_name": "Python 3"
    },
    "language_info": {
      "name": "python"
    },
    "accelerator": "GPU",
    "widgets": {
      "application/vnd.jupyter.widget-state+json": {
        "ce27a202aab14a22aa8cd8847656a2c8": {
          "model_module": "@jupyter-widgets/output",
          "model_name": "OutputModel",
          "model_module_version": "1.0.0",
          "state": {
            "_dom_classes": [],
            "_model_module": "@jupyter-widgets/output",
            "_model_module_version": "1.0.0",
            "_model_name": "OutputModel",
            "_view_count": null,
            "_view_module": "@jupyter-widgets/output",
            "_view_module_version": "1.0.0",
            "_view_name": "OutputView",
            "layout": "IPY_MODEL_21ba967aea8b4cbdb078348ac5cbd73f",
            "msg_id": "",
            "outputs": [
              {
                "output_type": "display_data",
                "data": {
                  "text/plain": "Epoch 0/24 \u001b[38;2;98;6;224m━━━━━━━━━━━━━━━━━━━━━━━━━━━━━━━━━━━━━━\u001b[0m 469/469 \u001b[2m0:00:45 • 0:00:00\u001b[0m \u001b[2;4m10.63it/s\u001b[0m \u001b[3mv_num: 4gdh train/loss: 0.062\u001b[0m\n",
                  "text/html": "<pre style=\"white-space:pre;overflow-x:auto;line-height:normal;font-family:Menlo,'DejaVu Sans Mono',consolas,'Courier New',monospace\">Epoch 0/24 <span style=\"color: #6206e0; text-decoration-color: #6206e0\">━━━━━━━━━━━━━━━━━━━━━━━━━━━━━━━━━━━━━━</span> 469/469 <span style=\"color: #7f7f7f; text-decoration-color: #7f7f7f\">0:00:45 • 0:00:00</span> <span style=\"color: #7f7f7f; text-decoration-color: #7f7f7f; text-decoration: underline\">10.63it/s</span> <span style=\"font-style: italic\">v_num: 4gdh train/loss: 0.062</span>\n</pre>\n"
                },
                "metadata": {}
              }
            ]
          }
        },
        "21ba967aea8b4cbdb078348ac5cbd73f": {
          "model_module": "@jupyter-widgets/base",
          "model_name": "LayoutModel",
          "model_module_version": "1.2.0",
          "state": {
            "_model_module": "@jupyter-widgets/base",
            "_model_module_version": "1.2.0",
            "_model_name": "LayoutModel",
            "_view_count": null,
            "_view_module": "@jupyter-widgets/base",
            "_view_module_version": "1.2.0",
            "_view_name": "LayoutView",
            "align_content": null,
            "align_items": null,
            "align_self": null,
            "border": null,
            "bottom": null,
            "display": null,
            "flex": null,
            "flex_flow": null,
            "grid_area": null,
            "grid_auto_columns": null,
            "grid_auto_flow": null,
            "grid_auto_rows": null,
            "grid_column": null,
            "grid_gap": null,
            "grid_row": null,
            "grid_template_areas": null,
            "grid_template_columns": null,
            "grid_template_rows": null,
            "height": null,
            "justify_content": null,
            "justify_items": null,
            "left": null,
            "margin": null,
            "max_height": null,
            "max_width": null,
            "min_height": null,
            "min_width": null,
            "object_fit": null,
            "object_position": null,
            "order": null,
            "overflow": null,
            "overflow_x": null,
            "overflow_y": null,
            "padding": null,
            "right": null,
            "top": null,
            "visibility": null,
            "width": null
          }
        },
        "72c67f46176f4034b30d38fb7fd6b2a1": {
          "model_module": "@jupyter-widgets/output",
          "model_name": "OutputModel",
          "model_module_version": "1.0.0",
          "state": {
            "_dom_classes": [],
            "_model_module": "@jupyter-widgets/output",
            "_model_module_version": "1.0.0",
            "_model_name": "OutputModel",
            "_view_count": null,
            "_view_module": "@jupyter-widgets/output",
            "_view_module_version": "1.0.0",
            "_view_name": "OutputView",
            "layout": "IPY_MODEL_c3cedfe5de67430c8fe68f9f54ab9a38",
            "msg_id": "",
            "outputs": [
              {
                "output_type": "display_data",
                "data": {
                  "text/plain": "Epoch 1/24 \u001b[38;2;98;6;224m━━━━━━━━━━━━━━━━━━━━━━━━━━━━━━━━━\u001b[0m 469/469 \u001b[2m0:00:43 • 0:00:00\u001b[0m \u001b[2;4m10.71it/s\u001b[0m \u001b[3mv_num: 4gdh train/loss: 0.062     \u001b[0m\n                                                                                 \u001b[3mval/loss: 0.061                   \u001b[0m\n",
                  "text/html": "<pre style=\"white-space:pre;overflow-x:auto;line-height:normal;font-family:Menlo,'DejaVu Sans Mono',consolas,'Courier New',monospace\">Epoch 1/24 <span style=\"color: #6206e0; text-decoration-color: #6206e0\">━━━━━━━━━━━━━━━━━━━━━━━━━━━━━━━━━</span> 469/469 <span style=\"color: #7f7f7f; text-decoration-color: #7f7f7f\">0:00:43 • 0:00:00</span> <span style=\"color: #7f7f7f; text-decoration-color: #7f7f7f; text-decoration: underline\">10.71it/s</span> <span style=\"font-style: italic\">v_num: 4gdh train/loss: 0.062     </span>\n                                                                                 <span style=\"font-style: italic\">val/loss: 0.061                   </span>\n</pre>\n"
                },
                "metadata": {}
              }
            ]
          }
        },
        "c3cedfe5de67430c8fe68f9f54ab9a38": {
          "model_module": "@jupyter-widgets/base",
          "model_name": "LayoutModel",
          "model_module_version": "1.2.0",
          "state": {
            "_model_module": "@jupyter-widgets/base",
            "_model_module_version": "1.2.0",
            "_model_name": "LayoutModel",
            "_view_count": null,
            "_view_module": "@jupyter-widgets/base",
            "_view_module_version": "1.2.0",
            "_view_name": "LayoutView",
            "align_content": null,
            "align_items": null,
            "align_self": null,
            "border": null,
            "bottom": null,
            "display": null,
            "flex": null,
            "flex_flow": null,
            "grid_area": null,
            "grid_auto_columns": null,
            "grid_auto_flow": null,
            "grid_auto_rows": null,
            "grid_column": null,
            "grid_gap": null,
            "grid_row": null,
            "grid_template_areas": null,
            "grid_template_columns": null,
            "grid_template_rows": null,
            "height": null,
            "justify_content": null,
            "justify_items": null,
            "left": null,
            "margin": null,
            "max_height": null,
            "max_width": null,
            "min_height": null,
            "min_width": null,
            "object_fit": null,
            "object_position": null,
            "order": null,
            "overflow": null,
            "overflow_x": null,
            "overflow_y": null,
            "padding": null,
            "right": null,
            "top": null,
            "visibility": null,
            "width": null
          }
        },
        "42e436b7cc9946baba487ef03cc5904b": {
          "model_module": "@jupyter-widgets/output",
          "model_name": "OutputModel",
          "model_module_version": "1.0.0",
          "state": {
            "_dom_classes": [],
            "_model_module": "@jupyter-widgets/output",
            "_model_module_version": "1.0.0",
            "_model_name": "OutputModel",
            "_view_count": null,
            "_view_module": "@jupyter-widgets/output",
            "_view_module_version": "1.0.0",
            "_view_name": "OutputView",
            "layout": "IPY_MODEL_47baf474265f479da06625a447d7a8e0",
            "msg_id": "",
            "outputs": [
              {
                "output_type": "display_data",
                "data": {
                  "text/plain": "Epoch 2/24 \u001b[38;2;98;6;224m━━━━━━━━━━━━━━━━━━━━━━━━━━━━━━━━━\u001b[0m 469/469 \u001b[2m0:00:43 • 0:00:00\u001b[0m \u001b[2;4m10.71it/s\u001b[0m \u001b[3mv_num: 4gdh train/loss: 0.058     \u001b[0m\n                                                                                 \u001b[3mval/loss: 0.060                   \u001b[0m\n",
                  "text/html": "<pre style=\"white-space:pre;overflow-x:auto;line-height:normal;font-family:Menlo,'DejaVu Sans Mono',consolas,'Courier New',monospace\">Epoch 2/24 <span style=\"color: #6206e0; text-decoration-color: #6206e0\">━━━━━━━━━━━━━━━━━━━━━━━━━━━━━━━━━</span> 469/469 <span style=\"color: #7f7f7f; text-decoration-color: #7f7f7f\">0:00:43 • 0:00:00</span> <span style=\"color: #7f7f7f; text-decoration-color: #7f7f7f; text-decoration: underline\">10.71it/s</span> <span style=\"font-style: italic\">v_num: 4gdh train/loss: 0.058     </span>\n                                                                                 <span style=\"font-style: italic\">val/loss: 0.060                   </span>\n</pre>\n"
                },
                "metadata": {}
              }
            ]
          }
        },
        "47baf474265f479da06625a447d7a8e0": {
          "model_module": "@jupyter-widgets/base",
          "model_name": "LayoutModel",
          "model_module_version": "1.2.0",
          "state": {
            "_model_module": "@jupyter-widgets/base",
            "_model_module_version": "1.2.0",
            "_model_name": "LayoutModel",
            "_view_count": null,
            "_view_module": "@jupyter-widgets/base",
            "_view_module_version": "1.2.0",
            "_view_name": "LayoutView",
            "align_content": null,
            "align_items": null,
            "align_self": null,
            "border": null,
            "bottom": null,
            "display": null,
            "flex": null,
            "flex_flow": null,
            "grid_area": null,
            "grid_auto_columns": null,
            "grid_auto_flow": null,
            "grid_auto_rows": null,
            "grid_column": null,
            "grid_gap": null,
            "grid_row": null,
            "grid_template_areas": null,
            "grid_template_columns": null,
            "grid_template_rows": null,
            "height": null,
            "justify_content": null,
            "justify_items": null,
            "left": null,
            "margin": null,
            "max_height": null,
            "max_width": null,
            "min_height": null,
            "min_width": null,
            "object_fit": null,
            "object_position": null,
            "order": null,
            "overflow": null,
            "overflow_x": null,
            "overflow_y": null,
            "padding": null,
            "right": null,
            "top": null,
            "visibility": null,
            "width": null
          }
        },
        "cd0ee1e6d54f460995fd1d4554156d1f": {
          "model_module": "@jupyter-widgets/output",
          "model_name": "OutputModel",
          "model_module_version": "1.0.0",
          "state": {
            "_dom_classes": [],
            "_model_module": "@jupyter-widgets/output",
            "_model_module_version": "1.0.0",
            "_model_name": "OutputModel",
            "_view_count": null,
            "_view_module": "@jupyter-widgets/output",
            "_view_module_version": "1.0.0",
            "_view_name": "OutputView",
            "layout": "IPY_MODEL_282cb51464314102a606c0740dc6565a",
            "msg_id": "",
            "outputs": [
              {
                "output_type": "display_data",
                "data": {
                  "text/plain": "Epoch 3/24 \u001b[38;2;98;6;224m━━━━━━━━━━━━━━━━━━━━━━━━━━━━━━━━━\u001b[0m 469/469 \u001b[2m0:00:44 • 0:00:00\u001b[0m \u001b[2;4m10.69it/s\u001b[0m \u001b[3mv_num: 4gdh train/loss: 0.059     \u001b[0m\n                                                                                 \u001b[3mval/loss: 0.059                   \u001b[0m\n",
                  "text/html": "<pre style=\"white-space:pre;overflow-x:auto;line-height:normal;font-family:Menlo,'DejaVu Sans Mono',consolas,'Courier New',monospace\">Epoch 3/24 <span style=\"color: #6206e0; text-decoration-color: #6206e0\">━━━━━━━━━━━━━━━━━━━━━━━━━━━━━━━━━</span> 469/469 <span style=\"color: #7f7f7f; text-decoration-color: #7f7f7f\">0:00:44 • 0:00:00</span> <span style=\"color: #7f7f7f; text-decoration-color: #7f7f7f; text-decoration: underline\">10.69it/s</span> <span style=\"font-style: italic\">v_num: 4gdh train/loss: 0.059     </span>\n                                                                                 <span style=\"font-style: italic\">val/loss: 0.059                   </span>\n</pre>\n"
                },
                "metadata": {}
              }
            ]
          }
        },
        "282cb51464314102a606c0740dc6565a": {
          "model_module": "@jupyter-widgets/base",
          "model_name": "LayoutModel",
          "model_module_version": "1.2.0",
          "state": {
            "_model_module": "@jupyter-widgets/base",
            "_model_module_version": "1.2.0",
            "_model_name": "LayoutModel",
            "_view_count": null,
            "_view_module": "@jupyter-widgets/base",
            "_view_module_version": "1.2.0",
            "_view_name": "LayoutView",
            "align_content": null,
            "align_items": null,
            "align_self": null,
            "border": null,
            "bottom": null,
            "display": null,
            "flex": null,
            "flex_flow": null,
            "grid_area": null,
            "grid_auto_columns": null,
            "grid_auto_flow": null,
            "grid_auto_rows": null,
            "grid_column": null,
            "grid_gap": null,
            "grid_row": null,
            "grid_template_areas": null,
            "grid_template_columns": null,
            "grid_template_rows": null,
            "height": null,
            "justify_content": null,
            "justify_items": null,
            "left": null,
            "margin": null,
            "max_height": null,
            "max_width": null,
            "min_height": null,
            "min_width": null,
            "object_fit": null,
            "object_position": null,
            "order": null,
            "overflow": null,
            "overflow_x": null,
            "overflow_y": null,
            "padding": null,
            "right": null,
            "top": null,
            "visibility": null,
            "width": null
          }
        },
        "89c4e627cbcf4ec6bbe7ccf595760da5": {
          "model_module": "@jupyter-widgets/output",
          "model_name": "OutputModel",
          "model_module_version": "1.0.0",
          "state": {
            "_dom_classes": [],
            "_model_module": "@jupyter-widgets/output",
            "_model_module_version": "1.0.0",
            "_model_name": "OutputModel",
            "_view_count": null,
            "_view_module": "@jupyter-widgets/output",
            "_view_module_version": "1.0.0",
            "_view_name": "OutputView",
            "layout": "IPY_MODEL_52c1c40b69bf43618799cc6d4718bb9b",
            "msg_id": "",
            "outputs": [
              {
                "output_type": "display_data",
                "data": {
                  "text/plain": "Epoch 4/24 \u001b[38;2;98;6;224m━━━━━━\u001b[0m\u001b[38;2;98;6;224m╸\u001b[0m\u001b[38;5;237m━━━━━━━━━━━━━━━━━━━━━━━━━━━\u001b[0m 96/469 \u001b[2m0:00:09 • 0:00:36\u001b[0m \u001b[2;4m10.44it/s\u001b[0m \u001b[3mv_num: 4gdh train/loss: 0.059     \u001b[0m\n                                                                                 \u001b[3mval/loss: 0.059                   \u001b[0m\n",
                  "text/html": "<pre style=\"white-space:pre;overflow-x:auto;line-height:normal;font-family:Menlo,'DejaVu Sans Mono',consolas,'Courier New',monospace\">Epoch 4/24 <span style=\"color: #6206e0; text-decoration-color: #6206e0\">━━━━━━╸</span><span style=\"color: #3a3a3a; text-decoration-color: #3a3a3a\">━━━━━━━━━━━━━━━━━━━━━━━━━━━</span> 96/469 <span style=\"color: #7f7f7f; text-decoration-color: #7f7f7f\">0:00:09 • 0:00:36</span> <span style=\"color: #7f7f7f; text-decoration-color: #7f7f7f; text-decoration: underline\">10.44it/s</span> <span style=\"font-style: italic\">v_num: 4gdh train/loss: 0.059     </span>\n                                                                                 <span style=\"font-style: italic\">val/loss: 0.059                   </span>\n</pre>\n"
                },
                "metadata": {}
              }
            ]
          }
        },
        "52c1c40b69bf43618799cc6d4718bb9b": {
          "model_module": "@jupyter-widgets/base",
          "model_name": "LayoutModel",
          "model_module_version": "1.2.0",
          "state": {
            "_model_module": "@jupyter-widgets/base",
            "_model_module_version": "1.2.0",
            "_model_name": "LayoutModel",
            "_view_count": null,
            "_view_module": "@jupyter-widgets/base",
            "_view_module_version": "1.2.0",
            "_view_name": "LayoutView",
            "align_content": null,
            "align_items": null,
            "align_self": null,
            "border": null,
            "bottom": null,
            "display": null,
            "flex": null,
            "flex_flow": null,
            "grid_area": null,
            "grid_auto_columns": null,
            "grid_auto_flow": null,
            "grid_auto_rows": null,
            "grid_column": null,
            "grid_gap": null,
            "grid_row": null,
            "grid_template_areas": null,
            "grid_template_columns": null,
            "grid_template_rows": null,
            "height": null,
            "justify_content": null,
            "justify_items": null,
            "left": null,
            "margin": null,
            "max_height": null,
            "max_width": null,
            "min_height": null,
            "min_width": null,
            "object_fit": null,
            "object_position": null,
            "order": null,
            "overflow": null,
            "overflow_x": null,
            "overflow_y": null,
            "padding": null,
            "right": null,
            "top": null,
            "visibility": null,
            "width": null
          }
        }
      }
    }
  },
  "cells": [
    {
      "cell_type": "markdown",
      "metadata": {
        "id": "view-in-github",
        "colab_type": "text"
      },
      "source": [
        "<a href=\"https://colab.research.google.com/github/simeonbetapudi/DeepLearningAIEthics/blob/main/Copy_of_LeaderboardCompetition.ipynb\" target=\"_parent\"><img src=\"https://colab.research.google.com/assets/colab-badge.svg\" alt=\"Open In Colab\"/></a>"
      ]
    },
    {
      "cell_type": "code",
      "execution_count": 1,
      "metadata": {
        "colab": {
          "base_uri": "https://localhost:8080/"
        },
        "id": "zGWCNTLQ17WE",
        "outputId": "89bb8a9e-2e2e-4a45-d901-dc5653849ba9"
      },
      "outputs": [
        {
          "output_type": "stream",
          "name": "stdout",
          "text": [
            "Found existing installation: bigframes 2.23.0\n",
            "Uninstalling bigframes-2.23.0:\n",
            "  Successfully uninstalled bigframes-2.23.0\n",
            "\u001b[2K   \u001b[90m━━━━━━━━━━━━━━━━━━━━━━━━━━━━━━━━━━━━━━━━\u001b[0m \u001b[32m828.5/828.5 kB\u001b[0m \u001b[31m19.2 MB/s\u001b[0m eta \u001b[36m0:00:00\u001b[0m\n",
            "\u001b[2K   \u001b[90m━━━━━━━━━━━━━━━━━━━━━━━━━━━━━━━━━━━━━━━━\u001b[0m \u001b[32m243.4/243.4 kB\u001b[0m \u001b[31m13.6 MB/s\u001b[0m eta \u001b[36m0:00:00\u001b[0m\n",
            "\u001b[2K   \u001b[90m━━━━━━━━━━━━━━━━━━━━━━━━━━━━━━━━━━━━━━━━\u001b[0m \u001b[32m983.2/983.2 kB\u001b[0m \u001b[31m30.4 MB/s\u001b[0m eta \u001b[36m0:00:00\u001b[0m\n",
            "\u001b[2K   \u001b[90m━━━━━━━━━━━━━━━━━━━━━━━━━━━━━━━━━━━━━━━━\u001b[0m \u001b[32m832.4/832.4 kB\u001b[0m \u001b[31m26.6 MB/s\u001b[0m eta \u001b[36m0:00:00\u001b[0m\n",
            "\u001b[?25h"
          ]
        }
      ],
      "source": [
        "# Uninstall Colab's bigframes because it conflicts with other installs\n",
        "%pip uninstall -y bigframes\n",
        "# Install Lightning, also let's use \"rich\" progress bars\n",
        "%pip install -Uqq lightning wandb rich einops"
      ]
    },
    {
      "cell_type": "code",
      "source": [
        "import torch\n",
        "from torch import nn, optim, utils\n",
        "from torch.utils.data import DataLoader\n",
        "from torchvision.datasets import MNIST\n",
        "from torchvision.transforms import ToTensor, RandomAffine, RandomErasing\n",
        "import torchvision\n",
        "import matplotlib.pyplot as plt\n",
        "import torch.nn.functional as F\n",
        "# Not advocating Lightning over raw pytorch, but it offers some useful abstractions\n",
        "import lightning as L\n",
        "from lightning.pytorch.loggers import WandbLogger\n",
        "from lightning.pytorch.callbacks import RichProgressBar\n",
        "import wandb\n",
        "import numpy as np\n",
        "from einops import rearrange"
      ],
      "metadata": {
        "id": "s944-VoW2tgt"
      },
      "execution_count": 2,
      "outputs": []
    },
    {
      "cell_type": "code",
      "source": [
        "# optional: define additional data augmentation transformers for the dataloader\n",
        "train_transforms = torchvision.transforms.Compose([\n",
        "    ToTensor(),\n",
        "    # uncomment next lines for extra augmentations\n",
        "    #RandomAffine(degrees=15, translate=(0.1, 0.1)),\n",
        "    #RandomErasing(p=0.2, scale=(0.02, 0.1))\n",
        "])\n",
        "\n",
        "train_ds = MNIST(root='./data', train=True,  download=True, transform=train_transforms)\n",
        "test_ds  = MNIST(root='./data', train=False, download=True, transform=ToTensor())\n",
        "val_ds = test_ds  #alias val for test\n",
        "print(f\"Data set lengths: train: {len(train_ds)}, test: {len(test_ds)}\")\n",
        "\n",
        "\n",
        "\n",
        "batch_size = 128   # could make this bigger; note for MNIST on Colab we're disk-speed limited, not GPU-limited\n",
        "train_dl = DataLoader(train_ds, batch_size=batch_size, num_workers=0, shuffle=True, persistent_workers=False)\n",
        "test_dl = DataLoader(test_ds, batch_size=batch_size, num_workers=0, shuffle=False, persistent_workers=False)\n",
        "val_dl = test_dl # alias val <--> test"
      ],
      "metadata": {
        "colab": {
          "base_uri": "https://localhost:8080/"
        },
        "id": "DYaC1K3c2y0y",
        "outputId": "a6220c94-0d82-464a-ac38-4d635a35181f"
      },
      "execution_count": 18,
      "outputs": [
        {
          "output_type": "stream",
          "name": "stdout",
          "text": [
            "Data set lengths: train: 60000, test: 10000\n"
          ]
        }
      ]
    },
    {
      "cell_type": "code",
      "source": [
        "# @title Code for `show_xs` visualization tool\n",
        "def show_xs(xs, show_stats=True):\n",
        "    \"\"\"A little utility to show one or more images\"\"\"\n",
        "    if type(xs) is not list: xs = list(xs)\n",
        "    ncols = len(xs)\n",
        "    fig, axs = plt.subplots(figsize=(3*ncols,2), ncols=ncols, squeeze=False)\n",
        "    ax = axs.ravel()\n",
        "    for col, x in enumerate(xs):\n",
        "        if len(x.shape)>2: x = x[0] # remove any batch dimension\n",
        "        if show_stats:\n",
        "            if ncols > 1: print(f\"col {col}: \",end=\"\")\n",
        "            print(f\"x.shape = {tuple(x.shape)}, min(x) = {torch.min(x)}, max(x) = {torch.max(x)}\")\n",
        "        digit = ax[col].imshow(x.detach().cpu().numpy(), cmap='gray')\n",
        "        fig.colorbar(digit, ax=ax[col])\n",
        "    plt.show()\n",
        "\n",
        "x, y = next(iter(train_dl))   # pick a few elements from the dataset\n",
        "print(f\"y (target) = {y[:4]} \")\n",
        "\n",
        "show_xs(x[:4])"
      ],
      "metadata": {
        "colab": {
          "base_uri": "https://localhost:8080/",
          "height": 287
        },
        "cellView": "form",
        "id": "jouzpUh923K_",
        "outputId": "2646d263-80dd-42d7-9a70-206efc50c5ce"
      },
      "execution_count": 4,
      "outputs": [
        {
          "output_type": "stream",
          "name": "stdout",
          "text": [
            "y (target) = tensor([6, 1, 0, 6]) \n",
            "col 0: x.shape = (28, 28), min(x) = 0.0, max(x) = 1.0\n",
            "col 1: x.shape = (28, 28), min(x) = 0.0, max(x) = 1.0\n",
            "col 2: x.shape = (28, 28), min(x) = 0.0, max(x) = 1.0\n",
            "col 3: x.shape = (28, 28), min(x) = 0.0, max(x) = 1.0\n"
          ]
        },
        {
          "output_type": "display_data",
          "data": {
            "text/plain": [
              "<Figure size 1200x200 with 8 Axes>"
            ],
            "image/png": "[encoded data removed]"
          },
          "metadata": {}
        }
      ]
    },
    {
      "cell_type": "code",
      "source": [
        "# @torch.no_grad()\n",
        "def test_inference(model, idx=None, return_fig=False):\n",
        "    import inspect\n",
        "    model.eval()\n",
        "    if idx is None: idx = torch.randint(len(test_ds), (1,))[0]\n",
        "    if isinstance(idx, int): idx = [idx]\n",
        "    elif isinstance(idx, range): idx = list(idx)\n",
        "    x_batch = torch.stack([test_ds[i][0] for i in idx]).to(model.device)  # images\n",
        "    y_batch = torch.tensor([test_ds[i][1] for i in idx]).to(model.device) # labels\n",
        "    if not model.use_conv: x_batch = x_batch.view(x_batch.size(0), -1)\n",
        "    if 1==len(inspect.signature(model.forward).parameters): # for ae or vae\n",
        "        # Assuming the model's forward returns (x_hat, mu, log_var, z_hat)\n",
        "        x_hat, mu, log_var, z_hat = model.forward(x_batch)\n",
        "        recon = x_hat # The reconstructed image is the first element\n",
        "    else:                                                   # c-vae (later in lesson)\n",
        "        cond = F.one_hot(y_batch, num_classes=10).float()\n",
        "        # Assuming the conditional model's forward returns (x_hat, mu, log_var, z_hat)\n",
        "        x_hat, mu, log_var, z_hat = model.forward(x_batch, cond)\n",
        "        recon = x_hat # The reconstructed image is the first element\n",
        "\n",
        "    recon = recon.view(len(idx), 28, 28)\n",
        "    fig, axs = plt.subplots(2, len(idx), figsize=(3*len(idx), 4))\n",
        "    if len(idx) == 1: axs = axs.reshape(2, 1)\n",
        "    for i in range(len(idx)):\n",
        "        axs[0,i].imshow(x_batch[i].view(28,28).cpu(), cmap='gray')\n",
        "        axs[1,i].imshow(recon[i].cpu(), cmap='gray')\n",
        "        if i == 0:\n",
        "            axs[0,0].set_ylabel('Input', fontsize=12)\n",
        "            axs[1,0].set_ylabel('Reconstruction', fontsize=12)\n",
        "    model.train()\n",
        "    if return_fig: return fig\n",
        "    plt.show()"
      ],
      "metadata": {
        "cellView": "form",
        "id": "zd3h3zHW6NWR"
      },
      "execution_count": 27,
      "outputs": []
    },
    {
      "cell_type": "code",
      "source": [
        "class DoubleConv(nn.Module):\n",
        "    \"\"\"Double convolution block used in U-Net\"\"\"\n",
        "    def __init__(self, in_channels, out_channels):\n",
        "        super().__init__()\n",
        "        self.double_conv = nn.Sequential(\n",
        "            nn.Conv2d(in_channels, out_channels, 3, padding=1, bias=False),\n",
        "            nn.BatchNorm2d(out_channels),\n",
        "            nn.ReLU(inplace=True),\n",
        "            nn.Conv2d(out_channels, out_channels, 3, padding=1, bias=False),\n",
        "            nn.BatchNorm2d(out_channels),\n",
        "            nn.ReLU(inplace=True)\n",
        "        )\n",
        "    def forward(self, x):\n",
        "        return self.double_conv(x)\n",
        "\n",
        "class Down(nn.Module):\n",
        "    \"\"\"Downscaling with maxpool then double conv\"\"\"\n",
        "    def __init__(self, in_channels, out_channels):\n",
        "        super().__init__()\n",
        "        self.maxpool_conv = nn.Sequential(nn.MaxPool2d(2), DoubleConv(in_channels, out_channels))\n",
        "    def forward(self, x):\n",
        "        return self.maxpool_conv(x)\n",
        "\n",
        "class Up(nn.Module):\n",
        "    \"\"\"Upscaling then double conv\"\"\"\n",
        "    def __init__(self, in_channels, out_channels):\n",
        "        super().__init__()\n",
        "        self.up = nn.ConvTranspose2d(in_channels, in_channels // 2, 2, stride=2)\n",
        "        self.conv = DoubleConv(in_channels, out_channels)\n",
        "\n",
        "    def forward(self, x1, x2):\n",
        "        x1 = self.up(x1)  # x1 from decoder path, x2 is skip connection from encoder\n",
        "        diffY = x2.size()[2] - x1.size()[2]\n",
        "        diffX = x2.size()[3] - x1.size()[3]\n",
        "        x1 = F.pad(x1, [diffX // 2, diffX - diffX // 2, diffY // 2, diffY - diffY // 2])\n",
        "        x = torch.cat([x2, x1], dim=1)  # Concatenate skip connection (key U-Net feature!)\n",
        "        return self.conv(x)"
      ],
      "metadata": {
        "id": "-YFEfnU7WmZF"
      },
      "execution_count": 6,
      "outputs": []
    },
    {
      "cell_type": "code",
      "source": [
        "latent_dim = 3  # Define latent_dim before using it in class definitions\n",
        "\n",
        "class UNetDown(nn.Module):\n",
        "    def __init__(self, n_channels=1, features=[64, 128, 256, 512]):\n",
        "        super().__init__()\n",
        "        self.features = features\n",
        "\n",
        "        self.inc = DoubleConv(n_channels, features[0])\n",
        "        self.downs = nn.ModuleList([Down(features[i], features[i+1]) for i in range(len(features)-1)])\n",
        "        self.flatten = nn.Flatten()\n",
        "\n",
        "        # Dynamically calculate the input size for the linear layers\n",
        "        # Pass a dummy tensor through the convolutional layers to get the output shape\n",
        "        with torch.no_grad():\n",
        "            dummy_input = torch.randn(1, n_channels, 28, 28) # Assuming input image size is 28x28\n",
        "            x = self.inc(dummy_input)\n",
        "            for down in self.downs:\n",
        "                x = down(x)\n",
        "            flattened_size = x.numel() // x.shape[0] # Calculate flattened size per batch\n",
        "\n",
        "        self.fc_mu = nn.Linear(flattened_size, latent_dim)\n",
        "        self.fc_logvar = nn.Linear(flattened_size, latent_dim)\n",
        "\n",
        "    def forward(self, x):\n",
        "        skip_connections = []\n",
        "        x = self.inc(x)\n",
        "        skip_connections.append(x)\n",
        "\n",
        "        for down in self.downs:  # Downsampling path\n",
        "            x = down(x)\n",
        "            skip_connections.append(x)\n",
        "\n",
        "        skip_connections = skip_connections[:-1]  # Remove last (bottleneck)\n",
        "\n",
        "        x = self.flatten(x)\n",
        "        mu = self.fc_mu(x)\n",
        "        logvar = self.fc_logvar(x)\n",
        "\n",
        "        return mu, logvar, skip_connections\n",
        "\n",
        "\n",
        "class UNetUp(nn.Module):\n",
        "   def __init__(self, n_channels=1, n_classes=1, features=[64, 128, 256, 512]):\n",
        "        super().__init__()\n",
        "        self.features = features\n",
        "\n",
        "        # Dynamically calculate the input size for the linear layer in the decoder\n",
        "        flattened_size = features[-1] * 4 * 4 # This size should match the output of the encoder's linear layers\n",
        "\n",
        "        self.fc = nn.Linear(latent_dim, flattened_size)  # mirror encoder\n",
        "        self.unflatten = nn.Unflatten(1, (features[-1], 4, 4))\n",
        "        self.ups = nn.ModuleList([Up(features[len(features)-1-i], features[len(features)-2-i]) for i in range(len(features)-1)])\n",
        "        self.outc = nn.Conv2d(features[0], n_classes, 1)\n",
        "\n",
        "   def forward(self, bottleneck, skip_connections):\n",
        "        x = self.fc(bottleneck)\n",
        "        x = self.unflatten(x)\n",
        "\n",
        "        for i, up in enumerate(self.ups):  # Upsampling path with skip connections\n",
        "            skip = skip_connections[-(i+1)]\n",
        "            x = up(x, skip)\n",
        "\n",
        "        return torch.sigmoid(self.outc(x))"
      ],
      "metadata": {
        "id": "USeDuCycWl_S"
      },
      "execution_count": 23,
      "outputs": []
    },
    {
      "cell_type": "code",
      "source": [
        "# instead of nn.Module, we use L.LightningModule\n",
        "class VAEModel(L.LightningModule):\n",
        "    def __init__(self,\n",
        "                 latent_dim=3,    # dimensionality of the latent space. bigger=less compression, better reconstruction\n",
        "                 features=[64,128,256,512],  # intermediate/hidden layers in our simple encoder/decoder\n",
        "                 act = nn.LeakyReLU,\n",
        "                 ):\n",
        "        super().__init__()\n",
        "\n",
        "        # VAE encoder outputs two values, for mean and variance\n",
        "        self.encoder = UNetDown(n_channels=1, features=features)\n",
        "\n",
        "        # VAE decoder is exactly same as vanilla AE\n",
        "        self.decoder = UNetUp(n_channels=1, n_classes=1, features=features)\n",
        "\n",
        "        self.use_conv = True\n",
        "        self.latent_dim, self.act = latent_dim, act # save config for archival purposes\n",
        "\n",
        "    def reparam_sample(self, mu, log_var):\n",
        "        \"this yields a data value by sampling from the learned gaussian distribution of latents\"\n",
        "        std = torch.exp(0.5*log_var).sqrt() # the 0.5 is an optional, tunable rescaling factor.\n",
        "        noise = torch.randn_like(std)       # the gaussian distribution we sample from\n",
        "        return mu + std * noise\n",
        "\n",
        "    def forward(self, x):\n",
        "        # Get mu, log_var, skip_connections from encoder\n",
        "        mu, log_var, skip_connections = self.encoder(x)\n",
        "        # Sample from the latent space\n",
        "        z_hat = self.reparam_sample(mu, log_var)\n",
        "        # Decode the latent sample to reconstruct the image\n",
        "        x_hat = self.decoder(z_hat, skip_connections)\n",
        "        return x_hat, mu, log_var, z_hat # order chosen to preserve earlier model's outputs of z, x_hat\n",
        "\n",
        "\n",
        "    def pred_and_log(self, batch, batch_idx, log_prefix=''):\n",
        "        \"the basic task: make predictions, compute loss, and send to logging system\"\n",
        "        x, y = batch\n",
        "        # Remove flattening for linear layer as we are using convolutional layers\n",
        "        # x = x.view(x.size(0), -1)\n",
        "\n",
        "        # Get outputs from the forward pass\n",
        "        x_hat, mu, log_var, z_hat = self.forward(x)\n",
        "\n",
        "        #recon_loss = nn.functional.mse_loss(x_hat, x)\n",
        "        recon_loss = nn.functional.binary_cross_entropy(x_hat, x) # remember you need a sigmoid on decoder out to use bce\n",
        "        # or you could use torch.nn.functional.binary_cross_entropy_with_logits without the sigmoid\n",
        "        kl_loss = -0.5 * torch.mean(1 + log_var - mu.pow(2) - log_var.exp())\n",
        "        scrunch_factor = 1e-3 # larger means blurrier/blobbier\n",
        "        rescaled_kl_loss = (kl_loss * scrunch_factor) # this is what goes in the loss function\n",
        "        loss = recon_loss + rescaled_kl_loss\n",
        "\n",
        "        self.log(f'{log_prefix}loss', loss, prog_bar=True)\n",
        "        self.log(f'{log_prefix}recon_loss', recon_loss)\n",
        "        self.log(f'{log_prefix}kl_loss', kl_loss)\n",
        "        self.log(f'{log_prefix}rescaled_kl_loss', rescaled_kl_loss) # Corrected f-string\n",
        "        return loss\n",
        "\n",
        "    def training_step(self, batch, batch_idx):\n",
        "        return self.pred_and_log(batch, batch_idx, log_prefix='train/')\n",
        "\n",
        "    def validation_step(self, batch, batch_idx):\n",
        "        return self.pred_and_log(batch, batch_idx, log_prefix='val/')\n",
        "\n",
        "    def configure_optimizers(self):\n",
        "        return optim.Adam(self.parameters(), lr=5e-4)\n",
        "\n",
        "    def on_epoch_start(self): # give us a new line for each epoch\n",
        "        print('\\n')\n",
        "\n",
        "    def on_validation_epoch_end(self, demo_every=1):\n",
        "        if self.current_epoch % demo_every == 0:  # log every this many epochs\n",
        "            fig = test_inference(self, idx=range(5), return_fig=True)\n",
        "            self.logger.experiment.log({\"reconstructions\": wandb.Image(fig), \"epoch\": self.current_epoch})\n",
        "            plt.close(fig)  # clean up\n",
        "\n",
        "\n",
        "vae = VAEModel()\n",
        "model = vae"
      ],
      "metadata": {
        "id": "wwJZ93lr5xb1"
      },
      "execution_count": 24,
      "outputs": []
    },
    {
      "cell_type": "code",
      "source": [
        "wandb.login()\n",
        "# Lightning defines its own WandbLogger callback...\n",
        "wandb.finish() # just in case we're aborting runs & restarting\n",
        "\n",
        "# set up the logging\n",
        "wandb_logger = WandbLogger(log_model=\"all\", project='vae_sim')\n",
        "try:\n",
        "    wandb_logger.watch(model)\n",
        "except:\n",
        "    pass"
      ],
      "metadata": {
        "id": "P7rbL7Wi6Xxm",
        "colab": {
          "base_uri": "https://localhost:8080/",
          "height": 338
        },
        "outputId": "6953b98e-6cbc-4a13-d5ac-d13f9d3520e8"
      },
      "execution_count": 9,
      "outputs": [
        {
          "output_type": "stream",
          "name": "stderr",
          "text": [
            "/usr/local/lib/python3.12/dist-packages/notebook/notebookapp.py:191: SyntaxWarning: invalid escape sequence '\\/'\n",
            "  | |_| | '_ \\/ _` / _` |  _/ -_)\n"
          ]
        },
        {
          "output_type": "display_data",
          "data": {
            "text/plain": [
              "<IPython.core.display.Javascript object>"
            ],
            "application/javascript": [
              "\n",
              "        window._wandbApiKey = new Promise((resolve, reject) => {\n",
              "            function loadScript(url) {\n",
              "            return new Promise(function(resolve, reject) {\n",
              "                let newScript = document.createElement(\"script\");\n",
              "                newScript.onerror = reject;\n",
              "                newScript.onload = resolve;\n",
              "                document.body.appendChild(newScript);\n",
              "                newScript.src = url;\n",
              "            });\n",
              "            }\n",
              "            loadScript(\"https://cdn.jsdelivr.net/npm/postmate/build/postmate.min.js\").then(() => {\n",
              "            const iframe = document.createElement('iframe')\n",
              "            iframe.style.cssText = \"width:0;height:0;border:none\"\n",
              "            document.body.appendChild(iframe)\n",
              "            const handshake = new Postmate({\n",
              "                container: iframe,\n",
              "                url: 'https://wandb.ai/authorize'\n",
              "            });\n",
              "            const timeout = setTimeout(() => reject(\"Couldn't auto authenticate\"), 5000)\n",
              "            handshake.then(function(child) {\n",
              "                child.on('authorize', data => {\n",
              "                    clearTimeout(timeout)\n",
              "                    resolve(data)\n",
              "                });\n",
              "            });\n",
              "            })\n",
              "        });\n",
              "    "
            ]
          },
          "metadata": {}
        },
        {
          "output_type": "stream",
          "name": "stderr",
          "text": [
            "\u001b[34m\u001b[1mwandb\u001b[0m: Logging into wandb.ai. (Learn how to deploy a W&B server locally: https://wandb.me/wandb-server)\n",
            "\u001b[34m\u001b[1mwandb\u001b[0m: You can find your API key in your browser here: https://wandb.ai/authorize\n",
            "wandb: Paste an API key from your profile and hit enter:"
          ]
        },
        {
          "name": "stdout",
          "output_type": "stream",
          "text": [
            " ··········\n"
          ]
        },
        {
          "output_type": "stream",
          "name": "stderr",
          "text": [
            "\u001b[34m\u001b[1mwandb\u001b[0m: \u001b[33mWARNING\u001b[0m If you're specifying your api key in code, ensure this code is not shared publicly.\n",
            "\u001b[34m\u001b[1mwandb\u001b[0m: \u001b[33mWARNING\u001b[0m Consider setting the WANDB_API_KEY environment variable, or running `wandb login` from the command line.\n",
            "\u001b[34m\u001b[1mwandb\u001b[0m: No netrc file found, creating one.\n",
            "\u001b[34m\u001b[1mwandb\u001b[0m: Appending key for api.wandb.ai to your netrc file: /root/.netrc\n",
            "\u001b[34m\u001b[1mwandb\u001b[0m: Currently logged in as: \u001b[33mjaydencruz824\u001b[0m (\u001b[33mjaydencruz824-belmont-university\u001b[0m) to \u001b[32mhttps://api.wandb.ai\u001b[0m. Use \u001b[1m`wandb login --relogin`\u001b[0m to force relogin\n"
          ]
        },
        {
          "output_type": "display_data",
          "data": {
            "text/plain": [
              "<IPython.core.display.HTML object>"
            ],
            "text/html": []
          },
          "metadata": {}
        },
        {
          "output_type": "display_data",
          "data": {
            "text/plain": [
              "<IPython.core.display.HTML object>"
            ],
            "text/html": [
              "Tracking run with wandb version 0.22.1"
            ]
          },
          "metadata": {}
        },
        {
          "output_type": "display_data",
          "data": {
            "text/plain": [
              "<IPython.core.display.HTML object>"
            ],
            "text/html": [
              "Run data is saved locally in <code>./wandb/run-20251006_173142-kbeb4gdh</code>"
            ]
          },
          "metadata": {}
        },
        {
          "output_type": "display_data",
          "data": {
            "text/plain": [
              "<IPython.core.display.HTML object>"
            ],
            "text/html": [
              "Syncing run <strong><a href='https://wandb.ai/jaydencruz824-belmont-university/vae_sim/runs/kbeb4gdh' target=\"_blank\">fresh-plasma-2</a></strong> to <a href='https://wandb.ai/jaydencruz824-belmont-university/vae_sim' target=\"_blank\">Weights & Biases</a> (<a href='https://wandb.me/developer-guide' target=\"_blank\">docs</a>)<br>"
            ]
          },
          "metadata": {}
        },
        {
          "output_type": "display_data",
          "data": {
            "text/plain": [
              "<IPython.core.display.HTML object>"
            ],
            "text/html": [
              " View project at <a href='https://wandb.ai/jaydencruz824-belmont-university/vae_sim' target=\"_blank\">https://wandb.ai/jaydencruz824-belmont-university/vae_sim</a>"
            ]
          },
          "metadata": {}
        },
        {
          "output_type": "display_data",
          "data": {
            "text/plain": [
              "<IPython.core.display.HTML object>"
            ],
            "text/html": [
              " View run at <a href='https://wandb.ai/jaydencruz824-belmont-university/vae_sim/runs/kbeb4gdh' target=\"_blank\">https://wandb.ai/jaydencruz824-belmont-university/vae_sim/runs/kbeb4gdh</a>"
            ]
          },
          "metadata": {}
        },
        {
          "output_type": "stream",
          "name": "stderr",
          "text": [
            "\u001b[34m\u001b[1mwandb\u001b[0m: logging graph, to disable use `wandb.watch(log_graph=False)`\n"
          ]
        }
      ]
    },
    {
      "cell_type": "code",
      "metadata": {
        "colab": {
          "base_uri": "https://localhost:8080/",
          "height": 696,
          "referenced_widgets": [
            "ce27a202aab14a22aa8cd8847656a2c8",
            "21ba967aea8b4cbdb078348ac5cbd73f",
            "72c67f46176f4034b30d38fb7fd6b2a1",
            "c3cedfe5de67430c8fe68f9f54ab9a38",
            "42e436b7cc9946baba487ef03cc5904b",
            "47baf474265f479da06625a447d7a8e0",
            "cd0ee1e6d54f460995fd1d4554156d1f",
            "282cb51464314102a606c0740dc6565a",
            "89c4e627cbcf4ec6bbe7ccf595760da5",
            "52c1c40b69bf43618799cc6d4718bb9b"
          ]
        },
        "id": "e5017922",
        "outputId": "37226cb5-5492-4f36-bb26-a52262dbf7d1"
      },
      "source": [
        "epochs = 25  # VAEs require more steps to train than vanilla AEs, due to dual-objective loss\n",
        "trainer = L.Trainer(max_epochs=epochs, devices=\"auto\", logger=wandb_logger, callbacks=RichProgressBar(leave=True))\n",
        "trainer.fit(model=vae, train_dataloaders=train_dl, val_dataloaders=val_dl)\n",
        "wandb.finish()"
      ],
      "execution_count": null,
      "outputs": [
        {
          "output_type": "stream",
          "name": "stderr",
          "text": [
            "INFO: 💡 Tip: For seamless cloud uploads and versioning, try installing [litmodels](https://pypi.org/project/litmodels/) to enable LitModelCheckpoint, which syncs automatically with the Lightning model registry.\n",
            "INFO:lightning.pytorch.utilities.rank_zero:💡 Tip: For seamless cloud uploads and versioning, try installing [litmodels](https://pypi.org/project/litmodels/) to enable LitModelCheckpoint, which syncs automatically with the Lightning model registry.\n",
            "INFO: GPU available: True (cuda), used: True\n",
            "INFO:lightning.pytorch.utilities.rank_zero:GPU available: True (cuda), used: True\n",
            "INFO: TPU available: False, using: 0 TPU cores\n",
            "INFO:lightning.pytorch.utilities.rank_zero:TPU available: False, using: 0 TPU cores\n",
            "INFO: HPU available: False, using: 0 HPUs\n",
            "INFO:lightning.pytorch.utilities.rank_zero:HPU available: False, using: 0 HPUs\n",
            "INFO: LOCAL_RANK: 0 - CUDA_VISIBLE_DEVICES: [0]\n",
            "INFO:lightning.pytorch.accelerators.cuda:LOCAL_RANK: 0 - CUDA_VISIBLE_DEVICES: [0]\n"
          ]
        },
        {
          "output_type": "display_data",
          "data": {
            "text/plain": [
              "┏━━━┳━━━━━━━━━┳━━━━━━━━━━┳━━━━━━━━┳━━━━━━┓\n",
              "┃\u001b[1;35m \u001b[0m\u001b[1;35m \u001b[0m\u001b[1;35m \u001b[0m┃\u001b[1;35m \u001b[0m\u001b[1;35mName   \u001b[0m\u001b[1;35m \u001b[0m┃\u001b[1;35m \u001b[0m\u001b[1;35mType    \u001b[0m\u001b[1;35m \u001b[0m┃\u001b[1;35m \u001b[0m\u001b[1;35mParams\u001b[0m\u001b[1;35m \u001b[0m┃\u001b[1;35m \u001b[0m\u001b[1;35mMode\u001b[0m\u001b[1;35m \u001b[0m┃\n",
              "┡━━━╇━━━━━━━━━╇━━━━━━━━━━╇━━━━━━━━╇━━━━━━┩\n",
              "│\u001b[2m \u001b[0m\u001b[2m0\u001b[0m\u001b[2m \u001b[0m│ encoder │ UNetDown │  4.7 M │ eval │\n",
              "│\u001b[2m \u001b[0m\u001b[2m1\u001b[0m\u001b[2m \u001b[0m│ decoder │ UNetUp   │  3.0 M │ eval │\n",
              "└───┴─────────┴──────────┴────────┴──────┘\n"
            ],
            "text/html": [
              "<pre style=\"white-space:pre;overflow-x:auto;line-height:normal;font-family:Menlo,'DejaVu Sans Mono',consolas,'Courier New',monospace\">┏━━━┳━━━━━━━━━┳━━━━━━━━━━┳━━━━━━━━┳━━━━━━┓\n",
              "┃<span style=\"color: #800080; text-decoration-color: #800080; font-weight: bold\">   </span>┃<span style=\"color: #800080; text-decoration-color: #800080; font-weight: bold\"> Name    </span>┃<span style=\"color: #800080; text-decoration-color: #800080; font-weight: bold\"> Type     </span>┃<span style=\"color: #800080; text-decoration-color: #800080; font-weight: bold\"> Params </span>┃<span style=\"color: #800080; text-decoration-color: #800080; font-weight: bold\"> Mode </span>┃\n",
              "┡━━━╇━━━━━━━━━╇━━━━━━━━━━╇━━━━━━━━╇━━━━━━┩\n",
              "│<span style=\"color: #7f7f7f; text-decoration-color: #7f7f7f\"> 0 </span>│ encoder │ UNetDown │  4.7 M │ eval │\n",
              "│<span style=\"color: #7f7f7f; text-decoration-color: #7f7f7f\"> 1 </span>│ decoder │ UNetUp   │  3.0 M │ eval │\n",
              "└───┴─────────┴──────────┴────────┴──────┘\n",
              "</pre>\n"
            ]
          },
          "metadata": {}
        },
        {
          "output_type": "display_data",
          "data": {
            "text/plain": [
              "\u001b[1mTrainable params\u001b[0m: 7.8 M                                                                                            \n",
              "\u001b[1mNon-trainable params\u001b[0m: 0                                                                                            \n",
              "\u001b[1mTotal params\u001b[0m: 7.8 M                                                                                                \n",
              "\u001b[1mTotal estimated model params size (MB)\u001b[0m: 31                                                                         \n",
              "\u001b[1mModules in train mode\u001b[0m: 0                                                                                           \n",
              "\u001b[1mModules in eval mode\u001b[0m: 81                                                                                           \n"
            ],
            "text/html": [
              "<pre style=\"white-space:pre;overflow-x:auto;line-height:normal;font-family:Menlo,'DejaVu Sans Mono',consolas,'Courier New',monospace\"><span style=\"font-weight: bold\">Trainable params</span>: 7.8 M                                                                                            \n",
              "<span style=\"font-weight: bold\">Non-trainable params</span>: 0                                                                                            \n",
              "<span style=\"font-weight: bold\">Total params</span>: 7.8 M                                                                                                \n",
              "<span style=\"font-weight: bold\">Total estimated model params size (MB)</span>: 31                                                                         \n",
              "<span style=\"font-weight: bold\">Modules in train mode</span>: 0                                                                                           \n",
              "<span style=\"font-weight: bold\">Modules in eval mode</span>: 81                                                                                           \n",
              "</pre>\n"
            ]
          },
          "metadata": {}
        },
        {
          "output_type": "display_data",
          "data": {
            "text/plain": [
              "Output()"
            ],
            "application/vnd.jupyter.widget-view+json": {
              "version_major": 2,
              "version_minor": 0,
              "model_id": "ce27a202aab14a22aa8cd8847656a2c8"
            }
          },
          "metadata": {}
        },
        {
          "output_type": "display_data",
          "data": {
            "text/plain": [
              "/usr/local/lib/python3.12/dist-packages/lightning/pytorch/loops/fit_loop.py:527: Found 82 module(s) in eval mode at\n",
              "the start of training. This may lead to unexpected behavior during training. If this is intentional, you can ignore\n",
              "this warning.\n"
            ],
            "text/html": [
              "<pre style=\"white-space:pre;overflow-x:auto;line-height:normal;font-family:Menlo,'DejaVu Sans Mono',consolas,'Courier New',monospace\">/usr/local/lib/python3.12/dist-packages/lightning/pytorch/loops/fit_loop.py:527: Found 82 module(s) in eval mode at\n",
              "the start of training. This may lead to unexpected behavior during training. If this is intentional, you can ignore\n",
              "this warning.\n",
              "</pre>\n"
            ]
          },
          "metadata": {}
        },
        {
          "output_type": "display_data",
          "data": {
            "text/plain": [],
            "text/html": [
              "<pre style=\"white-space:pre;overflow-x:auto;line-height:normal;font-family:Menlo,'DejaVu Sans Mono',consolas,'Courier New',monospace\"></pre>\n"
            ]
          },
          "metadata": {}
        },
        {
          "output_type": "display_data",
          "data": {
            "text/plain": [
              "Output()"
            ],
            "application/vnd.jupyter.widget-view+json": {
              "version_major": 2,
              "version_minor": 0,
              "model_id": "72c67f46176f4034b30d38fb7fd6b2a1"
            }
          },
          "metadata": {}
        },
        {
          "output_type": "display_data",
          "data": {
            "text/plain": [],
            "text/html": [
              "<pre style=\"white-space:pre;overflow-x:auto;line-height:normal;font-family:Menlo,'DejaVu Sans Mono',consolas,'Courier New',monospace\"></pre>\n"
            ]
          },
          "metadata": {}
        },
        {
          "output_type": "display_data",
          "data": {
            "text/plain": [
              "Output()"
            ],
            "application/vnd.jupyter.widget-view+json": {
              "version_major": 2,
              "version_minor": 0,
              "model_id": "42e436b7cc9946baba487ef03cc5904b"
            }
          },
          "metadata": {}
        },
        {
          "output_type": "display_data",
          "data": {
            "text/plain": [],
            "text/html": [
              "<pre style=\"white-space:pre;overflow-x:auto;line-height:normal;font-family:Menlo,'DejaVu Sans Mono',consolas,'Courier New',monospace\"></pre>\n"
            ]
          },
          "metadata": {}
        },
        {
          "output_type": "display_data",
          "data": {
            "text/plain": [
              "Output()"
            ],
            "application/vnd.jupyter.widget-view+json": {
              "version_major": 2,
              "version_minor": 0,
              "model_id": "cd0ee1e6d54f460995fd1d4554156d1f"
            }
          },
          "metadata": {}
        },
        {
          "output_type": "display_data",
          "data": {
            "text/plain": [],
            "text/html": [
              "<pre style=\"white-space:pre;overflow-x:auto;line-height:normal;font-family:Menlo,'DejaVu Sans Mono',consolas,'Courier New',monospace\"></pre>\n"
            ]
          },
          "metadata": {}
        },
        {
          "output_type": "display_data",
          "data": {
            "text/plain": [
              "Output()"
            ],
            "application/vnd.jupyter.widget-view+json": {
              "version_major": 2,
              "version_minor": 0,
              "model_id": "89c4e627cbcf4ec6bbe7ccf595760da5"
            }
          },
          "metadata": {}
        }
      ]
    }
  ]
}