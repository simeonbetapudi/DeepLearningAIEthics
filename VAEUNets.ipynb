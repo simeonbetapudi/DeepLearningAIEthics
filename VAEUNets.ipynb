{
  "nbformat": 4,
  "nbformat_minor": 0,
  "metadata": {
    "colab": {
      "provenance": [],
      "gpuType": "T4",
      "include_colab_link": true
    },
    "kernelspec": {
      "name": "python3",
      "display_name": "Python 3"
    },
    "language_info": {
      "name": "python"
    },
    "accelerator": "GPU",
    "widgets": {
      "application/vnd.jupyter.widget-state+json": {
        "628c416a92504ae6a1e0f1642f5794bb": {
          "model_module": "@jupyter-widgets/output",
          "model_name": "OutputModel",
          "model_module_version": "1.0.0",
          "state": {
            "_dom_classes": [],
            "_model_module": "@jupyter-widgets/output",
            "_model_module_version": "1.0.0",
            "_model_name": "OutputModel",
            "_view_count": null,
            "_view_module": "@jupyter-widgets/output",
            "_view_module_version": "1.0.0",
            "_view_name": "OutputView",
            "layout": "IPY_MODEL_f5221f4a2a62458cbbe01c240e5255c9",
            "msg_id": "",
            "outputs": [
              {
                "output_type": "display_data",
                "data": {
                  "text/plain": "Epoch 0/24 \u001b[38;2;98;6;224m━━━━━━━━━━━━━━━━━━━━━━━━━━━━━━━━━━━━━━\u001b[0m 469/469 \u001b[2m0:00:20 • 0:00:00\u001b[0m \u001b[2;4m22.88it/s\u001b[0m \u001b[3mv_num: gczc train/loss: 0.087\u001b[0m\n",
                  "text/html": "<pre style=\"white-space:pre;overflow-x:auto;line-height:normal;font-family:Menlo,'DejaVu Sans Mono',consolas,'Courier New',monospace\">Epoch 0/24 <span style=\"color: #6206e0; text-decoration-color: #6206e0\">━━━━━━━━━━━━━━━━━━━━━━━━━━━━━━━━━━━━━━</span> 469/469 <span style=\"color: #7f7f7f; text-decoration-color: #7f7f7f\">0:00:20 • 0:00:00</span> <span style=\"color: #7f7f7f; text-decoration-color: #7f7f7f; text-decoration: underline\">22.88it/s</span> <span style=\"font-style: italic\">v_num: gczc train/loss: 0.087</span>\n</pre>\n"
                },
                "metadata": {}
              }
            ]
          }
        },
        "f5221f4a2a62458cbbe01c240e5255c9": {
          "model_module": "@jupyter-widgets/base",
          "model_name": "LayoutModel",
          "model_module_version": "1.2.0",
          "state": {
            "_model_module": "@jupyter-widgets/base",
            "_model_module_version": "1.2.0",
            "_model_name": "LayoutModel",
            "_view_count": null,
            "_view_module": "@jupyter-widgets/base",
            "_view_module_version": "1.2.0",
            "_view_name": "LayoutView",
            "align_content": null,
            "align_items": null,
            "align_self": null,
            "border": null,
            "bottom": null,
            "display": null,
            "flex": null,
            "flex_flow": null,
            "grid_area": null,
            "grid_auto_columns": null,
            "grid_auto_flow": null,
            "grid_auto_rows": null,
            "grid_column": null,
            "grid_gap": null,
            "grid_row": null,
            "grid_template_areas": null,
            "grid_template_columns": null,
            "grid_template_rows": null,
            "height": null,
            "justify_content": null,
            "justify_items": null,
            "left": null,
            "margin": null,
            "max_height": null,
            "max_width": null,
            "min_height": null,
            "min_width": null,
            "object_fit": null,
            "object_position": null,
            "order": null,
            "overflow": null,
            "overflow_x": null,
            "overflow_y": null,
            "padding": null,
            "right": null,
            "top": null,
            "visibility": null,
            "width": null
          }
        },
        "eb59a5a72d014289a79112b9eb7b1e12": {
          "model_module": "@jupyter-widgets/output",
          "model_name": "OutputModel",
          "model_module_version": "1.0.0",
          "state": {
            "_dom_classes": [],
            "_model_module": "@jupyter-widgets/output",
            "_model_module_version": "1.0.0",
            "_model_name": "OutputModel",
            "_view_count": null,
            "_view_module": "@jupyter-widgets/output",
            "_view_module_version": "1.0.0",
            "_view_name": "OutputView",
            "layout": "IPY_MODEL_afe531d2b88f40b4933c021a19b7b1cb",
            "msg_id": "",
            "outputs": [
              {
                "output_type": "display_data",
                "data": {
                  "text/plain": "Epoch 1/24 \u001b[38;2;98;6;224m━━━━━━━━━━━━━━━━━━━━━━━━━━━━━━━━━\u001b[0m 469/469 \u001b[2m0:00:21 • 0:00:00\u001b[0m \u001b[2;4m22.14it/s\u001b[0m \u001b[3mv_num: gczc train/loss: 0.069     \u001b[0m\n                                                                                 \u001b[3mval/loss: 0.086                   \u001b[0m\n",
                  "text/html": "<pre style=\"white-space:pre;overflow-x:auto;line-height:normal;font-family:Menlo,'DejaVu Sans Mono',consolas,'Courier New',monospace\">Epoch 1/24 <span style=\"color: #6206e0; text-decoration-color: #6206e0\">━━━━━━━━━━━━━━━━━━━━━━━━━━━━━━━━━</span> 469/469 <span style=\"color: #7f7f7f; text-decoration-color: #7f7f7f\">0:00:21 • 0:00:00</span> <span style=\"color: #7f7f7f; text-decoration-color: #7f7f7f; text-decoration: underline\">22.14it/s</span> <span style=\"font-style: italic\">v_num: gczc train/loss: 0.069     </span>\n                                                                                 <span style=\"font-style: italic\">val/loss: 0.086                   </span>\n</pre>\n"
                },
                "metadata": {}
              }
            ]
          }
        },
        "afe531d2b88f40b4933c021a19b7b1cb": {
          "model_module": "@jupyter-widgets/base",
          "model_name": "LayoutModel",
          "model_module_version": "1.2.0",
          "state": {
            "_model_module": "@jupyter-widgets/base",
            "_model_module_version": "1.2.0",
            "_model_name": "LayoutModel",
            "_view_count": null,
            "_view_module": "@jupyter-widgets/base",
            "_view_module_version": "1.2.0",
            "_view_name": "LayoutView",
            "align_content": null,
            "align_items": null,
            "align_self": null,
            "border": null,
            "bottom": null,
            "display": null,
            "flex": null,
            "flex_flow": null,
            "grid_area": null,
            "grid_auto_columns": null,
            "grid_auto_flow": null,
            "grid_auto_rows": null,
            "grid_column": null,
            "grid_gap": null,
            "grid_row": null,
            "grid_template_areas": null,
            "grid_template_columns": null,
            "grid_template_rows": null,
            "height": null,
            "justify_content": null,
            "justify_items": null,
            "left": null,
            "margin": null,
            "max_height": null,
            "max_width": null,
            "min_height": null,
            "min_width": null,
            "object_fit": null,
            "object_position": null,
            "order": null,
            "overflow": null,
            "overflow_x": null,
            "overflow_y": null,
            "padding": null,
            "right": null,
            "top": null,
            "visibility": null,
            "width": null
          }
        },
        "9df6e7b174cb47c7a12c4e96f834acab": {
          "model_module": "@jupyter-widgets/output",
          "model_name": "OutputModel",
          "model_module_version": "1.0.0",
          "state": {
            "_dom_classes": [],
            "_model_module": "@jupyter-widgets/output",
            "_model_module_version": "1.0.0",
            "_model_name": "OutputModel",
            "_view_count": null,
            "_view_module": "@jupyter-widgets/output",
            "_view_module_version": "1.0.0",
            "_view_name": "OutputView",
            "layout": "IPY_MODEL_b73bccffb3144c3fb57cf228bcd8e4fe",
            "msg_id": "",
            "outputs": [
              {
                "output_type": "display_data",
                "data": {
                  "text/plain": "Epoch 2/24 \u001b[38;2;98;6;224m━━━━━━━━━━━━━━━━━━━━━━━━━━━━━━━━━\u001b[0m 469/469 \u001b[2m0:00:20 • 0:00:00\u001b[0m \u001b[2;4m22.97it/s\u001b[0m \u001b[3mv_num: gczc train/loss: 0.063     \u001b[0m\n                                                                                 \u001b[3mval/loss: 0.066                   \u001b[0m\n",
                  "text/html": "<pre style=\"white-space:pre;overflow-x:auto;line-height:normal;font-family:Menlo,'DejaVu Sans Mono',consolas,'Courier New',monospace\">Epoch 2/24 <span style=\"color: #6206e0; text-decoration-color: #6206e0\">━━━━━━━━━━━━━━━━━━━━━━━━━━━━━━━━━</span> 469/469 <span style=\"color: #7f7f7f; text-decoration-color: #7f7f7f\">0:00:20 • 0:00:00</span> <span style=\"color: #7f7f7f; text-decoration-color: #7f7f7f; text-decoration: underline\">22.97it/s</span> <span style=\"font-style: italic\">v_num: gczc train/loss: 0.063     </span>\n                                                                                 <span style=\"font-style: italic\">val/loss: 0.066                   </span>\n</pre>\n"
                },
                "metadata": {}
              }
            ]
          }
        },
        "b73bccffb3144c3fb57cf228bcd8e4fe": {
          "model_module": "@jupyter-widgets/base",
          "model_name": "LayoutModel",
          "model_module_version": "1.2.0",
          "state": {
            "_model_module": "@jupyter-widgets/base",
            "_model_module_version": "1.2.0",
            "_model_name": "LayoutModel",
            "_view_count": null,
            "_view_module": "@jupyter-widgets/base",
            "_view_module_version": "1.2.0",
            "_view_name": "LayoutView",
            "align_content": null,
            "align_items": null,
            "align_self": null,
            "border": null,
            "bottom": null,
            "display": null,
            "flex": null,
            "flex_flow": null,
            "grid_area": null,
            "grid_auto_columns": null,
            "grid_auto_flow": null,
            "grid_auto_rows": null,
            "grid_column": null,
            "grid_gap": null,
            "grid_row": null,
            "grid_template_areas": null,
            "grid_template_columns": null,
            "grid_template_rows": null,
            "height": null,
            "justify_content": null,
            "justify_items": null,
            "left": null,
            "margin": null,
            "max_height": null,
            "max_width": null,
            "min_height": null,
            "min_width": null,
            "object_fit": null,
            "object_position": null,
            "order": null,
            "overflow": null,
            "overflow_x": null,
            "overflow_y": null,
            "padding": null,
            "right": null,
            "top": null,
            "visibility": null,
            "width": null
          }
        },
        "6a626dd20bb048dcb933338b694bcbb2": {
          "model_module": "@jupyter-widgets/output",
          "model_name": "OutputModel",
          "model_module_version": "1.0.0",
          "state": {
            "_dom_classes": [],
            "_model_module": "@jupyter-widgets/output",
            "_model_module_version": "1.0.0",
            "_model_name": "OutputModel",
            "_view_count": null,
            "_view_module": "@jupyter-widgets/output",
            "_view_module_version": "1.0.0",
            "_view_name": "OutputView",
            "layout": "IPY_MODEL_4a8559eaaf5e4ebfab35aea6a2877399",
            "msg_id": "",
            "outputs": [
              {
                "output_type": "display_data",
                "data": {
                  "text/plain": "Epoch 3/24 \u001b[38;2;98;6;224m━━━━━━━━━━━━━━━━━━━━━━━━━━━━━━━━━\u001b[0m 469/469 \u001b[2m0:00:20 • 0:00:00\u001b[0m \u001b[2;4m22.92it/s\u001b[0m \u001b[3mv_num: gczc train/loss: 0.061     \u001b[0m\n                                                                                 \u001b[3mval/loss: 0.062                   \u001b[0m\n",
                  "text/html": "<pre style=\"white-space:pre;overflow-x:auto;line-height:normal;font-family:Menlo,'DejaVu Sans Mono',consolas,'Courier New',monospace\">Epoch 3/24 <span style=\"color: #6206e0; text-decoration-color: #6206e0\">━━━━━━━━━━━━━━━━━━━━━━━━━━━━━━━━━</span> 469/469 <span style=\"color: #7f7f7f; text-decoration-color: #7f7f7f\">0:00:20 • 0:00:00</span> <span style=\"color: #7f7f7f; text-decoration-color: #7f7f7f; text-decoration: underline\">22.92it/s</span> <span style=\"font-style: italic\">v_num: gczc train/loss: 0.061     </span>\n                                                                                 <span style=\"font-style: italic\">val/loss: 0.062                   </span>\n</pre>\n"
                },
                "metadata": {}
              }
            ]
          }
        },
        "4a8559eaaf5e4ebfab35aea6a2877399": {
          "model_module": "@jupyter-widgets/base",
          "model_name": "LayoutModel",
          "model_module_version": "1.2.0",
          "state": {
            "_model_module": "@jupyter-widgets/base",
            "_model_module_version": "1.2.0",
            "_model_name": "LayoutModel",
            "_view_count": null,
            "_view_module": "@jupyter-widgets/base",
            "_view_module_version": "1.2.0",
            "_view_name": "LayoutView",
            "align_content": null,
            "align_items": null,
            "align_self": null,
            "border": null,
            "bottom": null,
            "display": null,
            "flex": null,
            "flex_flow": null,
            "grid_area": null,
            "grid_auto_columns": null,
            "grid_auto_flow": null,
            "grid_auto_rows": null,
            "grid_column": null,
            "grid_gap": null,
            "grid_row": null,
            "grid_template_areas": null,
            "grid_template_columns": null,
            "grid_template_rows": null,
            "height": null,
            "justify_content": null,
            "justify_items": null,
            "left": null,
            "margin": null,
            "max_height": null,
            "max_width": null,
            "min_height": null,
            "min_width": null,
            "object_fit": null,
            "object_position": null,
            "order": null,
            "overflow": null,
            "overflow_x": null,
            "overflow_y": null,
            "padding": null,
            "right": null,
            "top": null,
            "visibility": null,
            "width": null
          }
        },
        "6be38872a600431786bfc276cd733af8": {
          "model_module": "@jupyter-widgets/output",
          "model_name": "OutputModel",
          "model_module_version": "1.0.0",
          "state": {
            "_dom_classes": [],
            "_model_module": "@jupyter-widgets/output",
            "_model_module_version": "1.0.0",
            "_model_name": "OutputModel",
            "_view_count": null,
            "_view_module": "@jupyter-widgets/output",
            "_view_module_version": "1.0.0",
            "_view_name": "OutputView",
            "layout": "IPY_MODEL_c1ace9fe989e491f89790cfba1a16f2f",
            "msg_id": "",
            "outputs": [
              {
                "output_type": "display_data",
                "data": {
                  "text/plain": "Epoch 4/24 \u001b[38;2;98;6;224m━━━━━━━━━━━━━━━━━━━━━━━━━━━━━━━━━\u001b[0m 469/469 \u001b[2m0:00:20 • 0:00:00\u001b[0m \u001b[2;4m23.28it/s\u001b[0m \u001b[3mv_num: gczc train/loss: 0.062     \u001b[0m\n                                                                                 \u001b[3mval/loss: 0.060                   \u001b[0m\n",
                  "text/html": "<pre style=\"white-space:pre;overflow-x:auto;line-height:normal;font-family:Menlo,'DejaVu Sans Mono',consolas,'Courier New',monospace\">Epoch 4/24 <span style=\"color: #6206e0; text-decoration-color: #6206e0\">━━━━━━━━━━━━━━━━━━━━━━━━━━━━━━━━━</span> 469/469 <span style=\"color: #7f7f7f; text-decoration-color: #7f7f7f\">0:00:20 • 0:00:00</span> <span style=\"color: #7f7f7f; text-decoration-color: #7f7f7f; text-decoration: underline\">23.28it/s</span> <span style=\"font-style: italic\">v_num: gczc train/loss: 0.062     </span>\n                                                                                 <span style=\"font-style: italic\">val/loss: 0.060                   </span>\n</pre>\n"
                },
                "metadata": {}
              }
            ]
          }
        },
        "c1ace9fe989e491f89790cfba1a16f2f": {
          "model_module": "@jupyter-widgets/base",
          "model_name": "LayoutModel",
          "model_module_version": "1.2.0",
          "state": {
            "_model_module": "@jupyter-widgets/base",
            "_model_module_version": "1.2.0",
            "_model_name": "LayoutModel",
            "_view_count": null,
            "_view_module": "@jupyter-widgets/base",
            "_view_module_version": "1.2.0",
            "_view_name": "LayoutView",
            "align_content": null,
            "align_items": null,
            "align_self": null,
            "border": null,
            "bottom": null,
            "display": null,
            "flex": null,
            "flex_flow": null,
            "grid_area": null,
            "grid_auto_columns": null,
            "grid_auto_flow": null,
            "grid_auto_rows": null,
            "grid_column": null,
            "grid_gap": null,
            "grid_row": null,
            "grid_template_areas": null,
            "grid_template_columns": null,
            "grid_template_rows": null,
            "height": null,
            "justify_content": null,
            "justify_items": null,
            "left": null,
            "margin": null,
            "max_height": null,
            "max_width": null,
            "min_height": null,
            "min_width": null,
            "object_fit": null,
            "object_position": null,
            "order": null,
            "overflow": null,
            "overflow_x": null,
            "overflow_y": null,
            "padding": null,
            "right": null,
            "top": null,
            "visibility": null,
            "width": null
          }
        },
        "7fa6f74966d2442dbc2adda57a7109af": {
          "model_module": "@jupyter-widgets/output",
          "model_name": "OutputModel",
          "model_module_version": "1.0.0",
          "state": {
            "_dom_classes": [],
            "_model_module": "@jupyter-widgets/output",
            "_model_module_version": "1.0.0",
            "_model_name": "OutputModel",
            "_view_count": null,
            "_view_module": "@jupyter-widgets/output",
            "_view_module_version": "1.0.0",
            "_view_name": "OutputView",
            "layout": "IPY_MODEL_c795eb8754a14e8c8f2c5a1346a06b98",
            "msg_id": "",
            "outputs": [
              {
                "output_type": "display_data",
                "data": {
                  "text/plain": "Epoch 5/24 \u001b[38;2;98;6;224m━━━━━━━━━━━━━━━━━━━━━━━━━━━━━━━━━\u001b[0m 469/469 \u001b[2m0:00:20 • 0:00:00\u001b[0m \u001b[2;4m22.95it/s\u001b[0m \u001b[3mv_num: gczc train/loss: 0.060     \u001b[0m\n                                                                                 \u001b[3mval/loss: 0.059                   \u001b[0m\n",
                  "text/html": "<pre style=\"white-space:pre;overflow-x:auto;line-height:normal;font-family:Menlo,'DejaVu Sans Mono',consolas,'Courier New',monospace\">Epoch 5/24 <span style=\"color: #6206e0; text-decoration-color: #6206e0\">━━━━━━━━━━━━━━━━━━━━━━━━━━━━━━━━━</span> 469/469 <span style=\"color: #7f7f7f; text-decoration-color: #7f7f7f\">0:00:20 • 0:00:00</span> <span style=\"color: #7f7f7f; text-decoration-color: #7f7f7f; text-decoration: underline\">22.95it/s</span> <span style=\"font-style: italic\">v_num: gczc train/loss: 0.060     </span>\n                                                                                 <span style=\"font-style: italic\">val/loss: 0.059                   </span>\n</pre>\n"
                },
                "metadata": {}
              }
            ]
          }
        },
        "c795eb8754a14e8c8f2c5a1346a06b98": {
          "model_module": "@jupyter-widgets/base",
          "model_name": "LayoutModel",
          "model_module_version": "1.2.0",
          "state": {
            "_model_module": "@jupyter-widgets/base",
            "_model_module_version": "1.2.0",
            "_model_name": "LayoutModel",
            "_view_count": null,
            "_view_module": "@jupyter-widgets/base",
            "_view_module_version": "1.2.0",
            "_view_name": "LayoutView",
            "align_content": null,
            "align_items": null,
            "align_self": null,
            "border": null,
            "bottom": null,
            "display": null,
            "flex": null,
            "flex_flow": null,
            "grid_area": null,
            "grid_auto_columns": null,
            "grid_auto_flow": null,
            "grid_auto_rows": null,
            "grid_column": null,
            "grid_gap": null,
            "grid_row": null,
            "grid_template_areas": null,
            "grid_template_columns": null,
            "grid_template_rows": null,
            "height": null,
            "justify_content": null,
            "justify_items": null,
            "left": null,
            "margin": null,
            "max_height": null,
            "max_width": null,
            "min_height": null,
            "min_width": null,
            "object_fit": null,
            "object_position": null,
            "order": null,
            "overflow": null,
            "overflow_x": null,
            "overflow_y": null,
            "padding": null,
            "right": null,
            "top": null,
            "visibility": null,
            "width": null
          }
        },
        "69faf9debc97431e9a1059679d139c8e": {
          "model_module": "@jupyter-widgets/output",
          "model_name": "OutputModel",
          "model_module_version": "1.0.0",
          "state": {
            "_dom_classes": [],
            "_model_module": "@jupyter-widgets/output",
            "_model_module_version": "1.0.0",
            "_model_name": "OutputModel",
            "_view_count": null,
            "_view_module": "@jupyter-widgets/output",
            "_view_module_version": "1.0.0",
            "_view_name": "OutputView",
            "layout": "IPY_MODEL_863bfac4b6134672861c10703fc36909",
            "msg_id": "",
            "outputs": [
              {
                "output_type": "display_data",
                "data": {
                  "text/plain": "Epoch 6/24 \u001b[38;2;98;6;224m━━━━━━━━━━━━━━━━━━━━━━━━━━━━━━━━━\u001b[0m 469/469 \u001b[2m0:00:19 • 0:00:00\u001b[0m \u001b[2;4m24.25it/s\u001b[0m \u001b[3mv_num: gczc train/loss: 0.060     \u001b[0m\n                                                                                 \u001b[3mval/loss: 0.059                   \u001b[0m\n",
                  "text/html": "<pre style=\"white-space:pre;overflow-x:auto;line-height:normal;font-family:Menlo,'DejaVu Sans Mono',consolas,'Courier New',monospace\">Epoch 6/24 <span style=\"color: #6206e0; text-decoration-color: #6206e0\">━━━━━━━━━━━━━━━━━━━━━━━━━━━━━━━━━</span> 469/469 <span style=\"color: #7f7f7f; text-decoration-color: #7f7f7f\">0:00:19 • 0:00:00</span> <span style=\"color: #7f7f7f; text-decoration-color: #7f7f7f; text-decoration: underline\">24.25it/s</span> <span style=\"font-style: italic\">v_num: gczc train/loss: 0.060     </span>\n                                                                                 <span style=\"font-style: italic\">val/loss: 0.059                   </span>\n</pre>\n"
                },
                "metadata": {}
              }
            ]
          }
        },
        "863bfac4b6134672861c10703fc36909": {
          "model_module": "@jupyter-widgets/base",
          "model_name": "LayoutModel",
          "model_module_version": "1.2.0",
          "state": {
            "_model_module": "@jupyter-widgets/base",
            "_model_module_version": "1.2.0",
            "_model_name": "LayoutModel",
            "_view_count": null,
            "_view_module": "@jupyter-widgets/base",
            "_view_module_version": "1.2.0",
            "_view_name": "LayoutView",
            "align_content": null,
            "align_items": null,
            "align_self": null,
            "border": null,
            "bottom": null,
            "display": null,
            "flex": null,
            "flex_flow": null,
            "grid_area": null,
            "grid_auto_columns": null,
            "grid_auto_flow": null,
            "grid_auto_rows": null,
            "grid_column": null,
            "grid_gap": null,
            "grid_row": null,
            "grid_template_areas": null,
            "grid_template_columns": null,
            "grid_template_rows": null,
            "height": null,
            "justify_content": null,
            "justify_items": null,
            "left": null,
            "margin": null,
            "max_height": null,
            "max_width": null,
            "min_height": null,
            "min_width": null,
            "object_fit": null,
            "object_position": null,
            "order": null,
            "overflow": null,
            "overflow_x": null,
            "overflow_y": null,
            "padding": null,
            "right": null,
            "top": null,
            "visibility": null,
            "width": null
          }
        },
        "c9b0d505eb9443439ac19c6b304371ba": {
          "model_module": "@jupyter-widgets/output",
          "model_name": "OutputModel",
          "model_module_version": "1.0.0",
          "state": {
            "_dom_classes": [],
            "_model_module": "@jupyter-widgets/output",
            "_model_module_version": "1.0.0",
            "_model_name": "OutputModel",
            "_view_count": null,
            "_view_module": "@jupyter-widgets/output",
            "_view_module_version": "1.0.0",
            "_view_name": "OutputView",
            "layout": "IPY_MODEL_5b8a1332824f496bb04e56df20257579",
            "msg_id": "",
            "outputs": [
              {
                "output_type": "display_data",
                "data": {
                  "text/plain": "Epoch 7/24 \u001b[38;2;98;6;224m━━━━━━━━━━━━━━━━━━━━━━━━━━━━━━━━━\u001b[0m 469/469 \u001b[2m0:00:19 • 0:00:00\u001b[0m \u001b[2;4m24.23it/s\u001b[0m \u001b[3mv_num: gczc train/loss: 0.060     \u001b[0m\n                                                                                 \u001b[3mval/loss: 0.059                   \u001b[0m\n",
                  "text/html": "<pre style=\"white-space:pre;overflow-x:auto;line-height:normal;font-family:Menlo,'DejaVu Sans Mono',consolas,'Courier New',monospace\">Epoch 7/24 <span style=\"color: #6206e0; text-decoration-color: #6206e0\">━━━━━━━━━━━━━━━━━━━━━━━━━━━━━━━━━</span> 469/469 <span style=\"color: #7f7f7f; text-decoration-color: #7f7f7f\">0:00:19 • 0:00:00</span> <span style=\"color: #7f7f7f; text-decoration-color: #7f7f7f; text-decoration: underline\">24.23it/s</span> <span style=\"font-style: italic\">v_num: gczc train/loss: 0.060     </span>\n                                                                                 <span style=\"font-style: italic\">val/loss: 0.059                   </span>\n</pre>\n"
                },
                "metadata": {}
              }
            ]
          }
        },
        "5b8a1332824f496bb04e56df20257579": {
          "model_module": "@jupyter-widgets/base",
          "model_name": "LayoutModel",
          "model_module_version": "1.2.0",
          "state": {
            "_model_module": "@jupyter-widgets/base",
            "_model_module_version": "1.2.0",
            "_model_name": "LayoutModel",
            "_view_count": null,
            "_view_module": "@jupyter-widgets/base",
            "_view_module_version": "1.2.0",
            "_view_name": "LayoutView",
            "align_content": null,
            "align_items": null,
            "align_self": null,
            "border": null,
            "bottom": null,
            "display": null,
            "flex": null,
            "flex_flow": null,
            "grid_area": null,
            "grid_auto_columns": null,
            "grid_auto_flow": null,
            "grid_auto_rows": null,
            "grid_column": null,
            "grid_gap": null,
            "grid_row": null,
            "grid_template_areas": null,
            "grid_template_columns": null,
            "grid_template_rows": null,
            "height": null,
            "justify_content": null,
            "justify_items": null,
            "left": null,
            "margin": null,
            "max_height": null,
            "max_width": null,
            "min_height": null,
            "min_width": null,
            "object_fit": null,
            "object_position": null,
            "order": null,
            "overflow": null,
            "overflow_x": null,
            "overflow_y": null,
            "padding": null,
            "right": null,
            "top": null,
            "visibility": null,
            "width": null
          }
        },
        "4065a5d86b95496fad59763775296cd2": {
          "model_module": "@jupyter-widgets/output",
          "model_name": "OutputModel",
          "model_module_version": "1.0.0",
          "state": {
            "_dom_classes": [],
            "_model_module": "@jupyter-widgets/output",
            "_model_module_version": "1.0.0",
            "_model_name": "OutputModel",
            "_view_count": null,
            "_view_module": "@jupyter-widgets/output",
            "_view_module_version": "1.0.0",
            "_view_name": "OutputView",
            "layout": "IPY_MODEL_583297d0f9d24a0c87bbafa7ded74496",
            "msg_id": "",
            "outputs": [
              {
                "output_type": "display_data",
                "data": {
                  "text/plain": "Epoch 8/24 \u001b[38;2;98;6;224m━━━━━━━━━━━━━━━━━━━━━━━━━━━━━━━━━\u001b[0m 469/469 \u001b[2m0:00:20 • 0:00:00\u001b[0m \u001b[2;4m22.75it/s\u001b[0m \u001b[3mv_num: gczc train/loss: 0.058     \u001b[0m\n                                                                                 \u001b[3mval/loss: 0.059                   \u001b[0m\n",
                  "text/html": "<pre style=\"white-space:pre;overflow-x:auto;line-height:normal;font-family:Menlo,'DejaVu Sans Mono',consolas,'Courier New',monospace\">Epoch 8/24 <span style=\"color: #6206e0; text-decoration-color: #6206e0\">━━━━━━━━━━━━━━━━━━━━━━━━━━━━━━━━━</span> 469/469 <span style=\"color: #7f7f7f; text-decoration-color: #7f7f7f\">0:00:20 • 0:00:00</span> <span style=\"color: #7f7f7f; text-decoration-color: #7f7f7f; text-decoration: underline\">22.75it/s</span> <span style=\"font-style: italic\">v_num: gczc train/loss: 0.058     </span>\n                                                                                 <span style=\"font-style: italic\">val/loss: 0.059                   </span>\n</pre>\n"
                },
                "metadata": {}
              }
            ]
          }
        },
        "583297d0f9d24a0c87bbafa7ded74496": {
          "model_module": "@jupyter-widgets/base",
          "model_name": "LayoutModel",
          "model_module_version": "1.2.0",
          "state": {
            "_model_module": "@jupyter-widgets/base",
            "_model_module_version": "1.2.0",
            "_model_name": "LayoutModel",
            "_view_count": null,
            "_view_module": "@jupyter-widgets/base",
            "_view_module_version": "1.2.0",
            "_view_name": "LayoutView",
            "align_content": null,
            "align_items": null,
            "align_self": null,
            "border": null,
            "bottom": null,
            "display": null,
            "flex": null,
            "flex_flow": null,
            "grid_area": null,
            "grid_auto_columns": null,
            "grid_auto_flow": null,
            "grid_auto_rows": null,
            "grid_column": null,
            "grid_gap": null,
            "grid_row": null,
            "grid_template_areas": null,
            "grid_template_columns": null,
            "grid_template_rows": null,
            "height": null,
            "justify_content": null,
            "justify_items": null,
            "left": null,
            "margin": null,
            "max_height": null,
            "max_width": null,
            "min_height": null,
            "min_width": null,
            "object_fit": null,
            "object_position": null,
            "order": null,
            "overflow": null,
            "overflow_x": null,
            "overflow_y": null,
            "padding": null,
            "right": null,
            "top": null,
            "visibility": null,
            "width": null
          }
        },
        "5cad3daec8eb400596fc962c9e67558a": {
          "model_module": "@jupyter-widgets/output",
          "model_name": "OutputModel",
          "model_module_version": "1.0.0",
          "state": {
            "_dom_classes": [],
            "_model_module": "@jupyter-widgets/output",
            "_model_module_version": "1.0.0",
            "_model_name": "OutputModel",
            "_view_count": null,
            "_view_module": "@jupyter-widgets/output",
            "_view_module_version": "1.0.0",
            "_view_name": "OutputView",
            "layout": "IPY_MODEL_43917dcf94e04d04a774d6a9dc505439",
            "msg_id": "",
            "outputs": [
              {
                "output_type": "display_data",
                "data": {
                  "text/plain": "Epoch 9/24 \u001b[38;2;98;6;224m━━━━━━━━━━━━━━━━━━━━━━━━━━━━━━━━━\u001b[0m 469/469 \u001b[2m0:00:20 • 0:00:00\u001b[0m \u001b[2;4m23.29it/s\u001b[0m \u001b[3mv_num: gczc train/loss: 0.057     \u001b[0m\n                                                                                 \u001b[3mval/loss: 0.059                   \u001b[0m\n",
                  "text/html": "<pre style=\"white-space:pre;overflow-x:auto;line-height:normal;font-family:Menlo,'DejaVu Sans Mono',consolas,'Courier New',monospace\">Epoch 9/24 <span style=\"color: #6206e0; text-decoration-color: #6206e0\">━━━━━━━━━━━━━━━━━━━━━━━━━━━━━━━━━</span> 469/469 <span style=\"color: #7f7f7f; text-decoration-color: #7f7f7f\">0:00:20 • 0:00:00</span> <span style=\"color: #7f7f7f; text-decoration-color: #7f7f7f; text-decoration: underline\">23.29it/s</span> <span style=\"font-style: italic\">v_num: gczc train/loss: 0.057     </span>\n                                                                                 <span style=\"font-style: italic\">val/loss: 0.059                   </span>\n</pre>\n"
                },
                "metadata": {}
              }
            ]
          }
        },
        "43917dcf94e04d04a774d6a9dc505439": {
          "model_module": "@jupyter-widgets/base",
          "model_name": "LayoutModel",
          "model_module_version": "1.2.0",
          "state": {
            "_model_module": "@jupyter-widgets/base",
            "_model_module_version": "1.2.0",
            "_model_name": "LayoutModel",
            "_view_count": null,
            "_view_module": "@jupyter-widgets/base",
            "_view_module_version": "1.2.0",
            "_view_name": "LayoutView",
            "align_content": null,
            "align_items": null,
            "align_self": null,
            "border": null,
            "bottom": null,
            "display": null,
            "flex": null,
            "flex_flow": null,
            "grid_area": null,
            "grid_auto_columns": null,
            "grid_auto_flow": null,
            "grid_auto_rows": null,
            "grid_column": null,
            "grid_gap": null,
            "grid_row": null,
            "grid_template_areas": null,
            "grid_template_columns": null,
            "grid_template_rows": null,
            "height": null,
            "justify_content": null,
            "justify_items": null,
            "left": null,
            "margin": null,
            "max_height": null,
            "max_width": null,
            "min_height": null,
            "min_width": null,
            "object_fit": null,
            "object_position": null,
            "order": null,
            "overflow": null,
            "overflow_x": null,
            "overflow_y": null,
            "padding": null,
            "right": null,
            "top": null,
            "visibility": null,
            "width": null
          }
        },
        "bb7dabac0c524d86bfccefe5e2958b67": {
          "model_module": "@jupyter-widgets/output",
          "model_name": "OutputModel",
          "model_module_version": "1.0.0",
          "state": {
            "_dom_classes": [],
            "_model_module": "@jupyter-widgets/output",
            "_model_module_version": "1.0.0",
            "_model_name": "OutputModel",
            "_view_count": null,
            "_view_module": "@jupyter-widgets/output",
            "_view_module_version": "1.0.0",
            "_view_name": "OutputView",
            "layout": "IPY_MODEL_03a0e977f12e48dda42df02d23938866",
            "msg_id": "",
            "outputs": [
              {
                "output_type": "display_data",
                "data": {
                  "text/plain": "Epoch 10/24 \u001b[38;2;98;6;224m━━━━━━━━━━━━━━━━━━━━━━━━━━━━━━━━\u001b[0m 469/469 \u001b[2m0:00:19 • 0:00:00\u001b[0m \u001b[2;4m24.25it/s\u001b[0m \u001b[3mv_num: gczc train/loss: 0.060     \u001b[0m\n                                                                                 \u001b[3mval/loss: 0.058                   \u001b[0m\n",
                  "text/html": "<pre style=\"white-space:pre;overflow-x:auto;line-height:normal;font-family:Menlo,'DejaVu Sans Mono',consolas,'Courier New',monospace\">Epoch 10/24 <span style=\"color: #6206e0; text-decoration-color: #6206e0\">━━━━━━━━━━━━━━━━━━━━━━━━━━━━━━━━</span> 469/469 <span style=\"color: #7f7f7f; text-decoration-color: #7f7f7f\">0:00:19 • 0:00:00</span> <span style=\"color: #7f7f7f; text-decoration-color: #7f7f7f; text-decoration: underline\">24.25it/s</span> <span style=\"font-style: italic\">v_num: gczc train/loss: 0.060     </span>\n                                                                                 <span style=\"font-style: italic\">val/loss: 0.058                   </span>\n</pre>\n"
                },
                "metadata": {}
              }
            ]
          }
        },
        "03a0e977f12e48dda42df02d23938866": {
          "model_module": "@jupyter-widgets/base",
          "model_name": "LayoutModel",
          "model_module_version": "1.2.0",
          "state": {
            "_model_module": "@jupyter-widgets/base",
            "_model_module_version": "1.2.0",
            "_model_name": "LayoutModel",
            "_view_count": null,
            "_view_module": "@jupyter-widgets/base",
            "_view_module_version": "1.2.0",
            "_view_name": "LayoutView",
            "align_content": null,
            "align_items": null,
            "align_self": null,
            "border": null,
            "bottom": null,
            "display": null,
            "flex": null,
            "flex_flow": null,
            "grid_area": null,
            "grid_auto_columns": null,
            "grid_auto_flow": null,
            "grid_auto_rows": null,
            "grid_column": null,
            "grid_gap": null,
            "grid_row": null,
            "grid_template_areas": null,
            "grid_template_columns": null,
            "grid_template_rows": null,
            "height": null,
            "justify_content": null,
            "justify_items": null,
            "left": null,
            "margin": null,
            "max_height": null,
            "max_width": null,
            "min_height": null,
            "min_width": null,
            "object_fit": null,
            "object_position": null,
            "order": null,
            "overflow": null,
            "overflow_x": null,
            "overflow_y": null,
            "padding": null,
            "right": null,
            "top": null,
            "visibility": null,
            "width": null
          }
        },
        "df52be995c854f6f809033dd7284b403": {
          "model_module": "@jupyter-widgets/output",
          "model_name": "OutputModel",
          "model_module_version": "1.0.0",
          "state": {
            "_dom_classes": [],
            "_model_module": "@jupyter-widgets/output",
            "_model_module_version": "1.0.0",
            "_model_name": "OutputModel",
            "_view_count": null,
            "_view_module": "@jupyter-widgets/output",
            "_view_module_version": "1.0.0",
            "_view_name": "OutputView",
            "layout": "IPY_MODEL_0c0da392e49b4ae4a1da6accfa6ee0dd",
            "msg_id": "",
            "outputs": [
              {
                "output_type": "display_data",
                "data": {
                  "text/plain": "Epoch 11/24 \u001b[38;2;98;6;224m━━━━━━━━━━━━━━━━━━━━━━━━━━━━━━━━\u001b[0m 469/469 \u001b[2m0:00:19 • 0:00:00\u001b[0m \u001b[2;4m24.19it/s\u001b[0m \u001b[3mv_num: gczc train/loss: 0.057     \u001b[0m\n                                                                                 \u001b[3mval/loss: 0.058                   \u001b[0m\n",
                  "text/html": "<pre style=\"white-space:pre;overflow-x:auto;line-height:normal;font-family:Menlo,'DejaVu Sans Mono',consolas,'Courier New',monospace\">Epoch 11/24 <span style=\"color: #6206e0; text-decoration-color: #6206e0\">━━━━━━━━━━━━━━━━━━━━━━━━━━━━━━━━</span> 469/469 <span style=\"color: #7f7f7f; text-decoration-color: #7f7f7f\">0:00:19 • 0:00:00</span> <span style=\"color: #7f7f7f; text-decoration-color: #7f7f7f; text-decoration: underline\">24.19it/s</span> <span style=\"font-style: italic\">v_num: gczc train/loss: 0.057     </span>\n                                                                                 <span style=\"font-style: italic\">val/loss: 0.058                   </span>\n</pre>\n"
                },
                "metadata": {}
              }
            ]
          }
        },
        "0c0da392e49b4ae4a1da6accfa6ee0dd": {
          "model_module": "@jupyter-widgets/base",
          "model_name": "LayoutModel",
          "model_module_version": "1.2.0",
          "state": {
            "_model_module": "@jupyter-widgets/base",
            "_model_module_version": "1.2.0",
            "_model_name": "LayoutModel",
            "_view_count": null,
            "_view_module": "@jupyter-widgets/base",
            "_view_module_version": "1.2.0",
            "_view_name": "LayoutView",
            "align_content": null,
            "align_items": null,
            "align_self": null,
            "border": null,
            "bottom": null,
            "display": null,
            "flex": null,
            "flex_flow": null,
            "grid_area": null,
            "grid_auto_columns": null,
            "grid_auto_flow": null,
            "grid_auto_rows": null,
            "grid_column": null,
            "grid_gap": null,
            "grid_row": null,
            "grid_template_areas": null,
            "grid_template_columns": null,
            "grid_template_rows": null,
            "height": null,
            "justify_content": null,
            "justify_items": null,
            "left": null,
            "margin": null,
            "max_height": null,
            "max_width": null,
            "min_height": null,
            "min_width": null,
            "object_fit": null,
            "object_position": null,
            "order": null,
            "overflow": null,
            "overflow_x": null,
            "overflow_y": null,
            "padding": null,
            "right": null,
            "top": null,
            "visibility": null,
            "width": null
          }
        },
        "7d9e8c8ea0e04d05a3f27d61302ba654": {
          "model_module": "@jupyter-widgets/output",
          "model_name": "OutputModel",
          "model_module_version": "1.0.0",
          "state": {
            "_dom_classes": [],
            "_model_module": "@jupyter-widgets/output",
            "_model_module_version": "1.0.0",
            "_model_name": "OutputModel",
            "_view_count": null,
            "_view_module": "@jupyter-widgets/output",
            "_view_module_version": "1.0.0",
            "_view_name": "OutputView",
            "layout": "IPY_MODEL_266bf3c0dc49427da86e538b11e8b85d",
            "msg_id": "",
            "outputs": [
              {
                "output_type": "display_data",
                "data": {
                  "text/plain": "Epoch 12/24 \u001b[38;2;98;6;224m━━━━━━━━━━━━━━━━━━━━━━━━━━━━━━━━\u001b[0m 469/469 \u001b[2m0:00:20 • 0:00:00\u001b[0m \u001b[2;4m23.09it/s\u001b[0m \u001b[3mv_num: gczc train/loss: 0.059     \u001b[0m\n                                                                                 \u001b[3mval/loss: 0.058                   \u001b[0m\n",
                  "text/html": "<pre style=\"white-space:pre;overflow-x:auto;line-height:normal;font-family:Menlo,'DejaVu Sans Mono',consolas,'Courier New',monospace\">Epoch 12/24 <span style=\"color: #6206e0; text-decoration-color: #6206e0\">━━━━━━━━━━━━━━━━━━━━━━━━━━━━━━━━</span> 469/469 <span style=\"color: #7f7f7f; text-decoration-color: #7f7f7f\">0:00:20 • 0:00:00</span> <span style=\"color: #7f7f7f; text-decoration-color: #7f7f7f; text-decoration: underline\">23.09it/s</span> <span style=\"font-style: italic\">v_num: gczc train/loss: 0.059     </span>\n                                                                                 <span style=\"font-style: italic\">val/loss: 0.058                   </span>\n</pre>\n"
                },
                "metadata": {}
              }
            ]
          }
        },
        "266bf3c0dc49427da86e538b11e8b85d": {
          "model_module": "@jupyter-widgets/base",
          "model_name": "LayoutModel",
          "model_module_version": "1.2.0",
          "state": {
            "_model_module": "@jupyter-widgets/base",
            "_model_module_version": "1.2.0",
            "_model_name": "LayoutModel",
            "_view_count": null,
            "_view_module": "@jupyter-widgets/base",
            "_view_module_version": "1.2.0",
            "_view_name": "LayoutView",
            "align_content": null,
            "align_items": null,
            "align_self": null,
            "border": null,
            "bottom": null,
            "display": null,
            "flex": null,
            "flex_flow": null,
            "grid_area": null,
            "grid_auto_columns": null,
            "grid_auto_flow": null,
            "grid_auto_rows": null,
            "grid_column": null,
            "grid_gap": null,
            "grid_row": null,
            "grid_template_areas": null,
            "grid_template_columns": null,
            "grid_template_rows": null,
            "height": null,
            "justify_content": null,
            "justify_items": null,
            "left": null,
            "margin": null,
            "max_height": null,
            "max_width": null,
            "min_height": null,
            "min_width": null,
            "object_fit": null,
            "object_position": null,
            "order": null,
            "overflow": null,
            "overflow_x": null,
            "overflow_y": null,
            "padding": null,
            "right": null,
            "top": null,
            "visibility": null,
            "width": null
          }
        },
        "85ed92285c054d94874660bc81ee9b9b": {
          "model_module": "@jupyter-widgets/output",
          "model_name": "OutputModel",
          "model_module_version": "1.0.0",
          "state": {
            "_dom_classes": [],
            "_model_module": "@jupyter-widgets/output",
            "_model_module_version": "1.0.0",
            "_model_name": "OutputModel",
            "_view_count": null,
            "_view_module": "@jupyter-widgets/output",
            "_view_module_version": "1.0.0",
            "_view_name": "OutputView",
            "layout": "IPY_MODEL_531a57016fcd4f81aa0d848d0431f382",
            "msg_id": "",
            "outputs": [
              {
                "output_type": "display_data",
                "data": {
                  "text/plain": "Epoch 13/24 \u001b[38;2;98;6;224m━━━━━━━━━━━━━━━━━━━━━━━━━━━━━━━━\u001b[0m 469/469 \u001b[2m0:00:20 • 0:00:00\u001b[0m \u001b[2;4m23.44it/s\u001b[0m \u001b[3mv_num: gczc train/loss: 0.059     \u001b[0m\n                                                                                 \u001b[3mval/loss: 0.058                   \u001b[0m\n",
                  "text/html": "<pre style=\"white-space:pre;overflow-x:auto;line-height:normal;font-family:Menlo,'DejaVu Sans Mono',consolas,'Courier New',monospace\">Epoch 13/24 <span style=\"color: #6206e0; text-decoration-color: #6206e0\">━━━━━━━━━━━━━━━━━━━━━━━━━━━━━━━━</span> 469/469 <span style=\"color: #7f7f7f; text-decoration-color: #7f7f7f\">0:00:20 • 0:00:00</span> <span style=\"color: #7f7f7f; text-decoration-color: #7f7f7f; text-decoration: underline\">23.44it/s</span> <span style=\"font-style: italic\">v_num: gczc train/loss: 0.059     </span>\n                                                                                 <span style=\"font-style: italic\">val/loss: 0.058                   </span>\n</pre>\n"
                },
                "metadata": {}
              }
            ]
          }
        },
        "531a57016fcd4f81aa0d848d0431f382": {
          "model_module": "@jupyter-widgets/base",
          "model_name": "LayoutModel",
          "model_module_version": "1.2.0",
          "state": {
            "_model_module": "@jupyter-widgets/base",
            "_model_module_version": "1.2.0",
            "_model_name": "LayoutModel",
            "_view_count": null,
            "_view_module": "@jupyter-widgets/base",
            "_view_module_version": "1.2.0",
            "_view_name": "LayoutView",
            "align_content": null,
            "align_items": null,
            "align_self": null,
            "border": null,
            "bottom": null,
            "display": null,
            "flex": null,
            "flex_flow": null,
            "grid_area": null,
            "grid_auto_columns": null,
            "grid_auto_flow": null,
            "grid_auto_rows": null,
            "grid_column": null,
            "grid_gap": null,
            "grid_row": null,
            "grid_template_areas": null,
            "grid_template_columns": null,
            "grid_template_rows": null,
            "height": null,
            "justify_content": null,
            "justify_items": null,
            "left": null,
            "margin": null,
            "max_height": null,
            "max_width": null,
            "min_height": null,
            "min_width": null,
            "object_fit": null,
            "object_position": null,
            "order": null,
            "overflow": null,
            "overflow_x": null,
            "overflow_y": null,
            "padding": null,
            "right": null,
            "top": null,
            "visibility": null,
            "width": null
          }
        },
        "46daba17b5d84efba4959c4afca10fad": {
          "model_module": "@jupyter-widgets/output",
          "model_name": "OutputModel",
          "model_module_version": "1.0.0",
          "state": {
            "_dom_classes": [],
            "_model_module": "@jupyter-widgets/output",
            "_model_module_version": "1.0.0",
            "_model_name": "OutputModel",
            "_view_count": null,
            "_view_module": "@jupyter-widgets/output",
            "_view_module_version": "1.0.0",
            "_view_name": "OutputView",
            "layout": "IPY_MODEL_823020e3944647ccacb5647b890215e1",
            "msg_id": "",
            "outputs": [
              {
                "output_type": "display_data",
                "data": {
                  "text/plain": "Epoch 14/24 \u001b[38;2;98;6;224m━━━━━━━━━━━━━━━━━━━━━━━━━━━━━━━━\u001b[0m 469/469 \u001b[2m0:00:19 • 0:00:00\u001b[0m \u001b[2;4m24.13it/s\u001b[0m \u001b[3mv_num: gczc train/loss: 0.059     \u001b[0m\n                                                                                 \u001b[3mval/loss: 0.058                   \u001b[0m\n",
                  "text/html": "<pre style=\"white-space:pre;overflow-x:auto;line-height:normal;font-family:Menlo,'DejaVu Sans Mono',consolas,'Courier New',monospace\">Epoch 14/24 <span style=\"color: #6206e0; text-decoration-color: #6206e0\">━━━━━━━━━━━━━━━━━━━━━━━━━━━━━━━━</span> 469/469 <span style=\"color: #7f7f7f; text-decoration-color: #7f7f7f\">0:00:19 • 0:00:00</span> <span style=\"color: #7f7f7f; text-decoration-color: #7f7f7f; text-decoration: underline\">24.13it/s</span> <span style=\"font-style: italic\">v_num: gczc train/loss: 0.059     </span>\n                                                                                 <span style=\"font-style: italic\">val/loss: 0.058                   </span>\n</pre>\n"
                },
                "metadata": {}
              }
            ]
          }
        },
        "823020e3944647ccacb5647b890215e1": {
          "model_module": "@jupyter-widgets/base",
          "model_name": "LayoutModel",
          "model_module_version": "1.2.0",
          "state": {
            "_model_module": "@jupyter-widgets/base",
            "_model_module_version": "1.2.0",
            "_model_name": "LayoutModel",
            "_view_count": null,
            "_view_module": "@jupyter-widgets/base",
            "_view_module_version": "1.2.0",
            "_view_name": "LayoutView",
            "align_content": null,
            "align_items": null,
            "align_self": null,
            "border": null,
            "bottom": null,
            "display": null,
            "flex": null,
            "flex_flow": null,
            "grid_area": null,
            "grid_auto_columns": null,
            "grid_auto_flow": null,
            "grid_auto_rows": null,
            "grid_column": null,
            "grid_gap": null,
            "grid_row": null,
            "grid_template_areas": null,
            "grid_template_columns": null,
            "grid_template_rows": null,
            "height": null,
            "justify_content": null,
            "justify_items": null,
            "left": null,
            "margin": null,
            "max_height": null,
            "max_width": null,
            "min_height": null,
            "min_width": null,
            "object_fit": null,
            "object_position": null,
            "order": null,
            "overflow": null,
            "overflow_x": null,
            "overflow_y": null,
            "padding": null,
            "right": null,
            "top": null,
            "visibility": null,
            "width": null
          }
        },
        "745ac82b05a445b0b4294876adfdb126": {
          "model_module": "@jupyter-widgets/output",
          "model_name": "OutputModel",
          "model_module_version": "1.0.0",
          "state": {
            "_dom_classes": [],
            "_model_module": "@jupyter-widgets/output",
            "_model_module_version": "1.0.0",
            "_model_name": "OutputModel",
            "_view_count": null,
            "_view_module": "@jupyter-widgets/output",
            "_view_module_version": "1.0.0",
            "_view_name": "OutputView",
            "layout": "IPY_MODEL_0f1198fde92f405b966a7ec42df62b80",
            "msg_id": "",
            "outputs": [
              {
                "output_type": "display_data",
                "data": {
                  "text/plain": "Epoch 15/24 \u001b[38;2;98;6;224m━━━━━━━━━━━━━━━━━━━━━━━━━━━━━━━━\u001b[0m 469/469 \u001b[2m0:00:19 • 0:00:00\u001b[0m \u001b[2;4m24.11it/s\u001b[0m \u001b[3mv_num: gczc train/loss: 0.058     \u001b[0m\n                                                                                 \u001b[3mval/loss: 0.058                   \u001b[0m\n",
                  "text/html": "<pre style=\"white-space:pre;overflow-x:auto;line-height:normal;font-family:Menlo,'DejaVu Sans Mono',consolas,'Courier New',monospace\">Epoch 15/24 <span style=\"color: #6206e0; text-decoration-color: #6206e0\">━━━━━━━━━━━━━━━━━━━━━━━━━━━━━━━━</span> 469/469 <span style=\"color: #7f7f7f; text-decoration-color: #7f7f7f\">0:00:19 • 0:00:00</span> <span style=\"color: #7f7f7f; text-decoration-color: #7f7f7f; text-decoration: underline\">24.11it/s</span> <span style=\"font-style: italic\">v_num: gczc train/loss: 0.058     </span>\n                                                                                 <span style=\"font-style: italic\">val/loss: 0.058                   </span>\n</pre>\n"
                },
                "metadata": {}
              }
            ]
          }
        },
        "0f1198fde92f405b966a7ec42df62b80": {
          "model_module": "@jupyter-widgets/base",
          "model_name": "LayoutModel",
          "model_module_version": "1.2.0",
          "state": {
            "_model_module": "@jupyter-widgets/base",
            "_model_module_version": "1.2.0",
            "_model_name": "LayoutModel",
            "_view_count": null,
            "_view_module": "@jupyter-widgets/base",
            "_view_module_version": "1.2.0",
            "_view_name": "LayoutView",
            "align_content": null,
            "align_items": null,
            "align_self": null,
            "border": null,
            "bottom": null,
            "display": null,
            "flex": null,
            "flex_flow": null,
            "grid_area": null,
            "grid_auto_columns": null,
            "grid_auto_flow": null,
            "grid_auto_rows": null,
            "grid_column": null,
            "grid_gap": null,
            "grid_row": null,
            "grid_template_areas": null,
            "grid_template_columns": null,
            "grid_template_rows": null,
            "height": null,
            "justify_content": null,
            "justify_items": null,
            "left": null,
            "margin": null,
            "max_height": null,
            "max_width": null,
            "min_height": null,
            "min_width": null,
            "object_fit": null,
            "object_position": null,
            "order": null,
            "overflow": null,
            "overflow_x": null,
            "overflow_y": null,
            "padding": null,
            "right": null,
            "top": null,
            "visibility": null,
            "width": null
          }
        },
        "3fd5c0e6d3dc4f959638fe702be5afc8": {
          "model_module": "@jupyter-widgets/output",
          "model_name": "OutputModel",
          "model_module_version": "1.0.0",
          "state": {
            "_dom_classes": [],
            "_model_module": "@jupyter-widgets/output",
            "_model_module_version": "1.0.0",
            "_model_name": "OutputModel",
            "_view_count": null,
            "_view_module": "@jupyter-widgets/output",
            "_view_module_version": "1.0.0",
            "_view_name": "OutputView",
            "layout": "IPY_MODEL_bc2ee39b8ee2423daab3e1001f8c5b24",
            "msg_id": "",
            "outputs": [
              {
                "output_type": "display_data",
                "data": {
                  "text/plain": "Epoch 16/24 \u001b[38;2;98;6;224m━━━━━━━━━━━━━━━━━━━━━━━━━━━━━━━━\u001b[0m 469/469 \u001b[2m0:00:22 • 0:00:00\u001b[0m \u001b[2;4m20.57it/s\u001b[0m \u001b[3mv_num: gczc train/loss: 0.060     \u001b[0m\n                                                                                 \u001b[3mval/loss: 0.058                   \u001b[0m\n",
                  "text/html": "<pre style=\"white-space:pre;overflow-x:auto;line-height:normal;font-family:Menlo,'DejaVu Sans Mono',consolas,'Courier New',monospace\">Epoch 16/24 <span style=\"color: #6206e0; text-decoration-color: #6206e0\">━━━━━━━━━━━━━━━━━━━━━━━━━━━━━━━━</span> 469/469 <span style=\"color: #7f7f7f; text-decoration-color: #7f7f7f\">0:00:22 • 0:00:00</span> <span style=\"color: #7f7f7f; text-decoration-color: #7f7f7f; text-decoration: underline\">20.57it/s</span> <span style=\"font-style: italic\">v_num: gczc train/loss: 0.060     </span>\n                                                                                 <span style=\"font-style: italic\">val/loss: 0.058                   </span>\n</pre>\n"
                },
                "metadata": {}
              }
            ]
          }
        },
        "bc2ee39b8ee2423daab3e1001f8c5b24": {
          "model_module": "@jupyter-widgets/base",
          "model_name": "LayoutModel",
          "model_module_version": "1.2.0",
          "state": {
            "_model_module": "@jupyter-widgets/base",
            "_model_module_version": "1.2.0",
            "_model_name": "LayoutModel",
            "_view_count": null,
            "_view_module": "@jupyter-widgets/base",
            "_view_module_version": "1.2.0",
            "_view_name": "LayoutView",
            "align_content": null,
            "align_items": null,
            "align_self": null,
            "border": null,
            "bottom": null,
            "display": null,
            "flex": null,
            "flex_flow": null,
            "grid_area": null,
            "grid_auto_columns": null,
            "grid_auto_flow": null,
            "grid_auto_rows": null,
            "grid_column": null,
            "grid_gap": null,
            "grid_row": null,
            "grid_template_areas": null,
            "grid_template_columns": null,
            "grid_template_rows": null,
            "height": null,
            "justify_content": null,
            "justify_items": null,
            "left": null,
            "margin": null,
            "max_height": null,
            "max_width": null,
            "min_height": null,
            "min_width": null,
            "object_fit": null,
            "object_position": null,
            "order": null,
            "overflow": null,
            "overflow_x": null,
            "overflow_y": null,
            "padding": null,
            "right": null,
            "top": null,
            "visibility": null,
            "width": null
          }
        },
        "932bae05dc8a4f31b396fbe16e4e0575": {
          "model_module": "@jupyter-widgets/output",
          "model_name": "OutputModel",
          "model_module_version": "1.0.0",
          "state": {
            "_dom_classes": [],
            "_model_module": "@jupyter-widgets/output",
            "_model_module_version": "1.0.0",
            "_model_name": "OutputModel",
            "_view_count": null,
            "_view_module": "@jupyter-widgets/output",
            "_view_module_version": "1.0.0",
            "_view_name": "OutputView",
            "layout": "IPY_MODEL_80becc29f635487585b5818e44bc4ba0",
            "msg_id": "",
            "outputs": [
              {
                "output_type": "display_data",
                "data": {
                  "text/plain": "Epoch 17/24 \u001b[38;2;98;6;224m━━━━━━━━━━━━━━━━━━━━━━━━━━━━━━━━\u001b[0m 469/469 \u001b[2m0:00:19 • 0:00:00\u001b[0m \u001b[2;4m23.68it/s\u001b[0m \u001b[3mv_num: gczc train/loss: 0.058     \u001b[0m\n                                                                                 \u001b[3mval/loss: 0.058                   \u001b[0m\n",
                  "text/html": "<pre style=\"white-space:pre;overflow-x:auto;line-height:normal;font-family:Menlo,'DejaVu Sans Mono',consolas,'Courier New',monospace\">Epoch 17/24 <span style=\"color: #6206e0; text-decoration-color: #6206e0\">━━━━━━━━━━━━━━━━━━━━━━━━━━━━━━━━</span> 469/469 <span style=\"color: #7f7f7f; text-decoration-color: #7f7f7f\">0:00:19 • 0:00:00</span> <span style=\"color: #7f7f7f; text-decoration-color: #7f7f7f; text-decoration: underline\">23.68it/s</span> <span style=\"font-style: italic\">v_num: gczc train/loss: 0.058     </span>\n                                                                                 <span style=\"font-style: italic\">val/loss: 0.058                   </span>\n</pre>\n"
                },
                "metadata": {}
              }
            ]
          }
        },
        "80becc29f635487585b5818e44bc4ba0": {
          "model_module": "@jupyter-widgets/base",
          "model_name": "LayoutModel",
          "model_module_version": "1.2.0",
          "state": {
            "_model_module": "@jupyter-widgets/base",
            "_model_module_version": "1.2.0",
            "_model_name": "LayoutModel",
            "_view_count": null,
            "_view_module": "@jupyter-widgets/base",
            "_view_module_version": "1.2.0",
            "_view_name": "LayoutView",
            "align_content": null,
            "align_items": null,
            "align_self": null,
            "border": null,
            "bottom": null,
            "display": null,
            "flex": null,
            "flex_flow": null,
            "grid_area": null,
            "grid_auto_columns": null,
            "grid_auto_flow": null,
            "grid_auto_rows": null,
            "grid_column": null,
            "grid_gap": null,
            "grid_row": null,
            "grid_template_areas": null,
            "grid_template_columns": null,
            "grid_template_rows": null,
            "height": null,
            "justify_content": null,
            "justify_items": null,
            "left": null,
            "margin": null,
            "max_height": null,
            "max_width": null,
            "min_height": null,
            "min_width": null,
            "object_fit": null,
            "object_position": null,
            "order": null,
            "overflow": null,
            "overflow_x": null,
            "overflow_y": null,
            "padding": null,
            "right": null,
            "top": null,
            "visibility": null,
            "width": null
          }
        },
        "7eb4e480237b45ec9ce81a05b3541af2": {
          "model_module": "@jupyter-widgets/output",
          "model_name": "OutputModel",
          "model_module_version": "1.0.0",
          "state": {
            "_dom_classes": [],
            "_model_module": "@jupyter-widgets/output",
            "_model_module_version": "1.0.0",
            "_model_name": "OutputModel",
            "_view_count": null,
            "_view_module": "@jupyter-widgets/output",
            "_view_module_version": "1.0.0",
            "_view_name": "OutputView",
            "layout": "IPY_MODEL_213339c8228c4bf5969a6edfc0c813ee",
            "msg_id": "",
            "outputs": [
              {
                "output_type": "display_data",
                "data": {
                  "text/plain": "Epoch 18/24 \u001b[38;2;98;6;224m━━━━━━━━━━━━━━━━━━━━━━━━━━━━━━━━\u001b[0m 469/469 \u001b[2m0:00:19 • 0:00:00\u001b[0m \u001b[2;4m24.18it/s\u001b[0m \u001b[3mv_num: gczc train/loss: 0.061     \u001b[0m\n                                                                                 \u001b[3mval/loss: 0.058                   \u001b[0m\n",
                  "text/html": "<pre style=\"white-space:pre;overflow-x:auto;line-height:normal;font-family:Menlo,'DejaVu Sans Mono',consolas,'Courier New',monospace\">Epoch 18/24 <span style=\"color: #6206e0; text-decoration-color: #6206e0\">━━━━━━━━━━━━━━━━━━━━━━━━━━━━━━━━</span> 469/469 <span style=\"color: #7f7f7f; text-decoration-color: #7f7f7f\">0:00:19 • 0:00:00</span> <span style=\"color: #7f7f7f; text-decoration-color: #7f7f7f; text-decoration: underline\">24.18it/s</span> <span style=\"font-style: italic\">v_num: gczc train/loss: 0.061     </span>\n                                                                                 <span style=\"font-style: italic\">val/loss: 0.058                   </span>\n</pre>\n"
                },
                "metadata": {}
              }
            ]
          }
        },
        "213339c8228c4bf5969a6edfc0c813ee": {
          "model_module": "@jupyter-widgets/base",
          "model_name": "LayoutModel",
          "model_module_version": "1.2.0",
          "state": {
            "_model_module": "@jupyter-widgets/base",
            "_model_module_version": "1.2.0",
            "_model_name": "LayoutModel",
            "_view_count": null,
            "_view_module": "@jupyter-widgets/base",
            "_view_module_version": "1.2.0",
            "_view_name": "LayoutView",
            "align_content": null,
            "align_items": null,
            "align_self": null,
            "border": null,
            "bottom": null,
            "display": null,
            "flex": null,
            "flex_flow": null,
            "grid_area": null,
            "grid_auto_columns": null,
            "grid_auto_flow": null,
            "grid_auto_rows": null,
            "grid_column": null,
            "grid_gap": null,
            "grid_row": null,
            "grid_template_areas": null,
            "grid_template_columns": null,
            "grid_template_rows": null,
            "height": null,
            "justify_content": null,
            "justify_items": null,
            "left": null,
            "margin": null,
            "max_height": null,
            "max_width": null,
            "min_height": null,
            "min_width": null,
            "object_fit": null,
            "object_position": null,
            "order": null,
            "overflow": null,
            "overflow_x": null,
            "overflow_y": null,
            "padding": null,
            "right": null,
            "top": null,
            "visibility": null,
            "width": null
          }
        },
        "30ebec1dc9d647988b42a080793ea740": {
          "model_module": "@jupyter-widgets/output",
          "model_name": "OutputModel",
          "model_module_version": "1.0.0",
          "state": {
            "_dom_classes": [],
            "_model_module": "@jupyter-widgets/output",
            "_model_module_version": "1.0.0",
            "_model_name": "OutputModel",
            "_view_count": null,
            "_view_module": "@jupyter-widgets/output",
            "_view_module_version": "1.0.0",
            "_view_name": "OutputView",
            "layout": "IPY_MODEL_8ec96ba4e5544a528a9e7486d1a0dde6",
            "msg_id": "",
            "outputs": [
              {
                "output_type": "display_data",
                "data": {
                  "text/plain": "Epoch 19/24 \u001b[38;2;98;6;224m━━━━━━━━━━━━━━━━━━━━━━━━━━━━━━━━\u001b[0m 469/469 \u001b[2m0:00:19 • 0:00:00\u001b[0m \u001b[2;4m24.10it/s\u001b[0m \u001b[3mv_num: gczc train/loss: 0.058     \u001b[0m\n                                                                                 \u001b[3mval/loss: 0.058                   \u001b[0m\n",
                  "text/html": "<pre style=\"white-space:pre;overflow-x:auto;line-height:normal;font-family:Menlo,'DejaVu Sans Mono',consolas,'Courier New',monospace\">Epoch 19/24 <span style=\"color: #6206e0; text-decoration-color: #6206e0\">━━━━━━━━━━━━━━━━━━━━━━━━━━━━━━━━</span> 469/469 <span style=\"color: #7f7f7f; text-decoration-color: #7f7f7f\">0:00:19 • 0:00:00</span> <span style=\"color: #7f7f7f; text-decoration-color: #7f7f7f; text-decoration: underline\">24.10it/s</span> <span style=\"font-style: italic\">v_num: gczc train/loss: 0.058     </span>\n                                                                                 <span style=\"font-style: italic\">val/loss: 0.058                   </span>\n</pre>\n"
                },
                "metadata": {}
              }
            ]
          }
        },
        "8ec96ba4e5544a528a9e7486d1a0dde6": {
          "model_module": "@jupyter-widgets/base",
          "model_name": "LayoutModel",
          "model_module_version": "1.2.0",
          "state": {
            "_model_module": "@jupyter-widgets/base",
            "_model_module_version": "1.2.0",
            "_model_name": "LayoutModel",
            "_view_count": null,
            "_view_module": "@jupyter-widgets/base",
            "_view_module_version": "1.2.0",
            "_view_name": "LayoutView",
            "align_content": null,
            "align_items": null,
            "align_self": null,
            "border": null,
            "bottom": null,
            "display": null,
            "flex": null,
            "flex_flow": null,
            "grid_area": null,
            "grid_auto_columns": null,
            "grid_auto_flow": null,
            "grid_auto_rows": null,
            "grid_column": null,
            "grid_gap": null,
            "grid_row": null,
            "grid_template_areas": null,
            "grid_template_columns": null,
            "grid_template_rows": null,
            "height": null,
            "justify_content": null,
            "justify_items": null,
            "left": null,
            "margin": null,
            "max_height": null,
            "max_width": null,
            "min_height": null,
            "min_width": null,
            "object_fit": null,
            "object_position": null,
            "order": null,
            "overflow": null,
            "overflow_x": null,
            "overflow_y": null,
            "padding": null,
            "right": null,
            "top": null,
            "visibility": null,
            "width": null
          }
        },
        "92d6d342336942519ffaf1cd999c28b5": {
          "model_module": "@jupyter-widgets/output",
          "model_name": "OutputModel",
          "model_module_version": "1.0.0",
          "state": {
            "_dom_classes": [],
            "_model_module": "@jupyter-widgets/output",
            "_model_module_version": "1.0.0",
            "_model_name": "OutputModel",
            "_view_count": null,
            "_view_module": "@jupyter-widgets/output",
            "_view_module_version": "1.0.0",
            "_view_name": "OutputView",
            "layout": "IPY_MODEL_14643199142d441e903a2c43f344c340",
            "msg_id": "",
            "outputs": [
              {
                "output_type": "display_data",
                "data": {
                  "text/plain": "Epoch 20/24 \u001b[38;2;98;6;224m━━━━━━━━━━━━━━━━━━━━━━━━━━━━━━━━\u001b[0m 469/469 \u001b[2m0:00:20 • 0:00:00\u001b[0m \u001b[2;4m23.01it/s\u001b[0m \u001b[3mv_num: gczc train/loss: 0.057     \u001b[0m\n                                                                                 \u001b[3mval/loss: 0.058                   \u001b[0m\n",
                  "text/html": "<pre style=\"white-space:pre;overflow-x:auto;line-height:normal;font-family:Menlo,'DejaVu Sans Mono',consolas,'Courier New',monospace\">Epoch 20/24 <span style=\"color: #6206e0; text-decoration-color: #6206e0\">━━━━━━━━━━━━━━━━━━━━━━━━━━━━━━━━</span> 469/469 <span style=\"color: #7f7f7f; text-decoration-color: #7f7f7f\">0:00:20 • 0:00:00</span> <span style=\"color: #7f7f7f; text-decoration-color: #7f7f7f; text-decoration: underline\">23.01it/s</span> <span style=\"font-style: italic\">v_num: gczc train/loss: 0.057     </span>\n                                                                                 <span style=\"font-style: italic\">val/loss: 0.058                   </span>\n</pre>\n"
                },
                "metadata": {}
              }
            ]
          }
        },
        "14643199142d441e903a2c43f344c340": {
          "model_module": "@jupyter-widgets/base",
          "model_name": "LayoutModel",
          "model_module_version": "1.2.0",
          "state": {
            "_model_module": "@jupyter-widgets/base",
            "_model_module_version": "1.2.0",
            "_model_name": "LayoutModel",
            "_view_count": null,
            "_view_module": "@jupyter-widgets/base",
            "_view_module_version": "1.2.0",
            "_view_name": "LayoutView",
            "align_content": null,
            "align_items": null,
            "align_self": null,
            "border": null,
            "bottom": null,
            "display": null,
            "flex": null,
            "flex_flow": null,
            "grid_area": null,
            "grid_auto_columns": null,
            "grid_auto_flow": null,
            "grid_auto_rows": null,
            "grid_column": null,
            "grid_gap": null,
            "grid_row": null,
            "grid_template_areas": null,
            "grid_template_columns": null,
            "grid_template_rows": null,
            "height": null,
            "justify_content": null,
            "justify_items": null,
            "left": null,
            "margin": null,
            "max_height": null,
            "max_width": null,
            "min_height": null,
            "min_width": null,
            "object_fit": null,
            "object_position": null,
            "order": null,
            "overflow": null,
            "overflow_x": null,
            "overflow_y": null,
            "padding": null,
            "right": null,
            "top": null,
            "visibility": null,
            "width": null
          }
        },
        "858f01ad3c254312b32815dcf27dca27": {
          "model_module": "@jupyter-widgets/output",
          "model_name": "OutputModel",
          "model_module_version": "1.0.0",
          "state": {
            "_dom_classes": [],
            "_model_module": "@jupyter-widgets/output",
            "_model_module_version": "1.0.0",
            "_model_name": "OutputModel",
            "_view_count": null,
            "_view_module": "@jupyter-widgets/output",
            "_view_module_version": "1.0.0",
            "_view_name": "OutputView",
            "layout": "IPY_MODEL_76fd1b9f20c74dc1a7fa4ae7405f3be7",
            "msg_id": "",
            "outputs": [
              {
                "output_type": "display_data",
                "data": {
                  "text/plain": "Epoch 21/24 \u001b[38;2;98;6;224m━━━━━━━━━━━━━━━━━━━━━━━━━━━━━━━━\u001b[0m 469/469 \u001b[2m0:00:19 • 0:00:00\u001b[0m \u001b[2;4m24.10it/s\u001b[0m \u001b[3mv_num: gczc train/loss: 0.060     \u001b[0m\n                                                                                 \u001b[3mval/loss: 0.058                   \u001b[0m\n",
                  "text/html": "<pre style=\"white-space:pre;overflow-x:auto;line-height:normal;font-family:Menlo,'DejaVu Sans Mono',consolas,'Courier New',monospace\">Epoch 21/24 <span style=\"color: #6206e0; text-decoration-color: #6206e0\">━━━━━━━━━━━━━━━━━━━━━━━━━━━━━━━━</span> 469/469 <span style=\"color: #7f7f7f; text-decoration-color: #7f7f7f\">0:00:19 • 0:00:00</span> <span style=\"color: #7f7f7f; text-decoration-color: #7f7f7f; text-decoration: underline\">24.10it/s</span> <span style=\"font-style: italic\">v_num: gczc train/loss: 0.060     </span>\n                                                                                 <span style=\"font-style: italic\">val/loss: 0.058                   </span>\n</pre>\n"
                },
                "metadata": {}
              }
            ]
          }
        },
        "76fd1b9f20c74dc1a7fa4ae7405f3be7": {
          "model_module": "@jupyter-widgets/base",
          "model_name": "LayoutModel",
          "model_module_version": "1.2.0",
          "state": {
            "_model_module": "@jupyter-widgets/base",
            "_model_module_version": "1.2.0",
            "_model_name": "LayoutModel",
            "_view_count": null,
            "_view_module": "@jupyter-widgets/base",
            "_view_module_version": "1.2.0",
            "_view_name": "LayoutView",
            "align_content": null,
            "align_items": null,
            "align_self": null,
            "border": null,
            "bottom": null,
            "display": null,
            "flex": null,
            "flex_flow": null,
            "grid_area": null,
            "grid_auto_columns": null,
            "grid_auto_flow": null,
            "grid_auto_rows": null,
            "grid_column": null,
            "grid_gap": null,
            "grid_row": null,
            "grid_template_areas": null,
            "grid_template_columns": null,
            "grid_template_rows": null,
            "height": null,
            "justify_content": null,
            "justify_items": null,
            "left": null,
            "margin": null,
            "max_height": null,
            "max_width": null,
            "min_height": null,
            "min_width": null,
            "object_fit": null,
            "object_position": null,
            "order": null,
            "overflow": null,
            "overflow_x": null,
            "overflow_y": null,
            "padding": null,
            "right": null,
            "top": null,
            "visibility": null,
            "width": null
          }
        },
        "cff8703c8cfb4dc7aed19c0ddc5c016e": {
          "model_module": "@jupyter-widgets/output",
          "model_name": "OutputModel",
          "model_module_version": "1.0.0",
          "state": {
            "_dom_classes": [],
            "_model_module": "@jupyter-widgets/output",
            "_model_module_version": "1.0.0",
            "_model_name": "OutputModel",
            "_view_count": null,
            "_view_module": "@jupyter-widgets/output",
            "_view_module_version": "1.0.0",
            "_view_name": "OutputView",
            "layout": "IPY_MODEL_0b6a0ec82d4d478b9688b4ce7c30e686",
            "msg_id": "",
            "outputs": [
              {
                "output_type": "display_data",
                "data": {
                  "text/plain": "Epoch 22/24 \u001b[38;2;98;6;224m━━━━━━━━━━━━━━━━━━━━━━━━━━━━━━━━\u001b[0m 469/469 \u001b[2m0:00:19 • 0:00:00\u001b[0m \u001b[2;4m24.26it/s\u001b[0m \u001b[3mv_num: gczc train/loss: 0.057     \u001b[0m\n                                                                                 \u001b[3mval/loss: 0.058                   \u001b[0m\n",
                  "text/html": "<pre style=\"white-space:pre;overflow-x:auto;line-height:normal;font-family:Menlo,'DejaVu Sans Mono',consolas,'Courier New',monospace\">Epoch 22/24 <span style=\"color: #6206e0; text-decoration-color: #6206e0\">━━━━━━━━━━━━━━━━━━━━━━━━━━━━━━━━</span> 469/469 <span style=\"color: #7f7f7f; text-decoration-color: #7f7f7f\">0:00:19 • 0:00:00</span> <span style=\"color: #7f7f7f; text-decoration-color: #7f7f7f; text-decoration: underline\">24.26it/s</span> <span style=\"font-style: italic\">v_num: gczc train/loss: 0.057     </span>\n                                                                                 <span style=\"font-style: italic\">val/loss: 0.058                   </span>\n</pre>\n"
                },
                "metadata": {}
              }
            ]
          }
        },
        "0b6a0ec82d4d478b9688b4ce7c30e686": {
          "model_module": "@jupyter-widgets/base",
          "model_name": "LayoutModel",
          "model_module_version": "1.2.0",
          "state": {
            "_model_module": "@jupyter-widgets/base",
            "_model_module_version": "1.2.0",
            "_model_name": "LayoutModel",
            "_view_count": null,
            "_view_module": "@jupyter-widgets/base",
            "_view_module_version": "1.2.0",
            "_view_name": "LayoutView",
            "align_content": null,
            "align_items": null,
            "align_self": null,
            "border": null,
            "bottom": null,
            "display": null,
            "flex": null,
            "flex_flow": null,
            "grid_area": null,
            "grid_auto_columns": null,
            "grid_auto_flow": null,
            "grid_auto_rows": null,
            "grid_column": null,
            "grid_gap": null,
            "grid_row": null,
            "grid_template_areas": null,
            "grid_template_columns": null,
            "grid_template_rows": null,
            "height": null,
            "justify_content": null,
            "justify_items": null,
            "left": null,
            "margin": null,
            "max_height": null,
            "max_width": null,
            "min_height": null,
            "min_width": null,
            "object_fit": null,
            "object_position": null,
            "order": null,
            "overflow": null,
            "overflow_x": null,
            "overflow_y": null,
            "padding": null,
            "right": null,
            "top": null,
            "visibility": null,
            "width": null
          }
        },
        "0744080982b841408d37172baa90971f": {
          "model_module": "@jupyter-widgets/output",
          "model_name": "OutputModel",
          "model_module_version": "1.0.0",
          "state": {
            "_dom_classes": [],
            "_model_module": "@jupyter-widgets/output",
            "_model_module_version": "1.0.0",
            "_model_name": "OutputModel",
            "_view_count": null,
            "_view_module": "@jupyter-widgets/output",
            "_view_module_version": "1.0.0",
            "_view_name": "OutputView",
            "layout": "IPY_MODEL_51a0d0d8c41345deaa8c04fe37cbabd7",
            "msg_id": "",
            "outputs": [
              {
                "output_type": "display_data",
                "data": {
                  "text/plain": "Epoch 23/24 \u001b[38;2;98;6;224m━━━━━━━━━━━━━━━━━━━━━━━━━━━━━━━━\u001b[0m 469/469 \u001b[2m0:00:19 • 0:00:00\u001b[0m \u001b[2;4m24.20it/s\u001b[0m \u001b[3mv_num: gczc train/loss: 0.056     \u001b[0m\n                                                                                 \u001b[3mval/loss: 0.058                   \u001b[0m\n",
                  "text/html": "<pre style=\"white-space:pre;overflow-x:auto;line-height:normal;font-family:Menlo,'DejaVu Sans Mono',consolas,'Courier New',monospace\">Epoch 23/24 <span style=\"color: #6206e0; text-decoration-color: #6206e0\">━━━━━━━━━━━━━━━━━━━━━━━━━━━━━━━━</span> 469/469 <span style=\"color: #7f7f7f; text-decoration-color: #7f7f7f\">0:00:19 • 0:00:00</span> <span style=\"color: #7f7f7f; text-decoration-color: #7f7f7f; text-decoration: underline\">24.20it/s</span> <span style=\"font-style: italic\">v_num: gczc train/loss: 0.056     </span>\n                                                                                 <span style=\"font-style: italic\">val/loss: 0.058                   </span>\n</pre>\n"
                },
                "metadata": {}
              }
            ]
          }
        },
        "51a0d0d8c41345deaa8c04fe37cbabd7": {
          "model_module": "@jupyter-widgets/base",
          "model_name": "LayoutModel",
          "model_module_version": "1.2.0",
          "state": {
            "_model_module": "@jupyter-widgets/base",
            "_model_module_version": "1.2.0",
            "_model_name": "LayoutModel",
            "_view_count": null,
            "_view_module": "@jupyter-widgets/base",
            "_view_module_version": "1.2.0",
            "_view_name": "LayoutView",
            "align_content": null,
            "align_items": null,
            "align_self": null,
            "border": null,
            "bottom": null,
            "display": null,
            "flex": null,
            "flex_flow": null,
            "grid_area": null,
            "grid_auto_columns": null,
            "grid_auto_flow": null,
            "grid_auto_rows": null,
            "grid_column": null,
            "grid_gap": null,
            "grid_row": null,
            "grid_template_areas": null,
            "grid_template_columns": null,
            "grid_template_rows": null,
            "height": null,
            "justify_content": null,
            "justify_items": null,
            "left": null,
            "margin": null,
            "max_height": null,
            "max_width": null,
            "min_height": null,
            "min_width": null,
            "object_fit": null,
            "object_position": null,
            "order": null,
            "overflow": null,
            "overflow_x": null,
            "overflow_y": null,
            "padding": null,
            "right": null,
            "top": null,
            "visibility": null,
            "width": null
          }
        },
        "9ec05738af8c4ae8abaf4bc509525525": {
          "model_module": "@jupyter-widgets/output",
          "model_name": "OutputModel",
          "model_module_version": "1.0.0",
          "state": {
            "_dom_classes": [],
            "_model_module": "@jupyter-widgets/output",
            "_model_module_version": "1.0.0",
            "_model_name": "OutputModel",
            "_view_count": null,
            "_view_module": "@jupyter-widgets/output",
            "_view_module_version": "1.0.0",
            "_view_name": "OutputView",
            "layout": "IPY_MODEL_2630bde5a9d34b2f8bf73a7522fcf701",
            "msg_id": "",
            "outputs": [
              {
                "output_type": "display_data",
                "data": {
                  "text/plain": "Epoch 24/24 \u001b[38;2;98;6;224m━━━━━━━━━━━━━━━━━━━━━━━━━━━━━━━━\u001b[0m 469/469 \u001b[2m0:00:20 • 0:00:00\u001b[0m \u001b[2;4m23.18it/s\u001b[0m \u001b[3mv_num: gczc train/loss: 0.058     \u001b[0m\n                                                                                 \u001b[3mval/loss: 0.058                   \u001b[0m\n",
                  "text/html": "<pre style=\"white-space:pre;overflow-x:auto;line-height:normal;font-family:Menlo,'DejaVu Sans Mono',consolas,'Courier New',monospace\">Epoch 24/24 <span style=\"color: #6206e0; text-decoration-color: #6206e0\">━━━━━━━━━━━━━━━━━━━━━━━━━━━━━━━━</span> 469/469 <span style=\"color: #7f7f7f; text-decoration-color: #7f7f7f\">0:00:20 • 0:00:00</span> <span style=\"color: #7f7f7f; text-decoration-color: #7f7f7f; text-decoration: underline\">23.18it/s</span> <span style=\"font-style: italic\">v_num: gczc train/loss: 0.058     </span>\n                                                                                 <span style=\"font-style: italic\">val/loss: 0.058                   </span>\n</pre>\n"
                },
                "metadata": {}
              }
            ]
          }
        },
        "2630bde5a9d34b2f8bf73a7522fcf701": {
          "model_module": "@jupyter-widgets/base",
          "model_name": "LayoutModel",
          "model_module_version": "1.2.0",
          "state": {
            "_model_module": "@jupyter-widgets/base",
            "_model_module_version": "1.2.0",
            "_model_name": "LayoutModel",
            "_view_count": null,
            "_view_module": "@jupyter-widgets/base",
            "_view_module_version": "1.2.0",
            "_view_name": "LayoutView",
            "align_content": null,
            "align_items": null,
            "align_self": null,
            "border": null,
            "bottom": null,
            "display": null,
            "flex": null,
            "flex_flow": null,
            "grid_area": null,
            "grid_auto_columns": null,
            "grid_auto_flow": null,
            "grid_auto_rows": null,
            "grid_column": null,
            "grid_gap": null,
            "grid_row": null,
            "grid_template_areas": null,
            "grid_template_columns": null,
            "grid_template_rows": null,
            "height": null,
            "justify_content": null,
            "justify_items": null,
            "left": null,
            "margin": null,
            "max_height": null,
            "max_width": null,
            "min_height": null,
            "min_width": null,
            "object_fit": null,
            "object_position": null,
            "order": null,
            "overflow": null,
            "overflow_x": null,
            "overflow_y": null,
            "padding": null,
            "right": null,
            "top": null,
            "visibility": null,
            "width": null
          }
        }
      }
    }
  },
  "cells": [
    {
      "cell_type": "markdown",
      "metadata": {
        "id": "view-in-github",
        "colab_type": "text"
      },
      "source": [
        "<a href=\"https://colab.research.google.com/github/simeonbetapudi/DeepLearningAIEthics/blob/main/VAEUNets.ipynb\" target=\"_parent\"><img src=\"https://colab.research.google.com/assets/colab-badge.svg\" alt=\"Open In Colab\"/></a>"
      ]
    },
    {
      "cell_type": "code",
      "execution_count": null,
      "metadata": {
        "id": "kFuz4r4wH5WK"
      },
      "outputs": [],
      "source": []
    },
    {
      "cell_type": "code",
      "execution_count": null,
      "metadata": {
        "colab": {
          "base_uri": "https://localhost:8080/"
        },
        "id": "Q1-z-QPMrG3a",
        "outputId": "769367eb-8204-4006-bbce-07a05ce19bb9"
      },
      "outputs": [
        {
          "output_type": "stream",
          "name": "stdout",
          "text": [
            "Found existing installation: bigframes 2.23.0\n",
            "Uninstalling bigframes-2.23.0:\n",
            "  Successfully uninstalled bigframes-2.23.0\n",
            "\u001b[2K   \u001b[90m━━━━━━━━━━━━━━━━━━━━━━━━━━━━━━━━━━━━━━━━\u001b[0m \u001b[32m828.5/828.5 kB\u001b[0m \u001b[31m51.3 MB/s\u001b[0m eta \u001b[36m0:00:00\u001b[0m\n",
            "\u001b[2K   \u001b[90m━━━━━━━━━━━━━━━━━━━━━━━━━━━━━━━━━━━━━━━━\u001b[0m \u001b[32m243.4/243.4 kB\u001b[0m \u001b[31m22.0 MB/s\u001b[0m eta \u001b[36m0:00:00\u001b[0m\n",
            "\u001b[2K   \u001b[90m━━━━━━━━━━━━━━━━━━━━━━━━━━━━━━━━━━━━━━━━\u001b[0m \u001b[32m983.2/983.2 kB\u001b[0m \u001b[31m56.0 MB/s\u001b[0m eta \u001b[36m0:00:00\u001b[0m\n",
            "\u001b[2K   \u001b[90m━━━━━━━━━━━━━━━━━━━━━━━━━━━━━━━━━━━━━━━━\u001b[0m \u001b[32m832.4/832.4 kB\u001b[0m \u001b[31m57.0 MB/s\u001b[0m eta \u001b[36m0:00:00\u001b[0m\n",
            "\u001b[?25h"
          ]
        }
      ],
      "source": [
        "# Uninstall Colab's bigframes because it conflicts with other installs\n",
        "%pip uninstall -y bigframes\n",
        "# Install Lightning, also let's use \"rich\" progress bars\n",
        "%pip install -Uqq lightning wandb rich einops"
      ]
    },
    {
      "cell_type": "code",
      "source": [
        "import torch\n",
        "from torch import nn, optim, utils\n",
        "from torch.utils.data import DataLoader\n",
        "from torchvision.datasets import MNIST\n",
        "from torchvision.transforms import ToTensor, RandomAffine, RandomErasing\n",
        "import torchvision\n",
        "import matplotlib.pyplot as plt\n",
        "import torch.nn.functional as F\n",
        "# Not advocating Lightning over raw pytorch, but it offers some useful abstractions\n",
        "import lightning as L\n",
        "from lightning.pytorch.loggers import WandbLogger\n",
        "from lightning.pytorch.callbacks import RichProgressBar\n",
        "import wandb\n",
        "import numpy as np\n",
        "from einops import rearrange"
      ],
      "metadata": {
        "id": "XAvaNtZMulBS"
      },
      "execution_count": null,
      "outputs": []
    },
    {
      "cell_type": "code",
      "source": [
        "# optional: define additional data augmentation transformers for the dataloader\n",
        "train_transforms = torchvision.transforms.Compose([\n",
        "    ToTensor(),\n",
        "    # uncomment next lines for extra augmentations\n",
        "    #RandomAffine(degrees=15, translate=(0.1, 0.1)),\n",
        "    #RandomErasing(p=0.2, scale=(0.02, 0.1))\n",
        "])\n",
        "\n",
        "train_ds = MNIST(root='./data', train=True,  download=True, transform=train_transforms)\n",
        "test_ds  = MNIST(root='./data', train=False, download=True, transform=ToTensor())\n",
        "val_ds = test_ds  #alias val for test\n",
        "print(f\"Data set lengths: train: {len(train_ds)}, test: {len(test_ds)}\")\n",
        "\n",
        "\n",
        "\n",
        "batch_size = 128   # could make this bigger; note for MNIST on Colab we're disk-speed limited, not GPU-limited\n",
        "train_dl = DataLoader(train_ds, batch_size=batch_size, num_workers=2, shuffle=True, persistent_workers=True)\n",
        "test_dl = DataLoader(test_ds, batch_size=batch_size, num_workers=2, shuffle=False, persistent_workers=True)\n",
        "val_dl = test_dl # alias val <--> test"
      ],
      "metadata": {
        "colab": {
          "base_uri": "https://localhost:8080/"
        },
        "id": "ppJ06_fKupFn",
        "outputId": "fb5b0b7e-99c2-45bd-a67f-743555212f50"
      },
      "execution_count": null,
      "outputs": [
        {
          "output_type": "stream",
          "name": "stderr",
          "text": [
            "100%|██████████| 9.91M/9.91M [00:01<00:00, 4.97MB/s]\n",
            "100%|██████████| 28.9k/28.9k [00:00<00:00, 132kB/s]\n",
            "100%|██████████| 1.65M/1.65M [00:01<00:00, 1.24MB/s]\n",
            "100%|██████████| 4.54k/4.54k [00:00<00:00, 11.5MB/s]"
          ]
        },
        {
          "output_type": "stream",
          "name": "stdout",
          "text": [
            "Data set lengths: train: 60000, test: 10000\n"
          ]
        },
        {
          "output_type": "stream",
          "name": "stderr",
          "text": [
            "\n"
          ]
        }
      ]
    },
    {
      "cell_type": "code",
      "source": [
        "# @title Code for `show_xs` visualization tool\n",
        "def show_xs(xs, show_stats=True):\n",
        "    \"\"\"A little utility to show one or more images\"\"\"\n",
        "    if type(xs) is not list: xs = list(xs)\n",
        "    ncols = len(xs)\n",
        "    fig, axs = plt.subplots(figsize=(3*ncols,2), ncols=ncols, squeeze=False)\n",
        "    ax = axs.ravel()\n",
        "    for col, x in enumerate(xs):\n",
        "        if len(x.shape)>2: x = x[0] # remove any batch dimension\n",
        "        if show_stats:\n",
        "            if ncols > 1: print(f\"col {col}: \",end=\"\")\n",
        "            print(f\"x.shape = {tuple(x.shape)}, min(x) = {torch.min(x)}, max(x) = {torch.max(x)}\")\n",
        "        digit = ax[col].imshow(x.detach().cpu().numpy(), cmap='gray')\n",
        "        fig.colorbar(digit, ax=ax[col])\n",
        "    plt.show()"
      ],
      "metadata": {
        "cellView": "form",
        "id": "VKiHj2WWuxF6"
      },
      "execution_count": null,
      "outputs": []
    },
    {
      "cell_type": "code",
      "source": [
        "# @title `test_inference` visualization code\n",
        "@torch.no_grad()\n",
        "def test_inference(model, idx=None, return_fig=False):\n",
        "    import inspect\n",
        "    model.eval()\n",
        "    if idx is None: idx = torch.randint(len(test_ds), (1,))[0]\n",
        "    if isinstance(idx, int): idx = [idx]\n",
        "    elif isinstance(idx, range): idx = list(idx)\n",
        "    x_batch = torch.stack([test_ds[i][0] for i in idx]).to(model.device)  # images\n",
        "    y_batch = torch.tensor([test_ds[i][1] for i in idx]).to(model.device) # labels\n",
        "    if not model.use_conv: x_batch = x_batch.view(x_batch.size(0), -1)\n",
        "    if 1==len(inspect.signature(model.forward).parameters): # for ae or vae\n",
        "        result = model.forward(x_batch)\n",
        "    else:                                                   # c-vae (later in lesson)\n",
        "        cond = F.one_hot(y_batch, num_classes=10).float()\n",
        "        result = model.forward(x_batch, cond)\n",
        "    z, recon = result[:2]\n",
        "    recon = recon.view(len(idx), 28, 28)\n",
        "    fig, axs = plt.subplots(2, len(idx), figsize=(3*len(idx), 4))\n",
        "    if len(idx) == 1: axs = axs.reshape(2, 1)\n",
        "    for i in range(len(idx)):\n",
        "        axs[0,i].imshow(x_batch[i].view(28,28).cpu(), cmap='gray')\n",
        "        axs[1,i].imshow(recon[i].cpu(), cmap='gray')\n",
        "        if i == 0:\n",
        "            axs[0,0].set_ylabel('Input', fontsize=12)\n",
        "            axs[1,0].set_ylabel('Reconstruction', fontsize=12)\n",
        "    model.train()\n",
        "    if return_fig: return fig\n",
        "    plt.show()"
      ],
      "metadata": {
        "cellView": "form",
        "id": "fzn8Japdu0RC"
      },
      "execution_count": null,
      "outputs": []
    },
    {
      "cell_type": "code",
      "source": [
        "#@title Code for viz tool `plot_latent_space`\n",
        "@torch.no_grad()\n",
        "def plot_latent_space(model, n_samples=2000):\n",
        "    model.eval()\n",
        "    zs, labels = [], []\n",
        "    with torch.no_grad():\n",
        "        for batch_idx, (x_batch, y_batch) in enumerate(test_dl):\n",
        "            if len(zs) >= n_samples:\n",
        "                break\n",
        "            x_batch = x_batch.to(model.device)\n",
        "            if not model.use_conv:\n",
        "                x_batch = x_batch.view(x_batch.size(0), -1)\n",
        "            z_batch = model.encoder(x_batch).cpu()\n",
        "            if hasattr(model, 'reparam_sample') and z_batch.shape[-1] > model.latent_dim:  # VAE case\n",
        "                z_batch = z_batch[:, :model.latent_dim]  # just use mu part\n",
        "            zs.append(z_batch)\n",
        "            labels.append(y_batch)\n",
        "\n",
        "    zs = torch.cat(zs)[:n_samples].numpy()\n",
        "    labels = torch.cat(labels)[:n_samples].numpy()\n",
        "\n",
        "\n",
        "    if zs.shape[-1] > 2:  # we'll make a 2D plot regardless of how many dims are in the latent space\n",
        "        from sklearn.decomposition import PCA\n",
        "        pca = PCA(n_components=2)\n",
        "        zs_2d = pca.fit_transform(zs)\n",
        "        title = f\"Latent Space (PCA projection, explained variance: {pca.explained_variance_ratio_.sum():.2f})\"\n",
        "    else:\n",
        "        zs_2d = zs\n",
        "        title = \"Latent Space Visualization\"\n",
        "\n",
        "    plt.figure(figsize=(8, 6))\n",
        "    scatter = plt.scatter(zs_2d[:, 0], zs_2d[:, 1], c=labels, cmap='tab10')\n",
        "    plt.colorbar(scatter)\n",
        "    plt.title(title)\n",
        "    model.train()\n",
        "    plt.show()"
      ],
      "metadata": {
        "id": "iqW0wGIpGVlt",
        "cellView": "form"
      },
      "execution_count": null,
      "outputs": []
    },
    {
      "cell_type": "code",
      "source": [
        "import torch\n",
        "import torch.nn as nn\n",
        "import torch.nn.functional as F\n",
        "import torch.optim as optim\n",
        "import lightning as L\n",
        "import matplotlib.pyplot as plt\n",
        "import wandb\n",
        "\n",
        "class VAEUNet(L.LightningModule):\n",
        "    def __init__(self, latent_dim=8, act=nn.LeakyReLU, scrunch_factor=1e-3):\n",
        "        super().__init__()\n",
        "        # configs\n",
        "        self.latent_dim = latent_dim\n",
        "        self.act = act\n",
        "        self.scrunch_factor = scrunch_factor\n",
        "        self.use_conv = True\n",
        "\n",
        "        # -----------------------\n",
        "        # Encoder (U-Net encoder path)\n",
        "        # -----------------------\n",
        "        # enc1: keep spatial 28x28\n",
        "        self.enc1 = nn.Sequential(\n",
        "            nn.Conv2d(1, 32, kernel_size=3, stride=1, padding=1),  # [B, 32, 28, 28]\n",
        "            nn.BatchNorm2d(32),\n",
        "            act(),\n",
        "            nn.Conv2d(32, 32, kernel_size=3, stride=1, padding=1),\n",
        "            nn.BatchNorm2d(32),\n",
        "            act(),\n",
        "        )\n",
        "\n",
        "        # enc2: downsample to 14x14\n",
        "        self.enc2 = nn.Sequential(\n",
        "            nn.Conv2d(32, 64, kernel_size=4, stride=2, padding=1), # [B, 64, 14, 14]\n",
        "            nn.BatchNorm2d(64),\n",
        "            act(),\n",
        "            nn.Conv2d(64, 64, kernel_size=3, stride=1, padding=1),\n",
        "            nn.BatchNorm2d(64),\n",
        "            act(),\n",
        "        )\n",
        "\n",
        "        # enc3: downsample to 7x7 (bottleneck spatial)\n",
        "        self.enc3 = nn.Sequential(\n",
        "            nn.Conv2d(64, 128, kernel_size=4, stride=2, padding=1), # [B, 128, 7, 7]\n",
        "            nn.BatchNorm2d(128),\n",
        "            act(),\n",
        "            nn.Conv2d(128, 128, kernel_size=3, stride=1, padding=1),\n",
        "            nn.BatchNorm2d(128),\n",
        "            act(),\n",
        "        )\n",
        "\n",
        "        # flatten size from enc3\n",
        "        self.enc_out_h = 7\n",
        "        self.enc_out_w = 7\n",
        "        self.enc_out_ch = 128\n",
        "        self.enc_out_dim = self.enc_out_ch * self.enc_out_h * self.enc_out_w  # 128*7*7\n",
        "\n",
        "        # latent heads\n",
        "        self.fc_mu = nn.Linear(self.enc_out_dim, latent_dim)\n",
        "        self.fc_logvar = nn.Linear(self.enc_out_dim, latent_dim)\n",
        "\n",
        "        # -----------------------\n",
        "        # Decoder (U-Net decoder path)\n",
        "        # -----------------------\n",
        "        # linear from latent to encoded spatial feature\n",
        "        self.fc_dec = nn.Linear(latent_dim, self.enc_out_dim)\n",
        "\n",
        "        # decode stage 1: from 128@7x7 -> upsample -> 64@14x14\n",
        "        self.dec3_up = nn.Sequential(\n",
        "            nn.ConvTranspose2d(128, 64, kernel_size=4, stride=2, padding=1), # [B,64,14,14]\n",
        "            nn.BatchNorm2d(64),\n",
        "            act(),\n",
        "        )\n",
        "        # after concatenation with enc2 (64 channels) -> 128 channels in, reduce to 64\n",
        "        self.dec3_conv = nn.Sequential(\n",
        "            nn.Conv2d(64 + 64, 64, kernel_size=3, padding=1),\n",
        "            nn.BatchNorm2d(64),\n",
        "            act(),\n",
        "            nn.Conv2d(64, 64, kernel_size=3, padding=1),\n",
        "            nn.BatchNorm2d(64),\n",
        "            act(),\n",
        "        )\n",
        "\n",
        "        # decode stage 2: upsample 14x14 -> 28x28\n",
        "        self.dec2_up = nn.Sequential(\n",
        "            nn.ConvTranspose2d(64, 32, kernel_size=4, stride=2, padding=1),  # [B,32,28,28]\n",
        "            nn.BatchNorm2d(32),\n",
        "            act(),\n",
        "        )\n",
        "        # after concatenation with enc1 (32 channels) -> 64 channels in, reduce to 32\n",
        "        self.dec2_conv = nn.Sequential(\n",
        "            nn.Conv2d(32 + 32, 32, kernel_size=3, padding=1),\n",
        "            nn.BatchNorm2d(32),\n",
        "            act(),\n",
        "            nn.Conv2d(32, 32, kernel_size=3, padding=1),\n",
        "            nn.BatchNorm2d(32),\n",
        "            act(),\n",
        "        )\n",
        "\n",
        "        # final conv to single channel output\n",
        "        self.dec_final = nn.Sequential(\n",
        "            nn.Conv2d(32, 1, kernel_size=1),  # [B,1,28,28]\n",
        "            nn.Sigmoid()\n",
        "        )\n",
        "\n",
        "    # -----------------------\n",
        "    # Reparameterization\n",
        "    # -----------------------\n",
        "    def reparam_sample(self, mu, log_var):\n",
        "        \"this yields a data value by sampling from the learned gaussian distribution of latents\"\n",
        "        std = torch.exp(0.5*log_var) # the 0.5 is an optional, tunable rescaling factor.\n",
        "        noise = torch.randn_like(std)       # the gaussian distribution we sample from\n",
        "        return mu + std * noise\n",
        "\n",
        "    # -----------------------\n",
        "    # Forward pass (U-Net VAE)\n",
        "    # Returns: (z_concat, x_hat_flat, mu, log_var, z_hat)\n",
        "    # -----------------------\n",
        "    def forward(self, x):\n",
        "        # Accept either flattened input [B, 784] or image [B,1,28,28]\n",
        "        if x.ndim == 2:\n",
        "            x = x.reshape(x.size(0), 1, 28, 28)  # safe reshape (not view)\n",
        "\n",
        "        # Encoder path with skip connections\n",
        "        x1 = self.enc1(x)   # [B,32,28,28]\n",
        "        x2 = self.enc2(x1)  # [B,64,14,14]\n",
        "        x3 = self.enc3(x2)  # [B,128,7,7]\n",
        "\n",
        "        # Bottleneck -> mu, log_var\n",
        "        z_flat = x3.reshape(x3.size(0), -1)  # [B, enc_out_dim]\n",
        "        mu = self.fc_mu(z_flat)\n",
        "        log_var = self.fc_logvar(z_flat)\n",
        "        z_hat = self.reparam_sample(mu, log_var)\n",
        "\n",
        "        # Decoder: linear -> reshape -> upsample + skip connections\n",
        "        dec_in = self.fc_dec(z_hat)                        # [B, enc_out_dim]\n",
        "        dec_in = dec_in.reshape(dec_in.size(0), 128, 7, 7)  # [B,128,7,7]\n",
        "\n",
        "        d3 = self.dec3_up(dec_in)        # [B,64,14,14]\n",
        "        d3 = torch.cat([d3, x2], dim=1)  # [B,128,14,14]\n",
        "        d3 = self.dec3_conv(d3)          # [B,64,14,14]\n",
        "\n",
        "        d2 = self.dec2_up(d3)            # [B,32,28,28]\n",
        "        d2 = torch.cat([d2, x1], dim=1)  # [B,64,28,28]\n",
        "        d2 = self.dec2_conv(d2)          # [B,32,28,28]\n",
        "\n",
        "        x_hat_img = self.dec_final(d2)   # [B,1,28,28]\n",
        "\n",
        "        # Flatten reconstruction to match existing pred_and_log (which expects flattened x)\n",
        "        x_hat_flat = x_hat_img.reshape(x_hat_img.size(0), -1)  # [B, 784]\n",
        "\n",
        "        # For compatibility with your previous model, return concatenated z (mu|log_var) as first element\n",
        "        z_concat = torch.cat([mu, log_var], dim=1)  # [B, 2*latent_dim]\n",
        "        return z_concat, x_hat_flat, mu, log_var, z_hat\n",
        "\n",
        "    def encode(self, x):\n",
        "        # Accept either flattened input [B, 784] or image [B,1,28,28]\n",
        "        if x.ndim == 2:\n",
        "            x = x.reshape(x.size(0), 1, 28, 28)  # safe reshape (not view)\n",
        "\n",
        "        # Encoder path with skip connections\n",
        "        x1 = self.enc1(x)   # [B,32,28,28]\n",
        "        x2 = self.enc2(x1)  # [B,64,14,14]\n",
        "        x3 = self.enc3(x2)  # [B,128,7,7]\n",
        "\n",
        "        # Bottleneck -> mu, log_var\n",
        "        z_flat = x3.reshape(x3.size(0), -1)  # [B, enc_out_dim]\n",
        "        mu = self.fc_mu(z_flat)\n",
        "        log_var = self.fc_logvar(z_flat)\n",
        "        z_hat = self.reparam_sample(mu, log_var)\n",
        "        return z_hat\n",
        "\n",
        "    def decode(self, x):\n",
        "        # Decoder: linear -> reshape -> upsample + skip connections\n",
        "        dec_in = self.fc_dec(z_hat)                        # [B, enc_out_dim]\n",
        "        dec_in = dec_in.reshape(dec_in.size(0), 128, 7, 7)  # [B,128,7,7]\n",
        "\n",
        "        d3 = self.dec3_up(dec_in)        # [B,64,14,14]\n",
        "        d3 = torch.cat([d3, x2], dim=1)  # [B,128,14,14]\n",
        "        d3 = self.dec3_conv(d3)          # [B,64,14,14]\n",
        "\n",
        "        d2 = self.dec2_up(d3)            # [B,32,28,28]\n",
        "        d2 = torch.cat([d2, x1], dim=1)  # [B,64,28,28]\n",
        "        d2 = self.dec2_conv(d2)          # [B,32,28,28]\n",
        "\n",
        "        x_hat_img = self.dec_final(d2)   # [B,1,28,28]\n",
        "\n",
        "        # Flatten reconstruction to match existing pred_and_log (which expects flattened x)\n",
        "        x_hat_flat = x_hat_img.reshape(x_hat_img.size(0), -1)  # [B, 784]\n",
        "\n",
        "        # For compatibility with your previous model, return concatenated z (mu|log_var) as first element\n",
        "        z_concat = torch.cat([mu, log_var], dim=1)  # [B, 2*latent_dim]\n",
        "        return z_concat, x_hat_flat, mu, log_var, z_hat\n",
        "\n",
        "    # -----------------------\n",
        "    # Loss and logging (keeps your previous pred_and_log API)\n",
        "    # -----------------------\n",
        "    def pred_and_log(self, batch, batch_idx, log_prefix=''):\n",
        "        x, y = batch\n",
        "        # accept flattened or image inputs\n",
        "        if x.ndim == 2:\n",
        "            x_img = x.reshape(x.size(0), 1, 28, 28)\n",
        "        else:\n",
        "            x_img = x\n",
        "\n",
        "        z, x_hat, mu, log_var, z_hat = self.forward(x_img)\n",
        "\n",
        "        # recon loss (BCE) expects flattened tensors as you used previously\n",
        "        recon_loss = F.binary_cross_entropy(x_hat, x_img.reshape(x_img.size(0), -1))\n",
        "        kl_loss = -0.5 * torch.mean(1 + log_var - mu.pow(2) - log_var.exp())\n",
        "        rescaled_kl_loss = kl_loss * self.scrunch_factor\n",
        "        loss = recon_loss + rescaled_kl_loss\n",
        "\n",
        "        # logging (same keys as before)\n",
        "        self.log(f'{log_prefix}loss', loss, prog_bar=True)\n",
        "        self.log(f'{log_prefix}recon_loss', recon_loss)\n",
        "        self.log(f'{log_prefix}kl_loss', kl_loss)\n",
        "        self.log(f'{log_prefix}rescaled_kl_loss', rescaled_kl_loss)\n",
        "        return loss\n",
        "\n",
        "    def training_step(self, batch, batch_idx):\n",
        "        return self.pred_and_log(batch, batch_idx, log_prefix='train/')\n",
        "\n",
        "    def validation_step(self, batch, batch_idx):\n",
        "        return self.pred_and_log(batch, batch_idx, log_prefix='val/')\n",
        "\n",
        "    def configure_optimizers(self):\n",
        "        return optim.Adam(self.parameters(), lr=5e-4)\n",
        "\n",
        "    def on_epoch_start(self):\n",
        "        print('\\n')\n",
        "\n",
        "    def on_validation_epoch_end(self, demo_every=1):\n",
        "        # keep the original behavior you had for logging reconstructions to wandb\n",
        "        if self.current_epoch % demo_every == 0:\n",
        "            # assumes you still have a test_inference(...) util that accepts this model\n",
        "            fig = test_inference(self, idx=range(5), return_fig=True)\n",
        "            self.logger.experiment.log({\"reconstructions\": wandb.Image(fig), \"epoch\": self.current_epoch})\n",
        "            plt.close(fig)\n",
        "\n",
        "vae = VAEUNet()\n",
        "model = vae"
      ],
      "metadata": {
        "id": "FE2Ss6EEIFeH"
      },
      "execution_count": null,
      "outputs": []
    },
    {
      "cell_type": "code",
      "source": [
        "wandb.finish()\n",
        "wandb_logger = WandbLogger(log_model=\"all\", project='vaeunet_tut')\n",
        "wandb_logger.watch(model) # this thing complains too much upon re-runs, just ignore it and keep going"
      ],
      "metadata": {
        "colab": {
          "base_uri": "https://localhost:8080/",
          "height": 312
        },
        "id": "4VwCpc20ucr7",
        "outputId": "c93137ca-ba7f-4e99-bf57-cec6442dafe7"
      },
      "execution_count": null,
      "outputs": [
        {
          "output_type": "stream",
          "name": "stderr",
          "text": [
            "/usr/local/lib/python3.12/dist-packages/notebook/notebookapp.py:191: SyntaxWarning: invalid escape sequence '\\/'\n",
            "  | |_| | '_ \\/ _` / _` |  _/ -_)\n"
          ]
        },
        {
          "output_type": "display_data",
          "data": {
            "text/plain": [
              "<IPython.core.display.Javascript object>"
            ],
            "application/javascript": [
              "\n",
              "        window._wandbApiKey = new Promise((resolve, reject) => {\n",
              "            function loadScript(url) {\n",
              "            return new Promise(function(resolve, reject) {\n",
              "                let newScript = document.createElement(\"script\");\n",
              "                newScript.onerror = reject;\n",
              "                newScript.onload = resolve;\n",
              "                document.body.appendChild(newScript);\n",
              "                newScript.src = url;\n",
              "            });\n",
              "            }\n",
              "            loadScript(\"https://cdn.jsdelivr.net/npm/postmate/build/postmate.min.js\").then(() => {\n",
              "            const iframe = document.createElement('iframe')\n",
              "            iframe.style.cssText = \"width:0;height:0;border:none\"\n",
              "            document.body.appendChild(iframe)\n",
              "            const handshake = new Postmate({\n",
              "                container: iframe,\n",
              "                url: 'https://wandb.ai/authorize'\n",
              "            });\n",
              "            const timeout = setTimeout(() => reject(\"Couldn't auto authenticate\"), 5000)\n",
              "            handshake.then(function(child) {\n",
              "                child.on('authorize', data => {\n",
              "                    clearTimeout(timeout)\n",
              "                    resolve(data)\n",
              "                });\n",
              "            });\n",
              "            })\n",
              "        });\n",
              "    "
            ]
          },
          "metadata": {}
        },
        {
          "output_type": "stream",
          "name": "stderr",
          "text": [
            "\u001b[34m\u001b[1mwandb\u001b[0m: Logging into wandb.ai. (Learn how to deploy a W&B server locally: https://wandb.me/wandb-server)\n",
            "\u001b[34m\u001b[1mwandb\u001b[0m: You can find your API key in your browser here: https://wandb.ai/authorize?ref=models\n",
            "wandb: Paste an API key from your profile and hit enter:"
          ]
        },
        {
          "name": "stdout",
          "output_type": "stream",
          "text": [
            " ··········\n"
          ]
        },
        {
          "output_type": "stream",
          "name": "stderr",
          "text": [
            "\u001b[34m\u001b[1mwandb\u001b[0m: \u001b[33mWARNING\u001b[0m If you're specifying your api key in code, ensure this code is not shared publicly.\n",
            "\u001b[34m\u001b[1mwandb\u001b[0m: \u001b[33mWARNING\u001b[0m Consider setting the WANDB_API_KEY environment variable, or running `wandb login` from the command line.\n",
            "\u001b[34m\u001b[1mwandb\u001b[0m: No netrc file found, creating one.\n",
            "\u001b[34m\u001b[1mwandb\u001b[0m: Appending key for api.wandb.ai to your netrc file: /root/.netrc\n",
            "\u001b[34m\u001b[1mwandb\u001b[0m: Currently logged in as: \u001b[33msimeonbetapudi\u001b[0m (\u001b[33msimeonbetapudi-belmont-university\u001b[0m) to \u001b[32mhttps://api.wandb.ai\u001b[0m. Use \u001b[1m`wandb login --relogin`\u001b[0m to force relogin\n"
          ]
        },
        {
          "output_type": "display_data",
          "data": {
            "text/plain": [
              "<IPython.core.display.HTML object>"
            ],
            "text/html": []
          },
          "metadata": {}
        },
        {
          "output_type": "display_data",
          "data": {
            "text/plain": [
              "<IPython.core.display.HTML object>"
            ],
            "text/html": [
              "Tracking run with wandb version 0.22.1"
            ]
          },
          "metadata": {}
        },
        {
          "output_type": "display_data",
          "data": {
            "text/plain": [
              "<IPython.core.display.HTML object>"
            ],
            "text/html": [
              "Run data is saved locally in <code>./wandb/run-20251007_173852-ksadgczc</code>"
            ]
          },
          "metadata": {}
        },
        {
          "output_type": "display_data",
          "data": {
            "text/plain": [
              "<IPython.core.display.HTML object>"
            ],
            "text/html": [
              "Syncing run <strong><a href='https://wandb.ai/simeonbetapudi-belmont-university/vaeunet_tut/runs/ksadgczc' target=\"_blank\">solar-universe-2</a></strong> to <a href='https://wandb.ai/simeonbetapudi-belmont-university/vaeunet_tut' target=\"_blank\">Weights & Biases</a> (<a href='https://wandb.me/developer-guide' target=\"_blank\">docs</a>)<br>"
            ]
          },
          "metadata": {}
        },
        {
          "output_type": "display_data",
          "data": {
            "text/plain": [
              "<IPython.core.display.HTML object>"
            ],
            "text/html": [
              " View project at <a href='https://wandb.ai/simeonbetapudi-belmont-university/vaeunet_tut' target=\"_blank\">https://wandb.ai/simeonbetapudi-belmont-university/vaeunet_tut</a>"
            ]
          },
          "metadata": {}
        },
        {
          "output_type": "display_data",
          "data": {
            "text/plain": [
              "<IPython.core.display.HTML object>"
            ],
            "text/html": [
              " View run at <a href='https://wandb.ai/simeonbetapudi-belmont-university/vaeunet_tut/runs/ksadgczc' target=\"_blank\">https://wandb.ai/simeonbetapudi-belmont-university/vaeunet_tut/runs/ksadgczc</a>"
            ]
          },
          "metadata": {}
        },
        {
          "output_type": "stream",
          "name": "stderr",
          "text": [
            "\u001b[34m\u001b[1mwandb\u001b[0m: logging graph, to disable use `wandb.watch(log_graph=False)`\n"
          ]
        }
      ]
    },
    {
      "cell_type": "code",
      "source": [
        "epochs = 25  # VAEs require more steps to train than vanilla AEs, due to dual-objective loss\n",
        "trainer = L.Trainer(max_epochs=epochs, devices=\"auto\", logger=wandb_logger, callbacks=RichProgressBar(leave=True))\n",
        "trainer.fit(model=vae, train_dataloaders=train_dl, val_dataloaders=val_dl)\n",
        "wandb.finish()"
      ],
      "metadata": {
        "colab": {
          "base_uri": "https://localhost:8080/",
          "height": 1000,
          "referenced_widgets": [
            "628c416a92504ae6a1e0f1642f5794bb",
            "f5221f4a2a62458cbbe01c240e5255c9",
            "eb59a5a72d014289a79112b9eb7b1e12",
            "afe531d2b88f40b4933c021a19b7b1cb",
            "9df6e7b174cb47c7a12c4e96f834acab",
            "b73bccffb3144c3fb57cf228bcd8e4fe",
            "6a626dd20bb048dcb933338b694bcbb2",
            "4a8559eaaf5e4ebfab35aea6a2877399",
            "6be38872a600431786bfc276cd733af8",
            "c1ace9fe989e491f89790cfba1a16f2f",
            "7fa6f74966d2442dbc2adda57a7109af",
            "c795eb8754a14e8c8f2c5a1346a06b98",
            "69faf9debc97431e9a1059679d139c8e",
            "863bfac4b6134672861c10703fc36909",
            "c9b0d505eb9443439ac19c6b304371ba",
            "5b8a1332824f496bb04e56df20257579",
            "4065a5d86b95496fad59763775296cd2",
            "583297d0f9d24a0c87bbafa7ded74496",
            "5cad3daec8eb400596fc962c9e67558a",
            "43917dcf94e04d04a774d6a9dc505439",
            "bb7dabac0c524d86bfccefe5e2958b67",
            "03a0e977f12e48dda42df02d23938866",
            "df52be995c854f6f809033dd7284b403",
            "0c0da392e49b4ae4a1da6accfa6ee0dd",
            "7d9e8c8ea0e04d05a3f27d61302ba654",
            "266bf3c0dc49427da86e538b11e8b85d",
            "85ed92285c054d94874660bc81ee9b9b",
            "531a57016fcd4f81aa0d848d0431f382",
            "46daba17b5d84efba4959c4afca10fad",
            "823020e3944647ccacb5647b890215e1",
            "745ac82b05a445b0b4294876adfdb126",
            "0f1198fde92f405b966a7ec42df62b80",
            "3fd5c0e6d3dc4f959638fe702be5afc8",
            "bc2ee39b8ee2423daab3e1001f8c5b24",
            "932bae05dc8a4f31b396fbe16e4e0575",
            "80becc29f635487585b5818e44bc4ba0",
            "7eb4e480237b45ec9ce81a05b3541af2",
            "213339c8228c4bf5969a6edfc0c813ee",
            "30ebec1dc9d647988b42a080793ea740",
            "8ec96ba4e5544a528a9e7486d1a0dde6",
            "92d6d342336942519ffaf1cd999c28b5",
            "14643199142d441e903a2c43f344c340",
            "858f01ad3c254312b32815dcf27dca27",
            "76fd1b9f20c74dc1a7fa4ae7405f3be7",
            "cff8703c8cfb4dc7aed19c0ddc5c016e",
            "0b6a0ec82d4d478b9688b4ce7c30e686",
            "0744080982b841408d37172baa90971f",
            "51a0d0d8c41345deaa8c04fe37cbabd7",
            "9ec05738af8c4ae8abaf4bc509525525",
            "2630bde5a9d34b2f8bf73a7522fcf701"
          ]
        },
        "id": "E-VkIPvkuk2G",
        "outputId": "d4be8237-a4ee-47c6-f182-0f9352c1b4ca"
      },
      "execution_count": null,
      "outputs": [
        {
          "output_type": "stream",
          "name": "stderr",
          "text": [
            "INFO: 💡 Tip: For seamless cloud uploads and versioning, try installing [litmodels](https://pypi.org/project/litmodels/) to enable LitModelCheckpoint, which syncs automatically with the Lightning model registry.\n",
            "INFO:lightning.pytorch.utilities.rank_zero:💡 Tip: For seamless cloud uploads and versioning, try installing [litmodels](https://pypi.org/project/litmodels/) to enable LitModelCheckpoint, which syncs automatically with the Lightning model registry.\n",
            "INFO: GPU available: True (cuda), used: True\n",
            "INFO:lightning.pytorch.utilities.rank_zero:GPU available: True (cuda), used: True\n",
            "INFO: TPU available: False, using: 0 TPU cores\n",
            "INFO:lightning.pytorch.utilities.rank_zero:TPU available: False, using: 0 TPU cores\n",
            "INFO: HPU available: False, using: 0 HPUs\n",
            "INFO:lightning.pytorch.utilities.rank_zero:HPU available: False, using: 0 HPUs\n",
            "INFO: LOCAL_RANK: 0 - CUDA_VISIBLE_DEVICES: [0]\n",
            "INFO:lightning.pytorch.accelerators.cuda:LOCAL_RANK: 0 - CUDA_VISIBLE_DEVICES: [0]\n"
          ]
        },
        {
          "output_type": "display_data",
          "data": {
            "text/plain": [
              "┏━━━━┳━━━━━━━━━━━┳━━━━━━━━━━━━┳━━━━━━━━┳━━━━━━━┓\n",
              "┃\u001b[1;35m \u001b[0m\u001b[1;35m  \u001b[0m\u001b[1;35m \u001b[0m┃\u001b[1;35m \u001b[0m\u001b[1;35mName     \u001b[0m\u001b[1;35m \u001b[0m┃\u001b[1;35m \u001b[0m\u001b[1;35mType      \u001b[0m\u001b[1;35m \u001b[0m┃\u001b[1;35m \u001b[0m\u001b[1;35mParams\u001b[0m\u001b[1;35m \u001b[0m┃\u001b[1;35m \u001b[0m\u001b[1;35mMode \u001b[0m\u001b[1;35m \u001b[0m┃\n",
              "┡━━━━╇━━━━━━━━━━━╇━━━━━━━━━━━━╇━━━━━━━━╇━━━━━━━┩\n",
              "│\u001b[2m \u001b[0m\u001b[2m0 \u001b[0m\u001b[2m \u001b[0m│ enc1      │ Sequential │  9.7 K │ train │\n",
              "│\u001b[2m \u001b[0m\u001b[2m1 \u001b[0m\u001b[2m \u001b[0m│ enc2      │ Sequential │ 70.0 K │ train │\n",
              "│\u001b[2m \u001b[0m\u001b[2m2 \u001b[0m\u001b[2m \u001b[0m│ enc3      │ Sequential │  279 K │ train │\n",
              "│\u001b[2m \u001b[0m\u001b[2m3 \u001b[0m\u001b[2m \u001b[0m│ fc_mu     │ Linear     │ 50.2 K │ train │\n",
              "│\u001b[2m \u001b[0m\u001b[2m4 \u001b[0m\u001b[2m \u001b[0m│ fc_logvar │ Linear     │ 50.2 K │ train │\n",
              "│\u001b[2m \u001b[0m\u001b[2m5 \u001b[0m\u001b[2m \u001b[0m│ fc_dec    │ Linear     │ 56.4 K │ train │\n",
              "│\u001b[2m \u001b[0m\u001b[2m6 \u001b[0m\u001b[2m \u001b[0m│ dec3_up   │ Sequential │  131 K │ train │\n",
              "│\u001b[2m \u001b[0m\u001b[2m7 \u001b[0m\u001b[2m \u001b[0m│ dec3_conv │ Sequential │  110 K │ train │\n",
              "│\u001b[2m \u001b[0m\u001b[2m8 \u001b[0m\u001b[2m \u001b[0m│ dec2_up   │ Sequential │ 32.9 K │ train │\n",
              "│\u001b[2m \u001b[0m\u001b[2m9 \u001b[0m\u001b[2m \u001b[0m│ dec2_conv │ Sequential │ 27.8 K │ train │\n",
              "│\u001b[2m \u001b[0m\u001b[2m10\u001b[0m\u001b[2m \u001b[0m│ dec_final │ Sequential │     33 │ train │\n",
              "└────┴───────────┴────────────┴────────┴───────┘\n"
            ],
            "text/html": [
              "<pre style=\"white-space:pre;overflow-x:auto;line-height:normal;font-family:Menlo,'DejaVu Sans Mono',consolas,'Courier New',monospace\">┏━━━━┳━━━━━━━━━━━┳━━━━━━━━━━━━┳━━━━━━━━┳━━━━━━━┓\n",
              "┃<span style=\"color: #800080; text-decoration-color: #800080; font-weight: bold\">    </span>┃<span style=\"color: #800080; text-decoration-color: #800080; font-weight: bold\"> Name      </span>┃<span style=\"color: #800080; text-decoration-color: #800080; font-weight: bold\"> Type       </span>┃<span style=\"color: #800080; text-decoration-color: #800080; font-weight: bold\"> Params </span>┃<span style=\"color: #800080; text-decoration-color: #800080; font-weight: bold\"> Mode  </span>┃\n",
              "┡━━━━╇━━━━━━━━━━━╇━━━━━━━━━━━━╇━━━━━━━━╇━━━━━━━┩\n",
              "│<span style=\"color: #7f7f7f; text-decoration-color: #7f7f7f\"> 0  </span>│ enc1      │ Sequential │  9.7 K │ train │\n",
              "│<span style=\"color: #7f7f7f; text-decoration-color: #7f7f7f\"> 1  </span>│ enc2      │ Sequential │ 70.0 K │ train │\n",
              "│<span style=\"color: #7f7f7f; text-decoration-color: #7f7f7f\"> 2  </span>│ enc3      │ Sequential │  279 K │ train │\n",
              "│<span style=\"color: #7f7f7f; text-decoration-color: #7f7f7f\"> 3  </span>│ fc_mu     │ Linear     │ 50.2 K │ train │\n",
              "│<span style=\"color: #7f7f7f; text-decoration-color: #7f7f7f\"> 4  </span>│ fc_logvar │ Linear     │ 50.2 K │ train │\n",
              "│<span style=\"color: #7f7f7f; text-decoration-color: #7f7f7f\"> 5  </span>│ fc_dec    │ Linear     │ 56.4 K │ train │\n",
              "│<span style=\"color: #7f7f7f; text-decoration-color: #7f7f7f\"> 6  </span>│ dec3_up   │ Sequential │  131 K │ train │\n",
              "│<span style=\"color: #7f7f7f; text-decoration-color: #7f7f7f\"> 7  </span>│ dec3_conv │ Sequential │  110 K │ train │\n",
              "│<span style=\"color: #7f7f7f; text-decoration-color: #7f7f7f\"> 8  </span>│ dec2_up   │ Sequential │ 32.9 K │ train │\n",
              "│<span style=\"color: #7f7f7f; text-decoration-color: #7f7f7f\"> 9  </span>│ dec2_conv │ Sequential │ 27.8 K │ train │\n",
              "│<span style=\"color: #7f7f7f; text-decoration-color: #7f7f7f\"> 10 </span>│ dec_final │ Sequential │     33 │ train │\n",
              "└────┴───────────┴────────────┴────────┴───────┘\n",
              "</pre>\n"
            ]
          },
          "metadata": {}
        },
        {
          "output_type": "display_data",
          "data": {
            "text/plain": [
              "\u001b[1mTrainable params\u001b[0m: 818 K                                                                                            \n",
              "\u001b[1mNon-trainable params\u001b[0m: 0                                                                                            \n",
              "\u001b[1mTotal params\u001b[0m: 818 K                                                                                                \n",
              "\u001b[1mTotal estimated model params size (MB)\u001b[0m: 3                                                                          \n",
              "\u001b[1mModules in train mode\u001b[0m: 49                                                                                          \n",
              "\u001b[1mModules in eval mode\u001b[0m: 0                                                                                            \n"
            ],
            "text/html": [
              "<pre style=\"white-space:pre;overflow-x:auto;line-height:normal;font-family:Menlo,'DejaVu Sans Mono',consolas,'Courier New',monospace\"><span style=\"font-weight: bold\">Trainable params</span>: 818 K                                                                                            \n",
              "<span style=\"font-weight: bold\">Non-trainable params</span>: 0                                                                                            \n",
              "<span style=\"font-weight: bold\">Total params</span>: 818 K                                                                                                \n",
              "<span style=\"font-weight: bold\">Total estimated model params size (MB)</span>: 3                                                                          \n",
              "<span style=\"font-weight: bold\">Modules in train mode</span>: 49                                                                                          \n",
              "<span style=\"font-weight: bold\">Modules in eval mode</span>: 0                                                                                            \n",
              "</pre>\n"
            ]
          },
          "metadata": {}
        },
        {
          "output_type": "display_data",
          "data": {
            "text/plain": [
              "Output()"
            ],
            "application/vnd.jupyter.widget-view+json": {
              "version_major": 2,
              "version_minor": 0,
              "model_id": "628c416a92504ae6a1e0f1642f5794bb"
            }
          },
          "metadata": {}
        },
        {
          "output_type": "display_data",
          "data": {
            "text/plain": [],
            "text/html": [
              "<pre style=\"white-space:pre;overflow-x:auto;line-height:normal;font-family:Menlo,'DejaVu Sans Mono',consolas,'Courier New',monospace\"></pre>\n"
            ]
          },
          "metadata": {}
        },
        {
          "output_type": "display_data",
          "data": {
            "text/plain": [
              "Output()"
            ],
            "application/vnd.jupyter.widget-view+json": {
              "version_major": 2,
              "version_minor": 0,
              "model_id": "eb59a5a72d014289a79112b9eb7b1e12"
            }
          },
          "metadata": {}
        },
        {
          "output_type": "display_data",
          "data": {
            "text/plain": [],
            "text/html": [
              "<pre style=\"white-space:pre;overflow-x:auto;line-height:normal;font-family:Menlo,'DejaVu Sans Mono',consolas,'Courier New',monospace\"></pre>\n"
            ]
          },
          "metadata": {}
        },
        {
          "output_type": "display_data",
          "data": {
            "text/plain": [
              "Output()"
            ],
            "application/vnd.jupyter.widget-view+json": {
              "version_major": 2,
              "version_minor": 0,
              "model_id": "9df6e7b174cb47c7a12c4e96f834acab"
            }
          },
          "metadata": {}
        },
        {
          "output_type": "display_data",
          "data": {
            "text/plain": [],
            "text/html": [
              "<pre style=\"white-space:pre;overflow-x:auto;line-height:normal;font-family:Menlo,'DejaVu Sans Mono',consolas,'Courier New',monospace\"></pre>\n"
            ]
          },
          "metadata": {}
        },
        {
          "output_type": "display_data",
          "data": {
            "text/plain": [
              "Output()"
            ],
            "application/vnd.jupyter.widget-view+json": {
              "version_major": 2,
              "version_minor": 0,
              "model_id": "6a626dd20bb048dcb933338b694bcbb2"
            }
          },
          "metadata": {}
        },
        {
          "output_type": "display_data",
          "data": {
            "text/plain": [],
            "text/html": [
              "<pre style=\"white-space:pre;overflow-x:auto;line-height:normal;font-family:Menlo,'DejaVu Sans Mono',consolas,'Courier New',monospace\"></pre>\n"
            ]
          },
          "metadata": {}
        },
        {
          "output_type": "display_data",
          "data": {
            "text/plain": [
              "Output()"
            ],
            "application/vnd.jupyter.widget-view+json": {
              "version_major": 2,
              "version_minor": 0,
              "model_id": "6be38872a600431786bfc276cd733af8"
            }
          },
          "metadata": {}
        },
        {
          "output_type": "display_data",
          "data": {
            "text/plain": [],
            "text/html": [
              "<pre style=\"white-space:pre;overflow-x:auto;line-height:normal;font-family:Menlo,'DejaVu Sans Mono',consolas,'Courier New',monospace\"></pre>\n"
            ]
          },
          "metadata": {}
        },
        {
          "output_type": "display_data",
          "data": {
            "text/plain": [
              "Output()"
            ],
            "application/vnd.jupyter.widget-view+json": {
              "version_major": 2,
              "version_minor": 0,
              "model_id": "7fa6f74966d2442dbc2adda57a7109af"
            }
          },
          "metadata": {}
        },
        {
          "output_type": "display_data",
          "data": {
            "text/plain": [],
            "text/html": [
              "<pre style=\"white-space:pre;overflow-x:auto;line-height:normal;font-family:Menlo,'DejaVu Sans Mono',consolas,'Courier New',monospace\"></pre>\n"
            ]
          },
          "metadata": {}
        },
        {
          "output_type": "display_data",
          "data": {
            "text/plain": [
              "Output()"
            ],
            "application/vnd.jupyter.widget-view+json": {
              "version_major": 2,
              "version_minor": 0,
              "model_id": "69faf9debc97431e9a1059679d139c8e"
            }
          },
          "metadata": {}
        },
        {
          "output_type": "display_data",
          "data": {
            "text/plain": [],
            "text/html": [
              "<pre style=\"white-space:pre;overflow-x:auto;line-height:normal;font-family:Menlo,'DejaVu Sans Mono',consolas,'Courier New',monospace\"></pre>\n"
            ]
          },
          "metadata": {}
        },
        {
          "output_type": "display_data",
          "data": {
            "text/plain": [
              "Output()"
            ],
            "application/vnd.jupyter.widget-view+json": {
              "version_major": 2,
              "version_minor": 0,
              "model_id": "c9b0d505eb9443439ac19c6b304371ba"
            }
          },
          "metadata": {}
        },
        {
          "output_type": "display_data",
          "data": {
            "text/plain": [],
            "text/html": [
              "<pre style=\"white-space:pre;overflow-x:auto;line-height:normal;font-family:Menlo,'DejaVu Sans Mono',consolas,'Courier New',monospace\"></pre>\n"
            ]
          },
          "metadata": {}
        },
        {
          "output_type": "display_data",
          "data": {
            "text/plain": [
              "Output()"
            ],
            "application/vnd.jupyter.widget-view+json": {
              "version_major": 2,
              "version_minor": 0,
              "model_id": "4065a5d86b95496fad59763775296cd2"
            }
          },
          "metadata": {}
        },
        {
          "output_type": "display_data",
          "data": {
            "text/plain": [],
            "text/html": [
              "<pre style=\"white-space:pre;overflow-x:auto;line-height:normal;font-family:Menlo,'DejaVu Sans Mono',consolas,'Courier New',monospace\"></pre>\n"
            ]
          },
          "metadata": {}
        },
        {
          "output_type": "display_data",
          "data": {
            "text/plain": [
              "Output()"
            ],
            "application/vnd.jupyter.widget-view+json": {
              "version_major": 2,
              "version_minor": 0,
              "model_id": "5cad3daec8eb400596fc962c9e67558a"
            }
          },
          "metadata": {}
        },
        {
          "output_type": "display_data",
          "data": {
            "text/plain": [],
            "text/html": [
              "<pre style=\"white-space:pre;overflow-x:auto;line-height:normal;font-family:Menlo,'DejaVu Sans Mono',consolas,'Courier New',monospace\"></pre>\n"
            ]
          },
          "metadata": {}
        },
        {
          "output_type": "display_data",
          "data": {
            "text/plain": [
              "Output()"
            ],
            "application/vnd.jupyter.widget-view+json": {
              "version_major": 2,
              "version_minor": 0,
              "model_id": "bb7dabac0c524d86bfccefe5e2958b67"
            }
          },
          "metadata": {}
        },
        {
          "output_type": "display_data",
          "data": {
            "text/plain": [],
            "text/html": [
              "<pre style=\"white-space:pre;overflow-x:auto;line-height:normal;font-family:Menlo,'DejaVu Sans Mono',consolas,'Courier New',monospace\"></pre>\n"
            ]
          },
          "metadata": {}
        },
        {
          "output_type": "display_data",
          "data": {
            "text/plain": [
              "Output()"
            ],
            "application/vnd.jupyter.widget-view+json": {
              "version_major": 2,
              "version_minor": 0,
              "model_id": "df52be995c854f6f809033dd7284b403"
            }
          },
          "metadata": {}
        },
        {
          "output_type": "display_data",
          "data": {
            "text/plain": [],
            "text/html": [
              "<pre style=\"white-space:pre;overflow-x:auto;line-height:normal;font-family:Menlo,'DejaVu Sans Mono',consolas,'Courier New',monospace\"></pre>\n"
            ]
          },
          "metadata": {}
        },
        {
          "output_type": "display_data",
          "data": {
            "text/plain": [
              "Output()"
            ],
            "application/vnd.jupyter.widget-view+json": {
              "version_major": 2,
              "version_minor": 0,
              "model_id": "7d9e8c8ea0e04d05a3f27d61302ba654"
            }
          },
          "metadata": {}
        },
        {
          "output_type": "display_data",
          "data": {
            "text/plain": [],
            "text/html": [
              "<pre style=\"white-space:pre;overflow-x:auto;line-height:normal;font-family:Menlo,'DejaVu Sans Mono',consolas,'Courier New',monospace\"></pre>\n"
            ]
          },
          "metadata": {}
        },
        {
          "output_type": "display_data",
          "data": {
            "text/plain": [
              "Output()"
            ],
            "application/vnd.jupyter.widget-view+json": {
              "version_major": 2,
              "version_minor": 0,
              "model_id": "85ed92285c054d94874660bc81ee9b9b"
            }
          },
          "metadata": {}
        },
        {
          "output_type": "display_data",
          "data": {
            "text/plain": [],
            "text/html": [
              "<pre style=\"white-space:pre;overflow-x:auto;line-height:normal;font-family:Menlo,'DejaVu Sans Mono',consolas,'Courier New',monospace\"></pre>\n"
            ]
          },
          "metadata": {}
        },
        {
          "output_type": "display_data",
          "data": {
            "text/plain": [
              "Output()"
            ],
            "application/vnd.jupyter.widget-view+json": {
              "version_major": 2,
              "version_minor": 0,
              "model_id": "46daba17b5d84efba4959c4afca10fad"
            }
          },
          "metadata": {}
        },
        {
          "output_type": "display_data",
          "data": {
            "text/plain": [],
            "text/html": [
              "<pre style=\"white-space:pre;overflow-x:auto;line-height:normal;font-family:Menlo,'DejaVu Sans Mono',consolas,'Courier New',monospace\"></pre>\n"
            ]
          },
          "metadata": {}
        },
        {
          "output_type": "display_data",
          "data": {
            "text/plain": [
              "Output()"
            ],
            "application/vnd.jupyter.widget-view+json": {
              "version_major": 2,
              "version_minor": 0,
              "model_id": "745ac82b05a445b0b4294876adfdb126"
            }
          },
          "metadata": {}
        },
        {
          "output_type": "display_data",
          "data": {
            "text/plain": [],
            "text/html": [
              "<pre style=\"white-space:pre;overflow-x:auto;line-height:normal;font-family:Menlo,'DejaVu Sans Mono',consolas,'Courier New',monospace\"></pre>\n"
            ]
          },
          "metadata": {}
        },
        {
          "output_type": "display_data",
          "data": {
            "text/plain": [
              "Output()"
            ],
            "application/vnd.jupyter.widget-view+json": {
              "version_major": 2,
              "version_minor": 0,
              "model_id": "3fd5c0e6d3dc4f959638fe702be5afc8"
            }
          },
          "metadata": {}
        },
        {
          "output_type": "display_data",
          "data": {
            "text/plain": [],
            "text/html": [
              "<pre style=\"white-space:pre;overflow-x:auto;line-height:normal;font-family:Menlo,'DejaVu Sans Mono',consolas,'Courier New',monospace\"></pre>\n"
            ]
          },
          "metadata": {}
        },
        {
          "output_type": "display_data",
          "data": {
            "text/plain": [
              "Output()"
            ],
            "application/vnd.jupyter.widget-view+json": {
              "version_major": 2,
              "version_minor": 0,
              "model_id": "932bae05dc8a4f31b396fbe16e4e0575"
            }
          },
          "metadata": {}
        },
        {
          "output_type": "display_data",
          "data": {
            "text/plain": [],
            "text/html": [
              "<pre style=\"white-space:pre;overflow-x:auto;line-height:normal;font-family:Menlo,'DejaVu Sans Mono',consolas,'Courier New',monospace\"></pre>\n"
            ]
          },
          "metadata": {}
        },
        {
          "output_type": "display_data",
          "data": {
            "text/plain": [
              "Output()"
            ],
            "application/vnd.jupyter.widget-view+json": {
              "version_major": 2,
              "version_minor": 0,
              "model_id": "7eb4e480237b45ec9ce81a05b3541af2"
            }
          },
          "metadata": {}
        },
        {
          "output_type": "display_data",
          "data": {
            "text/plain": [],
            "text/html": [
              "<pre style=\"white-space:pre;overflow-x:auto;line-height:normal;font-family:Menlo,'DejaVu Sans Mono',consolas,'Courier New',monospace\"></pre>\n"
            ]
          },
          "metadata": {}
        },
        {
          "output_type": "display_data",
          "data": {
            "text/plain": [
              "Output()"
            ],
            "application/vnd.jupyter.widget-view+json": {
              "version_major": 2,
              "version_minor": 0,
              "model_id": "30ebec1dc9d647988b42a080793ea740"
            }
          },
          "metadata": {}
        },
        {
          "output_type": "display_data",
          "data": {
            "text/plain": [],
            "text/html": [
              "<pre style=\"white-space:pre;overflow-x:auto;line-height:normal;font-family:Menlo,'DejaVu Sans Mono',consolas,'Courier New',monospace\"></pre>\n"
            ]
          },
          "metadata": {}
        },
        {
          "output_type": "display_data",
          "data": {
            "text/plain": [
              "Output()"
            ],
            "application/vnd.jupyter.widget-view+json": {
              "version_major": 2,
              "version_minor": 0,
              "model_id": "92d6d342336942519ffaf1cd999c28b5"
            }
          },
          "metadata": {}
        },
        {
          "output_type": "display_data",
          "data": {
            "text/plain": [],
            "text/html": [
              "<pre style=\"white-space:pre;overflow-x:auto;line-height:normal;font-family:Menlo,'DejaVu Sans Mono',consolas,'Courier New',monospace\"></pre>\n"
            ]
          },
          "metadata": {}
        },
        {
          "output_type": "display_data",
          "data": {
            "text/plain": [
              "Output()"
            ],
            "application/vnd.jupyter.widget-view+json": {
              "version_major": 2,
              "version_minor": 0,
              "model_id": "858f01ad3c254312b32815dcf27dca27"
            }
          },
          "metadata": {}
        },
        {
          "output_type": "display_data",
          "data": {
            "text/plain": [],
            "text/html": [
              "<pre style=\"white-space:pre;overflow-x:auto;line-height:normal;font-family:Menlo,'DejaVu Sans Mono',consolas,'Courier New',monospace\"></pre>\n"
            ]
          },
          "metadata": {}
        },
        {
          "output_type": "display_data",
          "data": {
            "text/plain": [
              "Output()"
            ],
            "application/vnd.jupyter.widget-view+json": {
              "version_major": 2,
              "version_minor": 0,
              "model_id": "cff8703c8cfb4dc7aed19c0ddc5c016e"
            }
          },
          "metadata": {}
        },
        {
          "output_type": "display_data",
          "data": {
            "text/plain": [],
            "text/html": [
              "<pre style=\"white-space:pre;overflow-x:auto;line-height:normal;font-family:Menlo,'DejaVu Sans Mono',consolas,'Courier New',monospace\"></pre>\n"
            ]
          },
          "metadata": {}
        },
        {
          "output_type": "display_data",
          "data": {
            "text/plain": [
              "Output()"
            ],
            "application/vnd.jupyter.widget-view+json": {
              "version_major": 2,
              "version_minor": 0,
              "model_id": "0744080982b841408d37172baa90971f"
            }
          },
          "metadata": {}
        },
        {
          "output_type": "display_data",
          "data": {
            "text/plain": [],
            "text/html": [
              "<pre style=\"white-space:pre;overflow-x:auto;line-height:normal;font-family:Menlo,'DejaVu Sans Mono',consolas,'Courier New',monospace\"></pre>\n"
            ]
          },
          "metadata": {}
        },
        {
          "output_type": "display_data",
          "data": {
            "text/plain": [
              "Output()"
            ],
            "application/vnd.jupyter.widget-view+json": {
              "version_major": 2,
              "version_minor": 0,
              "model_id": "9ec05738af8c4ae8abaf4bc509525525"
            }
          },
          "metadata": {}
        },
        {
          "output_type": "stream",
          "name": "stderr",
          "text": [
            "INFO: `Trainer.fit` stopped: `max_epochs=25` reached.\n",
            "INFO:lightning.pytorch.utilities.rank_zero:`Trainer.fit` stopped: `max_epochs=25` reached.\n"
          ]
        },
        {
          "output_type": "display_data",
          "data": {
            "text/plain": [],
            "text/html": [
              "<pre style=\"white-space:pre;overflow-x:auto;line-height:normal;font-family:Menlo,'DejaVu Sans Mono',consolas,'Courier New',monospace\"></pre>\n"
            ]
          },
          "metadata": {}
        },
        {
          "output_type": "display_data",
          "data": {
            "text/plain": [
              "<IPython.core.display.HTML object>"
            ],
            "text/html": []
          },
          "metadata": {}
        },
        {
          "output_type": "display_data",
          "data": {
            "text/plain": [
              "<IPython.core.display.HTML object>"
            ],
            "text/html": [
              "<br>    <style><br>        .wandb-row {<br>            display: flex;<br>            flex-direction: row;<br>            flex-wrap: wrap;<br>            justify-content: flex-start;<br>            width: 100%;<br>        }<br>        .wandb-col {<br>            display: flex;<br>            flex-direction: column;<br>            flex-basis: 100%;<br>            flex: 1;<br>            padding: 10px;<br>        }<br>    </style><br><div class=\"wandb-row\"><div class=\"wandb-col\"><h3>Run history:</h3><br/><table class=\"wandb\"><tr><td>epoch</td><td>▁▁▁▂▂▂▂▂▃▃▃▃▃▃▃▄▄▄▄▅▅▅▅▅▅▆▆▆▆▆▆▇▇▇▇▇████</td></tr><tr><td>train/kl_loss</td><td>██▇▅▅▄▅▇▅▅▄▆▅▅▅▃▄▄▃▃▅▂▅▃▂▂▂▂▂▂▂▂▄▁▁▁▁▁▁▁</td></tr><tr><td>train/loss</td><td>█▄▃▃▁▁▂▂▁▁▂▁▂▁▂▁▁▁▁▁▁▁▁▁▁▂▂▂▁▂▂▁▁▁▁▁▁▁▁▂</td></tr><tr><td>train/recon_loss</td><td>█▅▃▂▁▁▁▁▁▁▁▁▁▁▁▁▁▁▁▁▁▁▁▁▁▁▁▁▁▁▁▁▁▁▁▁▁▁▁▁</td></tr><tr><td>train/rescaled_kl_loss</td><td>█▆▄▃▃▃▂▄▃▃▂▂▄▃▃▂▂▂▂▃▂▂▁▁▂▁▁▁▁▁▁▁▁▁▁▁▁▁▁▁</td></tr><tr><td>trainer/global_step</td><td>▁▁▁▂▂▂▂▃▃▃▄▄▄▄▄▄▄▄▄▅▅▅▅▅▅▆▆▆▆▇▇▇▇▇▇█████</td></tr><tr><td>val/kl_loss</td><td>█▅▄▅▃▅█▅▃▄▃▃▄▂▂▂▂▂▂▁▁▁▁▂▁</td></tr><tr><td>val/loss</td><td>█▃▂▂▁▁▁▁▁▁▁▁▁▁▁▁▁▁▁▁▁▁▁▁▁</td></tr><tr><td>val/recon_loss</td><td>█▃▂▂▁▁▁▁▁▁▁▁▁▁▁▁▁▁▁▁▁▁▁▁▁</td></tr><tr><td>val/rescaled_kl_loss</td><td>█▅▄▅▃▅█▅▃▄▃▃▄▂▂▂▂▂▂▁▁▁▁▂▁</td></tr></table><br/></div><div class=\"wandb-col\"><h3>Run summary:</h3><br/><table class=\"wandb\"><tr><td>epoch</td><td>24</td></tr><tr><td>train/kl_loss</td><td>7e-05</td></tr><tr><td>train/loss</td><td>0.05821</td></tr><tr><td>train/recon_loss</td><td>0.05821</td></tr><tr><td>train/rescaled_kl_loss</td><td>0.0</td></tr><tr><td>trainer/global_step</td><td>11724</td></tr><tr><td>val/kl_loss</td><td>0.00014</td></tr><tr><td>val/loss</td><td>0.05814</td></tr><tr><td>val/recon_loss</td><td>0.05814</td></tr><tr><td>val/rescaled_kl_loss</td><td>0.0</td></tr></table><br/></div></div>"
            ]
          },
          "metadata": {}
        },
        {
          "output_type": "display_data",
          "data": {
            "text/plain": [
              "<IPython.core.display.HTML object>"
            ],
            "text/html": [
              " View run <strong style=\"color:#cdcd00\">solar-universe-2</strong> at: <a href='https://wandb.ai/simeonbetapudi-belmont-university/vaeunet_tut/runs/ksadgczc' target=\"_blank\">https://wandb.ai/simeonbetapudi-belmont-university/vaeunet_tut/runs/ksadgczc</a><br> View project at: <a href='https://wandb.ai/simeonbetapudi-belmont-university/vaeunet_tut' target=\"_blank\">https://wandb.ai/simeonbetapudi-belmont-university/vaeunet_tut</a><br>Synced 5 W&B file(s), 27 media file(s), 50 artifact file(s) and 0 other file(s)"
            ]
          },
          "metadata": {}
        },
        {
          "output_type": "display_data",
          "data": {
            "text/plain": [
              "<IPython.core.display.HTML object>"
            ],
            "text/html": [
              "Find logs at: <code>./wandb/run-20251007_173852-ksadgczc/logs</code>"
            ]
          },
          "metadata": {}
        }
      ]
    },
    {
      "cell_type": "code",
      "source": [],
      "metadata": {
        "id": "Pt5c_uQOzstZ"
      },
      "execution_count": null,
      "outputs": []
    }
  ]
}