{
  "nbformat": 4,
  "nbformat_minor": 0,
  "metadata": {
    "colab": {
      "provenance": []
    },
    "kernelspec": {
      "name": "python3",
      "display_name": "Python 3"
    },
    "language_info": {
      "name": "python"
    }
  },
  "cells": [
    {
      "cell_type": "code",
      "execution_count": null,
      "metadata": {
        "id": "fz5ZPT-89n1d"
      },
      "outputs": [],
      "source": [
        "!pip install wandb -Uq"
      ]
    },
    {
      "cell_type": "code",
      "source": [
        "import wandb\n",
        "wandb.login()"
      ],
      "metadata": {
        "colab": {
          "base_uri": "https://localhost:8080/",
          "height": 197
        },
        "id": "m07FEc8R-qJu",
        "outputId": "9066a9ee-9ed9-4878-a1d8-795ade0bd998"
      },
      "execution_count": null,
      "outputs": [
        {
          "output_type": "stream",
          "name": "stderr",
          "text": [
            "/usr/local/lib/python3.12/dist-packages/notebook/notebookapp.py:191: SyntaxWarning: invalid escape sequence '\\/'\n",
            "  | |_| | '_ \\/ _` / _` |  _/ -_)\n"
          ]
        },
        {
          "output_type": "display_data",
          "data": {
            "text/plain": [
              "<IPython.core.display.Javascript object>"
            ],
            "application/javascript": [
              "\n",
              "        window._wandbApiKey = new Promise((resolve, reject) => {\n",
              "            function loadScript(url) {\n",
              "            return new Promise(function(resolve, reject) {\n",
              "                let newScript = document.createElement(\"script\");\n",
              "                newScript.onerror = reject;\n",
              "                newScript.onload = resolve;\n",
              "                document.body.appendChild(newScript);\n",
              "                newScript.src = url;\n",
              "            });\n",
              "            }\n",
              "            loadScript(\"https://cdn.jsdelivr.net/npm/postmate/build/postmate.min.js\").then(() => {\n",
              "            const iframe = document.createElement('iframe')\n",
              "            iframe.style.cssText = \"width:0;height:0;border:none\"\n",
              "            document.body.appendChild(iframe)\n",
              "            const handshake = new Postmate({\n",
              "                container: iframe,\n",
              "                url: 'https://wandb.ai/authorize'\n",
              "            });\n",
              "            const timeout = setTimeout(() => reject(\"Couldn't auto authenticate\"), 5000)\n",
              "            handshake.then(function(child) {\n",
              "                child.on('authorize', data => {\n",
              "                    clearTimeout(timeout)\n",
              "                    resolve(data)\n",
              "                });\n",
              "            });\n",
              "            })\n",
              "        });\n",
              "    "
            ]
          },
          "metadata": {}
        },
        {
          "output_type": "stream",
          "name": "stderr",
          "text": [
            "\u001b[34m\u001b[1mwandb\u001b[0m: \u001b[33mWARNING\u001b[0m If you're specifying your api key in code, ensure this code is not shared publicly.\n",
            "\u001b[34m\u001b[1mwandb\u001b[0m: \u001b[33mWARNING\u001b[0m Consider setting the WANDB_API_KEY environment variable, or running `wandb login` from the command line.\n",
            "\u001b[34m\u001b[1mwandb\u001b[0m: No netrc file found, creating one.\n",
            "\u001b[34m\u001b[1mwandb\u001b[0m: Appending key for api.wandb.ai to your netrc file: /root/.netrc\n",
            "\u001b[34m\u001b[1mwandb\u001b[0m: Currently logged in as: \u001b[33mjaydencruz824\u001b[0m (\u001b[33mjaydencruz824-belmont-university\u001b[0m) to \u001b[32mhttps://api.wandb.ai\u001b[0m. Use \u001b[1m`wandb login --relogin`\u001b[0m to force relogin\n"
          ]
        },
        {
          "output_type": "execute_result",
          "data": {
            "text/plain": [
              "True"
            ]
          },
          "metadata": {},
          "execution_count": 2
        }
      ]
    },
    {
      "cell_type": "code",
      "source": [
        "# Expanded sweep config\n",
        "sweep_config = {\n",
        "    'method': 'random',   # options: grid, random, bayes\n",
        "    'metric': {\n",
        "        'name': 'test_accuracy',\n",
        "        'goal': 'maximize'\n",
        "    },\n",
        "    'parameters': {\n",
        "        # Learning rate search space\n",
        "        'learning_rate': {\n",
        "            'values': [0.1, 0.01, 0.001, 0.0005, 0.0001, 0.00005]\n",
        "        },\n",
        "\n",
        "        # Batch sizes\n",
        "        'batch_size': {\n",
        "            'values': [32, 64, 128, 256, 512]\n",
        "        },\n",
        "\n",
        "        # Optimizer\n",
        "        'optimizer': {\n",
        "            'values': ['sgd', 'adam', 'adamw', 'rmsprop']\n",
        "        },\n",
        "\n",
        "        # Weight decay (regularization)\n",
        "        'weight_decay': {\n",
        "            'values': [0.0, 1e-4, 1e-3, 1e-2]\n",
        "        },\n",
        "\n",
        "        # Dropout\n",
        "        'dropout': {\n",
        "            'values': [0.0, 0.2, 0.5]\n",
        "        },\n",
        "\n",
        "        # Activation function\n",
        "        'activation': {\n",
        "            'values': ['ReLU', 'LeakyReLU', 'GELU', 'SiLU', 'Tanh']\n",
        "        },\n",
        "\n",
        "        # Model type\n",
        "        'model': {\n",
        "            'values': ['MLP', 'CNN']\n",
        "        },\n",
        "\n",
        "        # For MLP only: number of layers and hidden size\n",
        "        'num_layers': {\n",
        "            'values': [1, 2, 3, 4]\n",
        "        },\n",
        "        'hidden_dim': {\n",
        "            'values': [64, 128, 256, 512]\n",
        "        }\n",
        "    }\n",
        "}\n",
        "\n",
        "# Define available activation functions\n",
        "activations = {\n",
        "    \"ReLU\": torch.nn.ReLU(),\n",
        "    \"LeakyReLU\": torch.nn.LeakyReLU(),\n",
        "    \"GELU\": torch.nn.GELU(),\n",
        "    \"SiLU\": torch.nn.SiLU(),\n",
        "    \"Tanh\": torch.nn.Tanh()\n",
        "}\n",
        "\n",
        "\n",
        "# Sweep-compatible training function\n",
        "def sweep_train():\n",
        "    config = wandb.config\n",
        "\n",
        "    # Pick activation\n",
        "    activation = activations[config.activation]\n",
        "\n",
        "    # Build model\n",
        "    if config.model == 'MLP':\n",
        "        model = MLP(dataset_info,\n",
        "                    hidden_dim=config.hidden_dim,\n",
        "                    num_layers=config.num_layers,\n",
        "                    activation=activation,\n",
        "                    dropout=config.dropout).to(device)\n",
        "    else:\n",
        "        model = CNN(dataset_info,\n",
        "                    activation=activation,\n",
        "                    dropout=config.dropout).to(device)\n",
        "\n",
        "    # Choose optimizer\n",
        "    if config.optimizer == 'sgd':\n",
        "        optimizer = torch.optim.SGD(model.parameters(),\n",
        "                                    lr=config.learning_rate,\n",
        "                                    weight_decay=config.weight_decay)\n",
        "    elif config.optimizer == 'adam':\n",
        "        optimizer = torch.optim.Adam(model.parameters(),\n",
        "                                     lr=config.learning_rate,\n",
        "                                     weight_decay=config.weight_decay)\n",
        "    elif config.optimizer == 'adamw':\n",
        "        optimizer = torch.optim.AdamW(model.parameters(),\n",
        "                                      lr=config.learning_rate,\n",
        "                                      weight_decay=config.weight_decay)\n",
        "    else:\n",
        "        optimizer = torch.optim.RMSprop(model.parameters(),\n",
        "                                        lr=config.learning_rate,\n",
        "                                        weight_decay=config.weight_decay)\n",
        "\n",
        "    # Recreate DataLoaders with sweep batch size\n",
        "    train_loader = torch.utils.data.DataLoader(train_dataset,\n",
        "                                               batch_size=config.batch_size,\n",
        "                                               shuffle=True)\n",
        "    test_loader = torch.utils.data.DataLoader(test_dataset,\n",
        "                                              batch_size=config.batch_size,\n",
        "                                              shuffle=False)\n",
        "\n",
        "    # Train model\n",
        "    results = train_model(model,\n",
        "                          train_loader,\n",
        "                          test_loader,\n",
        "                          epochs=10,\n",
        "                          lr=config.learning_rate,\n",
        "                          optimizer=optimizer)\n",
        "\n",
        "    return results\n",
        "\n",
        "\n",
        "# Initialize and launch sweep\n",
        "sweep_id = wandb.sweep(sweep_config, project=\"convnet_MNIST\")\n",
        "wandb.agent(sweep_id, function=sweep_train, count=10)  # run 10 experiments\n"
      ],
      "metadata": {
        "colab": {
          "base_uri": "https://localhost:8080/",
          "height": 216
        },
        "id": "aL-QGL3XAO79",
        "outputId": "939704a3-2190-4365-ccc8-9e3acb708340"
      },
      "execution_count": null,
      "outputs": [
        {
          "output_type": "error",
          "ename": "NameError",
          "evalue": "name 'torch' is not defined",
          "traceback": [
            "\u001b[0;31m---------------------------------------------------------------------------\u001b[0m",
            "\u001b[0;31mNameError\u001b[0m                                 Traceback (most recent call last)",
            "\u001b[0;32m/tmp/ipython-input-4162770789.py\u001b[0m in \u001b[0;36m<cell line: 0>\u001b[0;34m()\u001b[0m\n\u001b[1;32m     54\u001b[0m \u001b[0;31m# Define available activation functions\u001b[0m\u001b[0;34m\u001b[0m\u001b[0;34m\u001b[0m\u001b[0m\n\u001b[1;32m     55\u001b[0m activations = {\n\u001b[0;32m---> 56\u001b[0;31m     \u001b[0;34m\"ReLU\"\u001b[0m\u001b[0;34m:\u001b[0m \u001b[0mtorch\u001b[0m\u001b[0;34m.\u001b[0m\u001b[0mnn\u001b[0m\u001b[0;34m.\u001b[0m\u001b[0mReLU\u001b[0m\u001b[0;34m(\u001b[0m\u001b[0;34m)\u001b[0m\u001b[0;34m,\u001b[0m\u001b[0;34m\u001b[0m\u001b[0;34m\u001b[0m\u001b[0m\n\u001b[0m\u001b[1;32m     57\u001b[0m     \u001b[0;34m\"LeakyReLU\"\u001b[0m\u001b[0;34m:\u001b[0m \u001b[0mtorch\u001b[0m\u001b[0;34m.\u001b[0m\u001b[0mnn\u001b[0m\u001b[0;34m.\u001b[0m\u001b[0mLeakyReLU\u001b[0m\u001b[0;34m(\u001b[0m\u001b[0;34m)\u001b[0m\u001b[0;34m,\u001b[0m\u001b[0;34m\u001b[0m\u001b[0;34m\u001b[0m\u001b[0m\n\u001b[1;32m     58\u001b[0m     \u001b[0;34m\"GELU\"\u001b[0m\u001b[0;34m:\u001b[0m \u001b[0mtorch\u001b[0m\u001b[0;34m.\u001b[0m\u001b[0mnn\u001b[0m\u001b[0;34m.\u001b[0m\u001b[0mGELU\u001b[0m\u001b[0;34m(\u001b[0m\u001b[0;34m)\u001b[0m\u001b[0;34m,\u001b[0m\u001b[0;34m\u001b[0m\u001b[0;34m\u001b[0m\u001b[0m\n",
            "\u001b[0;31mNameError\u001b[0m: name 'torch' is not defined"
          ]
        }
      ]
    }
  ]
}