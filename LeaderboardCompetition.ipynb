{
  "nbformat": 4,
  "nbformat_minor": 0,
  "metadata": {
    "colab": {
      "provenance": [],
      "authorship_tag": "ABX9TyO9EN4E7Xb4lnMRMcyQfoXx",
      "include_colab_link": true
    },
    "kernelspec": {
      "name": "python3",
      "display_name": "Python 3"
    },
    "language_info": {
      "name": "python"
    }
  },
  "cells": [
    {
      "cell_type": "markdown",
      "metadata": {
        "id": "view-in-github",
        "colab_type": "text"
      },
      "source": [
        "<a href=\"https://colab.research.google.com/github/simeonbetapudi/DeepLearningAIEthics/blob/main/LeaderboardCompetition.ipynb\" target=\"_parent\"><img src=\"https://colab.research.google.com/assets/colab-badge.svg\" alt=\"Open In Colab\"/></a>"
      ]
    },
    {
      "cell_type": "code",
      "execution_count": null,
      "metadata": {
        "colab": {
          "base_uri": "https://localhost:8080/"
        },
        "id": "zGWCNTLQ17WE",
        "outputId": "a7ec9a98-d208-4457-9810-6a291509bab7"
      },
      "outputs": [
        {
          "output_type": "stream",
          "name": "stdout",
          "text": [
            "Found existing installation: bigframes 2.23.0\n",
            "Uninstalling bigframes-2.23.0:\n",
            "  Successfully uninstalled bigframes-2.23.0\n",
            "\u001b[2K   \u001b[90m━━━━━━━━━━━━━━━━━━━━━━━━━━━━━━━━━━━━━━━━\u001b[0m \u001b[32m828.5/828.5 kB\u001b[0m \u001b[31m22.7 MB/s\u001b[0m eta \u001b[36m0:00:00\u001b[0m\n",
            "\u001b[2K   \u001b[90m━━━━━━━━━━━━━━━━━━━━━━━━━━━━━━━━━━━━━━━━\u001b[0m \u001b[32m243.4/243.4 kB\u001b[0m \u001b[31m16.4 MB/s\u001b[0m eta \u001b[36m0:00:00\u001b[0m\n",
            "\u001b[2K   \u001b[90m━━━━━━━━━━━━━━━━━━━━━━━━━━━━━━━━━━━━━━━━\u001b[0m \u001b[32m983.2/983.2 kB\u001b[0m \u001b[31m49.8 MB/s\u001b[0m eta \u001b[36m0:00:00\u001b[0m\n",
            "\u001b[2K   \u001b[90m━━━━━━━━━━━━━━━━━━━━━━━━━━━━━━━━━━━━━━━━\u001b[0m \u001b[32m832.4/832.4 kB\u001b[0m \u001b[31m37.2 MB/s\u001b[0m eta \u001b[36m0:00:00\u001b[0m\n",
            "\u001b[?25h"
          ]
        }
      ],
      "source": [
        "# Uninstall Colab's bigframes because it conflicts with other installs\n",
        "%pip uninstall -y bigframes\n",
        "# Install Lightning, also let's use \"rich\" progress bars\n",
        "%pip install -Uqq lightning wandb rich einops"
      ]
    },
    {
      "cell_type": "code",
      "source": [
        "import torch\n",
        "from torch import nn, optim, utils\n",
        "from torch.utils.data import DataLoader\n",
        "from torchvision.datasets import MNIST\n",
        "from torchvision.transforms import ToTensor, RandomAffine, RandomErasing\n",
        "import torchvision\n",
        "import matplotlib.pyplot as plt\n",
        "import torch.nn.functional as F\n",
        "# Not advocating Lightning over raw pytorch, but it offers some useful abstractions\n",
        "import lightning as L\n",
        "from lightning.pytorch.loggers import WandbLogger\n",
        "from lightning.pytorch.callbacks import RichProgressBar\n",
        "import wandb\n",
        "import numpy as np\n",
        "from einops import rearrange"
      ],
      "metadata": {
        "id": "s944-VoW2tgt"
      },
      "execution_count": null,
      "outputs": []
    },
    {
      "cell_type": "code",
      "source": [
        "# optional: define additional data augmentation transformers for the dataloader\n",
        "train_transforms = torchvision.transforms.Compose([\n",
        "    ToTensor(),\n",
        "    # uncomment next lines for extra augmentations\n",
        "    #RandomAffine(degrees=15, translate=(0.1, 0.1)),\n",
        "    #RandomErasing(p=0.2, scale=(0.02, 0.1))\n",
        "])\n",
        "\n",
        "train_ds = MNIST(root='./data', train=True,  download=True, transform=train_transforms)\n",
        "test_ds  = MNIST(root='./data', train=False, download=True, transform=ToTensor())\n",
        "val_ds = test_ds  #alias val for test\n",
        "print(f\"Data set lengths: train: {len(train_ds)}, test: {len(test_ds)}\")\n",
        "\n",
        "\n",
        "\n",
        "batch_size = 128   # could make this bigger; note for MNIST on Colab we're disk-speed limited, not GPU-limited\n",
        "train_dl = DataLoader(train_ds, batch_size=batch_size, num_workers=2, shuffle=True, persistent_workers=True)\n",
        "test_dl = DataLoader(test_ds, batch_size=batch_size, num_workers=2, shuffle=False, persistent_workers=True)\n",
        "val_dl = test_dl # alias val <--> test"
      ],
      "metadata": {
        "colab": {
          "base_uri": "https://localhost:8080/"
        },
        "id": "DYaC1K3c2y0y",
        "outputId": "374d2c33-4cfd-4b44-c564-fc5d63156cc1"
      },
      "execution_count": null,
      "outputs": [
        {
          "output_type": "stream",
          "name": "stderr",
          "text": [
            "100%|██████████| 9.91M/9.91M [00:00<00:00, 16.1MB/s]\n",
            "100%|██████████| 28.9k/28.9k [00:00<00:00, 481kB/s]\n",
            "100%|██████████| 1.65M/1.65M [00:00<00:00, 4.36MB/s]\n",
            "100%|██████████| 4.54k/4.54k [00:00<00:00, 1.43MB/s]\n"
          ]
        },
        {
          "output_type": "stream",
          "name": "stdout",
          "text": [
            "Data set lengths: train: 60000, test: 10000\n"
          ]
        }
      ]
    },
    {
      "cell_type": "code",
      "source": [
        "# @title Code for `show_xs` visualization tool\n",
        "def show_xs(xs, show_stats=True):\n",
        "    \"\"\"A little utility to show one or more images\"\"\"\n",
        "    if type(xs) is not list: xs = list(xs)\n",
        "    ncols = len(xs)\n",
        "    fig, axs = plt.subplots(figsize=(3*ncols,2), ncols=ncols, squeeze=False)\n",
        "    ax = axs.ravel()\n",
        "    for col, x in enumerate(xs):\n",
        "        if len(x.shape)>2: x = x[0] # remove any batch dimension\n",
        "        if show_stats:\n",
        "            if ncols > 1: print(f\"col {col}: \",end=\"\")\n",
        "            print(f\"x.shape = {tuple(x.shape)}, min(x) = {torch.min(x)}, max(x) = {torch.max(x)}\")\n",
        "        digit = ax[col].imshow(x.detach().cpu().numpy(), cmap='gray')\n",
        "        fig.colorbar(digit, ax=ax[col])\n",
        "    plt.show()\n",
        "\n",
        "x, y = next(iter(train_dl))   # pick a few elements from the dataset\n",
        "print(f\"y (target) = {y[:4]} \")\n",
        "\n",
        "show_xs(x[:4])"
      ],
      "metadata": {
        "colab": {
          "base_uri": "https://localhost:8080/",
          "height": 307
        },
        "cellView": "form",
        "id": "jouzpUh923K_",
        "outputId": "1d5bf6c8-c770-43c3-fa3c-dabd94783762"
      },
      "execution_count": null,
      "outputs": [
        {
          "output_type": "stream",
          "name": "stdout",
          "text": [
            "y (target) = tensor([7, 4, 4, 3]) \n",
            "col 0: x.shape = (28, 28), min(x) = 0.0, max(x) = 1.0\n",
            "col 1: x.shape = (28, 28), min(x) = 0.0, max(x) = 1.0\n",
            "col 2: x.shape = (28, 28), min(x) = 0.0, max(x) = 1.0\n",
            "col 3: x.shape = (28, 28), min(x) = 0.0, max(x) = 0.9960784316062927\n"
          ]
        },
        {
          "output_type": "display_data",
          "data": {
            "text/plain": [
              "<Figure size 1200x200 with 8 Axes>"
            ],
            "image/png": "[encoded data removed]"
          },
          "metadata": {}
        }
      ]
    },
    {
      "cell_type": "code",
      "source": [
        "# @title `test_inference` visualization code\n",
        "@torch.no_grad()\n",
        "def test_inference(model, idx=None, return_fig=False):\n",
        "    import inspect\n",
        "    model.eval()\n",
        "    if idx is None: idx = torch.randint(len(test_ds), (1,))[0]\n",
        "    if isinstance(idx, int): idx = [idx]\n",
        "    elif isinstance(idx, range): idx = list(idx)\n",
        "    x_batch = torch.stack([test_ds[i][0] for i in idx]).to(model.device)  # images\n",
        "    y_batch = torch.tensor([test_ds[i][1] for i in idx]).to(model.device) # labels\n",
        "    if not model.use_conv: x_batch = x_batch.view(x_batch.size(0), -1)\n",
        "    if 1==len(inspect.signature(model.forward).parameters): # for ae or vae\n",
        "        result = model.forward(x_batch)\n",
        "    else:                                                   # c-vae (later in lesson)\n",
        "        cond = F.one_hot(y_batch, num_classes=10).float()\n",
        "        result = model.forward(x_batch, cond)\n",
        "    z, recon = result[:2]\n",
        "    recon = recon.view(len(idx), 28, 28)\n",
        "    fig, axs = plt.subplots(2, len(idx), figsize=(3*len(idx), 4))\n",
        "    if len(idx) == 1: axs = axs.reshape(2, 1)\n",
        "    for i in range(len(idx)):\n",
        "        axs[0,i].imshow(x_batch[i].view(28,28).cpu(), cmap='gray')\n",
        "        axs[1,i].imshow(recon[i].cpu(), cmap='gray')\n",
        "        if i == 0:\n",
        "            axs[0,0].set_ylabel('Input', fontsize=12)\n",
        "            axs[1,0].set_ylabel('Reconstruction', fontsize=12)\n",
        "    model.train()\n",
        "    if return_fig: return fig\n",
        "    plt.show()"
      ],
      "metadata": {
        "cellView": "form",
        "id": "zd3h3zHW6NWR"
      },
      "execution_count": null,
      "outputs": []
    },
    {
      "cell_type": "code",
      "source": [
        "class DoubleConv(nn.Module):\n",
        "    \"\"\"Double convolution block used in U-Net\"\"\"\n",
        "    def __init__(self, in_channels, out_channels):\n",
        "        super().__init__()\n",
        "        self.double_conv = nn.Sequential(\n",
        "            nn.Conv2d(in_channels, out_channels, 3, padding=1, bias=False),\n",
        "            nn.BatchNorm2d(out_channels),\n",
        "            nn.ReLU(inplace=True),\n",
        "            nn.Conv2d(out_channels, out_channels, 3, padding=1, bias=False),\n",
        "            nn.BatchNorm2d(out_channels),\n",
        "            nn.ReLU(inplace=True)\n",
        "        )\n",
        "    def forward(self, x):\n",
        "        return self.double_conv(x)\n",
        "\n",
        "class Down(nn.Module):\n",
        "    \"\"\"Downscaling with maxpool then double conv\"\"\"\n",
        "    def __init__(self, in_channels, out_channels):\n",
        "        super().__init__()\n",
        "        self.maxpool_conv = nn.Sequential(nn.MaxPool2d(2), DoubleConv(in_channels, out_channels))\n",
        "    def forward(self, x):\n",
        "        return self.maxpool_conv(x)\n",
        "\n",
        "class Up(nn.Module):\n",
        "    \"\"\"Upscaling then double conv\"\"\"\n",
        "    def __init__(self, in_channels, out_channels):\n",
        "        super().__init__()\n",
        "        self.up = nn.ConvTranspose2d(in_channels, in_channels // 2, 2, stride=2)\n",
        "        self.conv = DoubleConv(in_channels, out_channels)\n",
        "\n",
        "    def forward(self, x1, x2):\n",
        "        x1 = self.up(x1)  # x1 from decoder path, x2 is skip connection from encoder\n",
        "        diffY = x2.size()[2] - x1.size()[2]\n",
        "        diffX = x2.size()[3] - x1.size()[3]\n",
        "        x1 = F.pad(x1, [diffX // 2, diffX - diffX // 2, diffY // 2, diffY - diffY // 2])\n",
        "        x = torch.cat([x2, x1], dim=1)  # Concatenate skip connection (key U-Net feature!)\n",
        "        return self.conv(x)"
      ],
      "metadata": {
        "id": "-YFEfnU7WmZF"
      },
      "execution_count": null,
      "outputs": []
    },
    {
      "cell_type": "code",
      "source": [
        "class UNetDown(nn.Module):\n",
        "  def __init__(self, n_channels=1, features=[64, 128, 256, 512]):\n",
        "        super().__init__()\n",
        "        self.features = features\n",
        "\n",
        "        self.inc = DoubleConv(n_channels, features[0])\n",
        "        self.downs = nn.ModuleList([Down(features[i], features[i+1]) for i in range(len(features)-1)])\n",
        "        self.flatten = nn.Flatten()\n",
        "        self.fc_mu = nn.Linear(features[-1] * 4 * 4, latent_dim)  # example for 4x4 spatial size\n",
        "        self.fc_logvar = nn.Linear(features[-1] * 4 * 4, latent_dim)\n",
        "\n",
        "  def forward(self, x):\n",
        "        skip_connections = []\n",
        "        x = self.inc(x)\n",
        "        skip_connections.append(x)\n",
        "\n",
        "        for down in self.downs:  # Downsampling path\n",
        "            x = down(x)\n",
        "            skip_connections.append(x)\n",
        "\n",
        "        skip_connections = skip_connections[:-1]  # Remove last (bottleneck)\n",
        "\n",
        "        x = self.flatten(x)\n",
        "        mu = self.fc_mu(x)\n",
        "        logvar = self.fc_logvar(x)\n",
        "\n",
        "        return mu, logvar, skip_connections\n",
        "\n",
        "\n",
        "class UNetUp(nn.Module):\n",
        "   def __init__(self, n_channels=1, n_classes=1, features=[64, 128, 256, 512]):\n",
        "        super().__init__()\n",
        "        self.features = features\n",
        "\n",
        "        self.fc = nn.Linear(latent_dim, features[-1] * 4 * 4)  # mirror encoder\n",
        "        self.unflatten = nn.Unflatten(1, (features[-1], 4, 4))\n",
        "        self.ups = nn.ModuleList([Up(features[len(features)-1-i], features[len(features)-2-i]) for i in range(len(features)-1)])\n",
        "        self.outc = nn.Conv2d(features[0], n_classes, 1)\n",
        "\n",
        "  def forward(self, bottleneck, skip_connections)\n",
        "        x = self.fc(bottleneck)\n",
        "        x = self.unflatten(x)\n",
        "\n",
        "        for i, up in enumerate(self.ups):  # Upsampling path with skip connections\n",
        "            skip = skip_connections[-(i+1)]\n",
        "            x = up(x, skip)\n",
        "\n",
        "        return torch.sigmoid(self.outc(x))"
      ],
      "metadata": {
        "id": "USeDuCycWl_S"
      },
      "execution_count": null,
      "outputs": []
    },
    {
      "cell_type": "code",
      "source": [
        "# instead of nn.Module, we use L.LightningModule\n",
        "class VAEModel(nn.module):\n",
        "    def __init__(self,\n",
        "                 latent_dim=3,    # dimensionality of the latent space. bigger=less compression, better reconstruction\n",
        "                 features=[64,128,256,512],  # intermediate/hidden layers in our simple encoder/decoder\n",
        "                 act = nn.LeakyReLU,\n",
        "                 ):\n",
        "        super().__init__()\n",
        "\n",
        "        # VAE encoder outputs two values, for mean and variance\n",
        "        self.encoder = UNetDown(n_channels=1, features=features)\n",
        "\n",
        "        # VAE decoder is exactly same as vanilla AE\n",
        "        self.decoder = UNetUp(n_channels=1, n_classes=1, features=features)\n",
        "\n",
        "        self.use_conv = True\n",
        "        self.latent_dim, self.n_hid, self.act = latent_dim, n_hid, act # save config for archival purposes\n",
        "\n",
        "    def reparam_sample(self, mu, log_var):\n",
        "        \"this yields a data value by sampling from the learned gaussian distribution of latents\"\n",
        "        std = torch.exp(0.5*log_var).sqrt() # the 0.5 is an optional, tunable rescaling factor.\n",
        "        noise = torch.randn_like(std)       # the gaussian distribution we sample from\n",
        "        return mu + std * noise\n",
        "\n",
        "    def forward(self, x):\n",
        "        z = self.encoder(x)\n",
        "        i_half = z.shape[-1]//2\n",
        "        mu, log_var = z[:,:i_half],  z[:,i_half:]\n",
        "        z_hat = self.reparam_sample(mu, log_var)\n",
        "        x_hat = self.decoder(z_hat)\n",
        "        return z, x_hat, mu, log_var, z_hat # order chosen to preserve earlier model's outputs of z, x_hat\n",
        "\n",
        "\n",
        "    def pred_and_log(self, batch, batch_idx, log_prefix=''):\n",
        "        \"the basic task: make predictions, compute loss, and send to logging system\"\n",
        "        x, y = batch\n",
        "        x = x.view(x.size(0), -1)  # flatten for linear layer\n",
        "        z, x_hat, mu, log_var, z_hat = self.forward(x)\n",
        "\n",
        "        #recon_loss = nn.functional.mse_loss(x_hat, x)\n",
        "        recon_loss = nn.functional.binary_cross_entropy(x_hat, x) # remember you need a sigmoid on decoder out to use bce\n",
        "        # or you could use torch.nn.functional.binary_cross_entropy_with_logits without the sigmoid\n",
        "        kl_loss = -0.5 * torch.mean(1 + log_var - mu.pow(2) - log_var.exp())\n",
        "        scrunch_factor = 1e-3 # larger means blurrier/blobbier\n",
        "        rescaled_kl_loss = (kl_loss * scrunch_factor) # this is what goes in the loss function\n",
        "        loss = recon_loss + rescaled_kl_loss\n",
        "\n",
        "        self.log(f'{log_prefix}loss', loss, prog_bar=True)\n",
        "        self.log(f'{log_prefix}recon_loss', recon_loss)\n",
        "        self.log(f'{log_prefix}kl_loss', kl_loss)\n",
        "        self.log(F'{log_prefix}rescaled_kl_loss', rescaled_kl_loss)\n",
        "        return loss\n",
        "\n",
        "    def training_step(self, batch, batch_idx):\n",
        "        return self.pred_and_log(batch, batch_idx, log_prefix='train/')\n",
        "\n",
        "    def validation_step(self, batch, batch_idx):\n",
        "        return self.pred_and_log(batch, batch_idx, log_prefix='val/')\n",
        "\n",
        "    def configure_optimizers(self):\n",
        "        return optim.Adam(self.parameters(), lr=5e-4)\n",
        "\n",
        "    def on_epoch_start(self): # give us a new line for each epoch\n",
        "        print('\\n')\n",
        "\n",
        "    def on_validation_epoch_end(self, demo_every=1):\n",
        "        if self.current_epoch % demo_every == 0:  # log every this many epochs\n",
        "            fig = test_inference(self, idx=range(5), return_fig=True)\n",
        "            self.logger.experiment.log({\"reconstructions\": wandb.Image(fig), \"epoch\": self.current_epoch})\n",
        "            plt.close(fig)  # clean up\n",
        "\n",
        "\n",
        "vae = VAEModel()\n",
        "model = vae"
      ],
      "metadata": {
        "id": "wwJZ93lr5xb1"
      },
      "execution_count": null,
      "outputs": []
    },
    {
      "cell_type": "code",
      "source": [
        "wandb.login()\n",
        "# Lightning defines its own WandbLogger callback...\n",
        "wandb.finish() # just in case we're aborting runs & restarting\n",
        "\n",
        "# set up the logging\n",
        "wandb_logger = WandbLogger(log_model=\"all\", project='vae_sim')\n",
        "try:\n",
        "    wandb_logger.watch(model)\n",
        "except:\n",
        "    pass"
      ],
      "metadata": {
        "id": "P7rbL7Wi6Xxm"
      },
      "execution_count": null,
      "outputs": []
    },
    {
      "cell_type": "code",
      "source": [
        "epochs = 25  # VAEs require more steps to train than vanilla AEs, due to dual-objective loss\n",
        "trainer = L.Trainer(max_epochs=epochs, devices=\"auto\", logger=wandb_logger, callbacks=RichProgressBar(leave=True))\n",
        "trainer.fit(model=vae, train_dataloaders=train_dl, val_dataloaders=val_dl)\n",
        "wandb.finish()"
      ],
      "metadata": {
        "id": "vtL3uxhtPknL"
      },
      "execution_count": null,
      "outputs": []
    }
  ]
}