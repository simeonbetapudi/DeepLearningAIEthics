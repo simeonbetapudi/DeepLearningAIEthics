{
  "nbformat": 4,
  "nbformat_minor": 0,
  "metadata": {
    "colab": {
      "provenance": [],
      "gpuType": "A100"
    },
    "kernelspec": {
      "name": "python3",
      "display_name": "Python 3"
    },
    "language_info": {
      "name": "python"
    },
    "accelerator": "GPU"
  },
  "cells": [
    {
      "cell_type": "code",
      "execution_count": null,
      "metadata": {
        "id": "fz5ZPT-89n1d"
      },
      "outputs": [],
      "source": [
        "!pip install wandb -Uq"
      ]
    },
    {
      "cell_type": "code",
      "source": [
        "import torch\n",
        "import torch.nn as nn\n",
        "import torch.optim as optim\n",
        "import torch.nn.functional as F\n",
        "from torch.utils.data import DataLoader\n",
        "import torchvision\n",
        "import torchvision.transforms as transforms\n",
        "import wandb\n",
        "import matplotlib.pyplot as plt\n",
        "import numpy as np\n",
        "from tqdm import tqdm\n",
        "import time"
      ],
      "metadata": {
        "id": "YmLt07uWctcw"
      },
      "execution_count": 1,
      "outputs": []
    },
    {
      "cell_type": "code",
      "source": [
        "import wandb\n",
        "wandb.login()"
      ],
      "metadata": {
        "colab": {
          "base_uri": "https://localhost:8080/"
        },
        "id": "m07FEc8R-qJu",
        "outputId": "cdfd742e-1834-40fc-d92c-a1e9707c030f"
      },
      "execution_count": 2,
      "outputs": [
        {
          "output_type": "stream",
          "name": "stderr",
          "text": [
            "\u001b[34m\u001b[1mwandb\u001b[0m: Currently logged in as: \u001b[33msimeonbetapudi\u001b[0m (\u001b[33msimeonbetapudi-belmont-university\u001b[0m) to \u001b[32mhttps://api.wandb.ai\u001b[0m. Use \u001b[1m`wandb login --relogin`\u001b[0m to force relogin\n"
          ]
        },
        {
          "output_type": "execute_result",
          "data": {
            "text/plain": [
              "True"
            ]
          },
          "metadata": {},
          "execution_count": 2
        }
      ]
    },
    {
      "cell_type": "code",
      "source": [
        "# check that there's more than just the CPU available\n",
        "device = torch.device('cuda' if torch.cuda.is_available() else 'mps' if torch.backends.mps.is_available() else 'cpu')\n",
        "print(f\"Using device: {device}\")\n",
        "if device==torch.device('cpu'): print(\"You should probably restart this with a GPU. It will be slow otherwise.\")\n",
        "\n",
        "# Set random seeds for reproducibility\n",
        "torch.manual_seed(42)\n",
        "np.random.seed(42)"
      ],
      "metadata": {
        "colab": {
          "base_uri": "https://localhost:8080/"
        },
        "id": "4QSUMPd_IByt",
        "outputId": "874ca4f2-1778-4c9e-be1f-83261682f98d"
      },
      "execution_count": 3,
      "outputs": [
        {
          "output_type": "stream",
          "name": "stdout",
          "text": [
            "Using device: cuda\n"
          ]
        }
      ]
    },
    {
      "cell_type": "code",
      "source": [
        "# Available datasets with their normalization parameters\n",
        "DATASETS = {\n",
        "    'MNIST': {\n",
        "        'dataset_class': torchvision.datasets.MNIST,\n",
        "        'mean': (0.1307,), 'std': (0.3081,),\n",
        "        'description': '28x28 grayscale handwritten digits (0-9)'\n",
        "    },\n",
        "    'FashionMNIST': {\n",
        "        'dataset_class': torchvision.datasets.FashionMNIST,\n",
        "        'mean': (0.2860,), 'std': (0.3530,),\n",
        "        'description': '28x28 grayscale fashion items (10 classes: shirt, shoe, etc.)'\n",
        "    },\n",
        "    'CIFAR10': {\n",
        "        'dataset_class': torchvision.datasets.CIFAR10,\n",
        "        'mean': (0.4914, 0.4822, 0.4465), 'std': (0.2023, 0.1994, 0.2010),\n",
        "        'description': '32x32 color images (10 classes: planes, cars, etc.)'\n",
        "    },\n",
        "    'CIFAR100': {\n",
        "        'dataset_class': torchvision.datasets.CIFAR100,\n",
        "        'mean': (0.5071, 0.4867, 0.4408), 'std': (0.2675, 0.2565, 0.2761),\n",
        "        'description': '32x32 color images (100 classes)'\n",
        "    }\n",
        "}\n",
        "\n",
        "    #### YOUR CHOICES for dataset & activation functions\n",
        "DATASET_NAME = 'CIFAR10'  # Choose between 'MNIST', 'FashionMNIST', 'CIFAR10', or 'CIFAR100'\n",
        "BATCH_SIZE = 256 # could make this bigger"
      ],
      "metadata": {
        "id": "4aOoXSgfF1HO"
      },
      "execution_count": 4,
      "outputs": []
    },
    {
      "cell_type": "code",
      "source": [
        "def get_dataset_info(dataset_name):\n",
        "    \"\"\"Get dataset configuration and sample to determine properties.\"\"\"\n",
        "    config = DATASETS[dataset_name]\n",
        "    basic_transform = transforms.Compose([transforms.ToTensor()])\n",
        "    temp_dataset = config['dataset_class'](root='./data', train=True, download=True, transform=basic_transform)\n",
        "    sample_img, _ = temp_dataset[0]\n",
        "\n",
        "    return {\n",
        "        'config': config,\n",
        "        'num_channels': sample_img.shape[0],\n",
        "        'img_height': sample_img.shape[1],\n",
        "        'img_width': sample_img.shape[2],\n",
        "        'num_classes': len(temp_dataset.classes),\n",
        "        'class_names': temp_dataset.classes\n",
        "    }\n",
        "\n",
        "dataset_info = get_dataset_info(DATASET_NAME)\n",
        "\n",
        "print(f\"\\nDataset Properties:\")\n",
        "print(f\"  Image size: {dataset_info['num_channels']}x{dataset_info['img_height']}x{dataset_info['img_width']}\")\n",
        "print(f\"  Number of classes: {dataset_info['num_classes']}\")\n",
        "print(f\"  Classes: {dataset_info['class_names'][:10]}...\")  # Show first 10 classes\n",
        "\n",
        "transform = transforms.Compose([\n",
        "    transforms.ToTensor(),\n",
        "    transforms.Normalize(dataset_info['config']['mean'], dataset_info['config']['std'])\n",
        "])\n",
        "\n",
        "train_dataset = dataset_info['config']['dataset_class'](root='./data', train=True, download=False, transform=transform)\n",
        "test_dataset = dataset_info['config']['dataset_class'](root='./data', train=False, download=False, transform=transform)"
      ],
      "metadata": {
        "colab": {
          "base_uri": "https://localhost:8080/"
        },
        "id": "EJ5feDojGOxN",
        "outputId": "6c75b6ca-9122-49da-d9cb-a0bbc2b8b158"
      },
      "execution_count": 5,
      "outputs": [
        {
          "output_type": "stream",
          "name": "stdout",
          "text": [
            "\n",
            "Dataset Properties:\n",
            "  Image size: 3x32x32\n",
            "  Number of classes: 10\n",
            "  Classes: ['airplane', 'automobile', 'bird', 'cat', 'deer', 'dog', 'frog', 'horse', 'ship', 'truck']...\n"
          ]
        }
      ]
    },
    {
      "cell_type": "code",
      "source": [
        "class CNN(nn.Module):\n",
        "    def __init__(self, dataset_info, activation=torch.nn.ReLU(), base_channels=32, channel_mult=2, n_conv_layers=4, kernel_size=3, stride=2):\n",
        "        super(CNN, self).__init__()\n",
        "\n",
        "        # Build conv layers dynamically\n",
        "        self.conv_layers = nn.ModuleList()\n",
        "        in_channels = dataset_info['num_channels']\n",
        "        for i in range(n_conv_layers):\n",
        "            out_channels = base_channels * (channel_mult ** i)\n",
        "            self.conv_layers.append(nn.Conv2d(in_channels, out_channels, kernel_size, stride, padding=1))\n",
        "            in_channels = out_channels\n",
        "\n",
        "        self.activation = activation\n",
        "        self.dropout1 = nn.Dropout(0.25)\n",
        "        self.global_avg_pool = nn.AdaptiveAvgPool2d(1) # put near end: yields one value per channel\n",
        "\n",
        "        # Final channels after all conv layers\n",
        "        final_channels = base_channels * (channel_mult ** (n_conv_layers - 1))\n",
        "        self.fc = nn.Linear(final_channels, dataset_info['num_classes'])\n",
        "\n",
        "    def forward(self, x):\n",
        "        for conv_layer in self.conv_layers:\n",
        "            x = self.activation(conv_layer(x))\n",
        "            x = self.dropout1(x)\n",
        "        x = self.global_avg_pool(x)  # one value per channel\n",
        "        return self.fc(  x.flatten(start_dim=1) )  # flatten and run through linear layer\n",
        "\n",
        "\n",
        "\n",
        "cnn_model = CNN(dataset_info).to(device)\n",
        "print(f\"CNN Model Parameters: {sum(p.numel() for p in cnn_model.parameters()):,}\")\n",
        "\n",
        "# quick test to make sure the forward() runs w/o errors:\n",
        "rnd_batch = torch.randn([128,dataset_info['num_channels'], dataset_info['img_height'], dataset_info['img_width']]).to(device)\n",
        "result = cnn_model(rnd_batch)\n",
        "del rnd_batch"
      ],
      "metadata": {
        "colab": {
          "base_uri": "https://localhost:8080/"
        },
        "id": "Y8lgv-cZU6fZ",
        "outputId": "74491787-d709-425a-8b09-e952144abd8d"
      },
      "execution_count": 6,
      "outputs": [
        {
          "output_type": "stream",
          "name": "stdout",
          "text": [
            "CNN Model Parameters: 390,986\n"
          ]
        }
      ]
    },
    {
      "cell_type": "code",
      "source": [
        "def train_model(model, train_loader, test_loader, epochs=10, lr=0.001):\n",
        "    # Initialize wandb\n",
        "\n",
        "    # Loss function:\n",
        "    # Note: targets are just class indices (0-9), not one-hot vectors\n",
        "    # nn.CrossEntropyLoss handles one-hot encoding internally for efficiency\n",
        "    criterion = nn.CrossEntropyLoss()   # used for categorical variables, expects raw \"logits\"\n",
        "\n",
        "    optimizer = optim.Adam(model.parameters(), lr=lr)\n",
        "\n",
        "    train_losses = []\n",
        "    train_accuracies = []\n",
        "    test_accuracies = []\n",
        "\n",
        "    for epoch in range(epochs):\n",
        "        # Training phase\n",
        "        model.train()\n",
        "        running_loss = 0.0\n",
        "        correct_train = 0\n",
        "        total_train = 0\n",
        "\n",
        "        # Use tqdm for progress bar\n",
        "        pbar = tqdm(train_loader, desc=f'Epoch {epoch+1}/{epochs}')\n",
        "\n",
        "        for batch_idx, (data, target) in enumerate(pbar):\n",
        "            data, target = data.to(device), target.to(device)\n",
        "\n",
        "            optimizer.zero_grad()\n",
        "            output = model(data)\n",
        "            loss = criterion(output, target)\n",
        "            loss.backward()\n",
        "            optimizer.step()\n",
        "\n",
        "            running_loss += loss.item()\n",
        "            pred = output.argmax(dim=1, keepdim=True)\n",
        "            correct_train += pred.eq(target.view_as(pred)).sum().item()\n",
        "            total_train += target.size(0)\n",
        "\n",
        "            # Update progress bar\n",
        "            pbar.set_postfix({\n",
        "                'Loss': f'{loss.item():.4f}',\n",
        "                'Acc': f'{100.*correct_train/total_train:.2f}%'\n",
        "            })\n",
        "\n",
        "        # Calculate epoch metrics\n",
        "        epoch_loss = running_loss / len(train_loader)\n",
        "        train_acc = 100. * correct_train / total_train\n",
        "\n",
        "        # Evaluation phase\n",
        "        model.eval()\n",
        "        test_loss = 0\n",
        "        correct_test = 0\n",
        "        total_test = 0\n",
        "\n",
        "        with torch.no_grad():\n",
        "            for data, target in test_loader:\n",
        "                data, target = data.to(device), target.to(device)\n",
        "                output = model(data)\n",
        "                test_loss += criterion(output, target).item()\n",
        "                pred = output.argmax(dim=1, keepdim=True)\n",
        "                correct_test += pred.eq(target.view_as(pred)).sum().item()\n",
        "                total_test += target.size(0)\n",
        "\n",
        "        test_acc = 100. * correct_test / total_test\n",
        "\n",
        "        # Store metrics\n",
        "        train_losses.append(epoch_loss)\n",
        "        train_accuracies.append(train_acc)\n",
        "        test_accuracies.append(test_acc)\n",
        "\n",
        "        # Log to wandb\n",
        "        wandb.log({\n",
        "            \"epoch\": epoch + 1,\n",
        "            \"train_loss\": epoch_loss,\n",
        "            \"train_accuracy\": train_acc,\n",
        "            \"test_accuracy\": test_acc\n",
        "        })\n",
        "\n",
        "        print(f'Epoch {epoch+1}: Train Loss: {epoch_loss:.4f}, Train Acc: {train_acc:.2f}%, Test Acc: {test_acc:.2f}%')\n",
        "\n",
        "    wandb.finish()\n",
        "\n",
        "    return {\n",
        "        'train_losses': train_losses,\n",
        "        'train_accuracies': train_accuracies,\n",
        "        'test_accuracies': test_accuracies,\n",
        "        'final_test_acc': test_acc\n",
        "    }"
      ],
      "metadata": {
        "id": "Y9rrRtHpTyFe"
      },
      "execution_count": 7,
      "outputs": []
    },
    {
      "cell_type": "code",
      "source": [
        "# Expanded sweep config\n",
        "sweep_config = {\n",
        "    'method': 'bayes',   # options: grid, random, bayes\n",
        "    'metric': {\n",
        "        'name': 'test_accuracy',\n",
        "        'goal': 'maximize'\n",
        "    },\n",
        "    'parameters': {\n",
        "        # Learning rate search space\n",
        "        # Activation function\n",
        "        'activation': {\n",
        "            'values': ['ReLU', 'LeakyReLU', 'GELU', 'SiLU']\n",
        "        },\n",
        "\n",
        "        'base_channels': {\n",
        "            'values': [16, 32, 64, 128]\n",
        "        },\n",
        "\n",
        "        'channel_mult': {\n",
        "            'values': [1, 2, 4]\n",
        "        },\n",
        "\n",
        "        'n_conv_layers': {\n",
        "            'values': [3, 4, 5]\n",
        "        },\n",
        "\n",
        "        'kernel_size': {\n",
        "            'values': [1, 3, 5, (3,5), (5,3)]\n",
        "        },\n",
        "\n",
        "        'stride': {\n",
        "            'values': [1, 2, 3]\n",
        "        }\n",
        "\n",
        "    }\n",
        "}\n",
        "\n",
        "# Define available activation functions\n",
        "activations = {\n",
        "    \"ReLU\": torch.nn.ReLU(),\n",
        "    \"LeakyReLU\": torch.nn.LeakyReLU(),\n",
        "    \"GELU\": torch.nn.GELU(),\n",
        "    \"SiLU\": torch.nn.SiLU()\n",
        "}"
      ],
      "metadata": {
        "id": "aL-QGL3XAO79"
      },
      "execution_count": 8,
      "outputs": []
    },
    {
      "cell_type": "code",
      "source": [
        "# Sweep-compatible training function\n",
        "def sweep_train():\n",
        "\n",
        "    wandb.init(project=f\"convnet_{DATASET_NAME}_sweep\", name=f\"Idk Where this shows\", reinit=True)\n",
        "    config = wandb.config\n",
        "\n",
        "    # Pick activation\n",
        "    activation = activations[config.activation]\n",
        "\n",
        "    # Build model\n",
        "    model = CNN(dataset_info,\n",
        "                activation=activation,\n",
        "                base_channels=config.base_channels,\n",
        "                channel_mult=config.channel_mult,\n",
        "                n_conv_layers=config.n_conv_layers,\n",
        "                kernel_size=config.kernel_size,\n",
        "                stride=config.stride).to(device)\n",
        "\n",
        "\n",
        "    train_loader = DataLoader(train_dataset, batch_size=BATCH_SIZE, shuffle=True)\n",
        "    test_loader = DataLoader(test_dataset, batch_size=BATCH_SIZE, shuffle=False)\n",
        "\n",
        "    # Train model\n",
        "    results = train_model(model,\n",
        "                          train_loader,\n",
        "                          test_loader)\n",
        "\n",
        "    return results\n",
        "\n",
        "\n",
        "# Initialize and launch sweep\n",
        "sweep_id = wandb.sweep(sweep_config, project=\"convnet_CIFAR10_sweep\")\n",
        "wandb.agent(sweep_id, function=sweep_train, count=10)  # run 10 experiments"
      ],
      "metadata": {
        "colab": {
          "base_uri": "https://localhost:8080/",
          "height": 1000
        },
        "id": "pEj01OsDT4tk",
        "outputId": "a75939b1-0d52-414b-85b3-1df03ddaebe1"
      },
      "execution_count": null,
      "outputs": [
        {
          "metadata": {
            "tags": null
          },
          "name": "stdout",
          "output_type": "stream",
          "text": [
            "Create sweep with ID: klsyko7c\n",
            "Sweep URL: https://wandb.ai/simeonbetapudi-belmont-university/convnet_CIFAR10_sweep/sweeps/klsyko7c\n"
          ]
        },
        {
          "metadata": {
            "tags": null
          },
          "name": "stderr",
          "output_type": "stream",
          "text": [
            "\u001b[34m\u001b[1mwandb\u001b[0m: Agent Starting Run: z686m9d9 with config:\n",
            "\u001b[34m\u001b[1mwandb\u001b[0m: \tactivation: GELU\n",
            "\u001b[34m\u001b[1mwandb\u001b[0m: \tbase_channels: 16\n",
            "\u001b[34m\u001b[1mwandb\u001b[0m: \tchannel_mult: 1\n",
            "\u001b[34m\u001b[1mwandb\u001b[0m: \tkernel_size: 1\n",
            "\u001b[34m\u001b[1mwandb\u001b[0m: \tn_conv_layers: 3\n",
            "\u001b[34m\u001b[1mwandb\u001b[0m: \tstride: 3\n"
          ]
        },
        {
          "data": {
            "text/html": [
              "Ignoring project 'convnet_CIFAR10_sweep' when running a sweep."
            ],
            "text/plain": [
              "<IPython.core.display.HTML object>"
            ]
          },
          "metadata": {},
          "output_type": "display_data"
        },
        {
          "metadata": {
            "tags": null
          },
          "name": "stderr",
          "output_type": "stream",
          "text": [
            "\u001b[34m\u001b[1mwandb\u001b[0m: \u001b[33mWARNING\u001b[0m Using a boolean value for 'reinit' is deprecated. Use 'return_previous' or 'finish_previous' instead.\n"
          ]
        },
        {
          "data": {
            "text/html": [
              "Waiting for wandb.init()..."
            ],
            "text/plain": [
              "<IPython.core.display.HTML object>"
            ]
          },
          "metadata": {},
          "output_type": "display_data"
        },
        {
          "data": {
            "text/html": [
              "Tracking run with wandb version 0.21.3"
            ],
            "text/plain": [
              "<IPython.core.display.HTML object>"
            ]
          },
          "metadata": {},
          "output_type": "display_data"
        },
        {
          "data": {
            "text/html": [
              "Run data is saved locally in <code>/content/wandb/run-20250908_213459-z686m9d9</code>"
            ],
            "text/plain": [
              "<IPython.core.display.HTML object>"
            ]
          },
          "metadata": {},
          "output_type": "display_data"
        },
        {
          "data": {
            "text/html": [
              "Syncing run <strong><a href='https://wandb.ai/simeonbetapudi-belmont-university/convnet_CIFAR10_sweep/runs/z686m9d9' target=\"_blank\">Idk Where this shows</a></strong> to <a href='https://wandb.ai/simeonbetapudi-belmont-university/convnet_CIFAR10_sweep' target=\"_blank\">Weights & Biases</a> (<a href='https://wandb.me/developer-guide' target=\"_blank\">docs</a>)<br>Sweep page: <a href='https://wandb.ai/simeonbetapudi-belmont-university/convnet_CIFAR10_sweep/sweeps/klsyko7c' target=\"_blank\">https://wandb.ai/simeonbetapudi-belmont-university/convnet_CIFAR10_sweep/sweeps/klsyko7c</a>"
            ],
            "text/plain": [
              "<IPython.core.display.HTML object>"
            ]
          },
          "metadata": {},
          "output_type": "display_data"
        },
        {
          "data": {
            "text/html": [
              " View project at <a href='https://wandb.ai/simeonbetapudi-belmont-university/convnet_CIFAR10_sweep' target=\"_blank\">https://wandb.ai/simeonbetapudi-belmont-university/convnet_CIFAR10_sweep</a>"
            ],
            "text/plain": [
              "<IPython.core.display.HTML object>"
            ]
          },
          "metadata": {},
          "output_type": "display_data"
        },
        {
          "data": {
            "text/html": [
              " View sweep at <a href='https://wandb.ai/simeonbetapudi-belmont-university/convnet_CIFAR10_sweep/sweeps/klsyko7c' target=\"_blank\">https://wandb.ai/simeonbetapudi-belmont-university/convnet_CIFAR10_sweep/sweeps/klsyko7c</a>"
            ],
            "text/plain": [
              "<IPython.core.display.HTML object>"
            ]
          },
          "metadata": {},
          "output_type": "display_data"
        },
        {
          "data": {
            "text/html": [
              " View run at <a href='https://wandb.ai/simeonbetapudi-belmont-university/convnet_CIFAR10_sweep/runs/z686m9d9' target=\"_blank\">https://wandb.ai/simeonbetapudi-belmont-university/convnet_CIFAR10_sweep/runs/z686m9d9</a>"
            ],
            "text/plain": [
              "<IPython.core.display.HTML object>"
            ]
          },
          "metadata": {},
          "output_type": "display_data"
        },
        {
          "metadata": {
            "tags": null
          },
          "name": "stderr",
          "output_type": "stream",
          "text": [
            "Epoch 1/10: 100%|██████████| 196/196 [00:12<00:00, 16.26it/s, Loss=2.3036, Acc=10.69%]\n"
          ]
        },
        {
          "metadata": {
            "tags": null
          },
          "name": "stdout",
          "output_type": "stream",
          "text": [
            "Epoch 1: Train Loss: 2.3037, Train Acc: 10.69%, Test Acc: 14.13%\n"
          ]
        },
        {
          "metadata": {
            "tags": null
          },
          "name": "stderr",
          "output_type": "stream",
          "text": [
            "Epoch 2/10: 100%|██████████| 196/196 [00:11<00:00, 16.83it/s, Loss=2.1763, Acc=15.50%]\n"
          ]
        },
        {
          "metadata": {
            "tags": null
          },
          "name": "stdout",
          "output_type": "stream",
          "text": [
            "Epoch 2: Train Loss: 2.2479, Train Acc: 15.50%, Test Acc: 18.04%\n"
          ]
        },
        {
          "metadata": {
            "tags": null
          },
          "name": "stderr",
          "output_type": "stream",
          "text": [
            "Epoch 3/10: 100%|██████████| 196/196 [00:11<00:00, 16.76it/s, Loss=2.1413, Acc=17.55%]\n"
          ]
        },
        {
          "metadata": {
            "tags": null
          },
          "name": "stdout",
          "output_type": "stream",
          "text": [
            "Epoch 3: Train Loss: 2.1969, Train Acc: 17.55%, Test Acc: 19.01%\n"
          ]
        },
        {
          "metadata": {
            "tags": null
          },
          "name": "stderr",
          "output_type": "stream",
          "text": [
            "Epoch 4/10: 100%|██████████| 196/196 [00:11<00:00, 16.83it/s, Loss=2.2437, Acc=17.95%]\n"
          ]
        },
        {
          "metadata": {
            "tags": null
          },
          "name": "stdout",
          "output_type": "stream",
          "text": [
            "Epoch 4: Train Loss: 2.1852, Train Acc: 17.95%, Test Acc: 19.47%\n"
          ]
        },
        {
          "metadata": {
            "tags": null
          },
          "name": "stderr",
          "output_type": "stream",
          "text": [
            "Epoch 5/10: 100%|██████████| 196/196 [00:11<00:00, 16.74it/s, Loss=2.1229, Acc=18.08%]\n"
          ]
        },
        {
          "metadata": {
            "tags": null
          },
          "name": "stdout",
          "output_type": "stream",
          "text": [
            "Epoch 5: Train Loss: 2.1776, Train Acc: 18.08%, Test Acc: 19.42%\n"
          ]
        },
        {
          "metadata": {
            "tags": null
          },
          "name": "stderr",
          "output_type": "stream",
          "text": [
            "Epoch 6/10: 100%|██████████| 196/196 [00:11<00:00, 16.86it/s, Loss=2.1690, Acc=18.24%]\n"
          ]
        },
        {
          "metadata": {
            "tags": null
          },
          "name": "stdout",
          "output_type": "stream",
          "text": [
            "Epoch 6: Train Loss: 2.1703, Train Acc: 18.24%, Test Acc: 19.82%\n"
          ]
        },
        {
          "metadata": {
            "tags": null
          },
          "name": "stderr",
          "output_type": "stream",
          "text": [
            "Epoch 7/10: 100%|██████████| 196/196 [00:11<00:00, 16.82it/s, Loss=2.1459, Acc=18.51%]\n"
          ]
        },
        {
          "metadata": {
            "tags": null
          },
          "name": "stdout",
          "output_type": "stream",
          "text": [
            "Epoch 7: Train Loss: 2.1655, Train Acc: 18.51%, Test Acc: 19.65%\n"
          ]
        },
        {
          "metadata": {
            "tags": null
          },
          "name": "stderr",
          "output_type": "stream",
          "text": [
            "Epoch 8/10: 100%|██████████| 196/196 [00:11<00:00, 16.77it/s, Loss=2.0533, Acc=18.49%]\n"
          ]
        },
        {
          "metadata": {
            "tags": null
          },
          "name": "stdout",
          "output_type": "stream",
          "text": [
            "Epoch 8: Train Loss: 2.1587, Train Acc: 18.49%, Test Acc: 19.94%\n"
          ]
        },
        {
          "metadata": {
            "tags": null
          },
          "name": "stderr",
          "output_type": "stream",
          "text": [
            "Epoch 9/10: 100%|██████████| 196/196 [00:11<00:00, 16.79it/s, Loss=2.1565, Acc=18.77%]\n"
          ]
        },
        {
          "metadata": {
            "tags": null
          },
          "name": "stdout",
          "output_type": "stream",
          "text": [
            "Epoch 9: Train Loss: 2.1531, Train Acc: 18.77%, Test Acc: 20.06%\n"
          ]
        },
        {
          "metadata": {
            "tags": null
          },
          "name": "stderr",
          "output_type": "stream",
          "text": [
            "Epoch 10/10: 100%|██████████| 196/196 [00:11<00:00, 16.87it/s, Loss=2.2058, Acc=19.16%]\n"
          ]
        },
        {
          "metadata": {
            "tags": null
          },
          "name": "stdout",
          "output_type": "stream",
          "text": [
            "Epoch 10: Train Loss: 2.1510, Train Acc: 19.16%, Test Acc: 20.34%\n"
          ]
        },
        {
          "data": {
            "text/html": [],
            "text/plain": [
              "<IPython.core.display.HTML object>"
            ]
          },
          "metadata": {},
          "output_type": "display_data"
        },
        {
          "data": {
            "text/html": [
              "<br>    <style><br>        .wandb-row {<br>            display: flex;<br>            flex-direction: row;<br>            flex-wrap: wrap;<br>            justify-content: flex-start;<br>            width: 100%;<br>        }<br>        .wandb-col {<br>            display: flex;<br>            flex-direction: column;<br>            flex-basis: 100%;<br>            flex: 1;<br>            padding: 10px;<br>        }<br>    </style><br><div class=\"wandb-row\"><div class=\"wandb-col\"><h3>Run history:</h3><br/><table class=\"wandb\"><tr><td>epoch</td><td>▁▂▃▃▄▅▆▆▇█</td></tr><tr><td>test_accuracy</td><td>▁▅▇▇▇▇▇███</td></tr><tr><td>train_accuracy</td><td>▁▅▇▇▇▇▇▇██</td></tr><tr><td>train_loss</td><td>█▅▃▃▂▂▂▁▁▁</td></tr></table><br/></div><div class=\"wandb-col\"><h3>Run summary:</h3><br/><table class=\"wandb\"><tr><td>epoch</td><td>10</td></tr><tr><td>test_accuracy</td><td>20.34</td></tr><tr><td>train_accuracy</td><td>19.16</td></tr><tr><td>train_loss</td><td>2.15102</td></tr></table><br/></div></div>"
            ],
            "text/plain": [
              "<IPython.core.display.HTML object>"
            ]
          },
          "metadata": {},
          "output_type": "display_data"
        },
        {
          "data": {
            "text/html": [
              " View run <strong style=\"color:#cdcd00\">Idk Where this shows</strong> at: <a href='https://wandb.ai/simeonbetapudi-belmont-university/convnet_CIFAR10_sweep/runs/z686m9d9' target=\"_blank\">https://wandb.ai/simeonbetapudi-belmont-university/convnet_CIFAR10_sweep/runs/z686m9d9</a><br> View project at: <a href='https://wandb.ai/simeonbetapudi-belmont-university/convnet_CIFAR10_sweep' target=\"_blank\">https://wandb.ai/simeonbetapudi-belmont-university/convnet_CIFAR10_sweep</a><br>Synced 5 W&B file(s), 0 media file(s), 0 artifact file(s) and 0 other file(s)"
            ],
            "text/plain": [
              "<IPython.core.display.HTML object>"
            ]
          },
          "metadata": {},
          "output_type": "display_data"
        },
        {
          "data": {
            "text/html": [
              "Find logs at: <code>./wandb/run-20250908_213459-z686m9d9/logs</code>"
            ],
            "text/plain": [
              "<IPython.core.display.HTML object>"
            ]
          },
          "metadata": {},
          "output_type": "display_data"
        },
        {
          "metadata": {
            "tags": null
          },
          "name": "stderr",
          "output_type": "stream",
          "text": [
            "\u001b[34m\u001b[1mwandb\u001b[0m: Agent Starting Run: snfitu8t with config:\n",
            "\u001b[34m\u001b[1mwandb\u001b[0m: \tactivation: SiLU\n",
            "\u001b[34m\u001b[1mwandb\u001b[0m: \tbase_channels: 128\n",
            "\u001b[34m\u001b[1mwandb\u001b[0m: \tchannel_mult: 2\n",
            "\u001b[34m\u001b[1mwandb\u001b[0m: \tkernel_size: [3, 5]\n",
            "\u001b[34m\u001b[1mwandb\u001b[0m: \tn_conv_layers: 3\n",
            "\u001b[34m\u001b[1mwandb\u001b[0m: \tstride: 3\n"
          ]
        },
        {
          "data": {
            "text/html": [
              "Ignoring project 'convnet_CIFAR10_sweep' when running a sweep."
            ],
            "text/plain": [
              "<IPython.core.display.HTML object>"
            ]
          },
          "metadata": {},
          "output_type": "display_data"
        },
        {
          "data": {
            "text/html": [
              "creating run (0.0s)"
            ],
            "text/plain": [
              "<IPython.core.display.HTML object>"
            ]
          },
          "metadata": {},
          "output_type": "display_data"
        },
        {
          "data": {
            "text/html": [
              "Tracking run with wandb version 0.21.3"
            ],
            "text/plain": [
              "<IPython.core.display.HTML object>"
            ]
          },
          "metadata": {},
          "output_type": "display_data"
        },
        {
          "data": {
            "text/html": [
              "Run data is saved locally in <code>/content/wandb/run-20250908_213720-snfitu8t</code>"
            ],
            "text/plain": [
              "<IPython.core.display.HTML object>"
            ]
          },
          "metadata": {},
          "output_type": "display_data"
        },
        {
          "data": {
            "text/html": [
              "Syncing run <strong><a href='https://wandb.ai/simeonbetapudi-belmont-university/convnet_CIFAR10_sweep/runs/snfitu8t' target=\"_blank\">Idk Where this shows</a></strong> to <a href='https://wandb.ai/simeonbetapudi-belmont-university/convnet_CIFAR10_sweep' target=\"_blank\">Weights & Biases</a> (<a href='https://wandb.me/developer-guide' target=\"_blank\">docs</a>)<br>Sweep page: <a href='https://wandb.ai/simeonbetapudi-belmont-university/convnet_CIFAR10_sweep/sweeps/klsyko7c' target=\"_blank\">https://wandb.ai/simeonbetapudi-belmont-university/convnet_CIFAR10_sweep/sweeps/klsyko7c</a>"
            ],
            "text/plain": [
              "<IPython.core.display.HTML object>"
            ]
          },
          "metadata": {},
          "output_type": "display_data"
        },
        {
          "data": {
            "text/html": [
              " View project at <a href='https://wandb.ai/simeonbetapudi-belmont-university/convnet_CIFAR10_sweep' target=\"_blank\">https://wandb.ai/simeonbetapudi-belmont-university/convnet_CIFAR10_sweep</a>"
            ],
            "text/plain": [
              "<IPython.core.display.HTML object>"
            ]
          },
          "metadata": {},
          "output_type": "display_data"
        },
        {
          "data": {
            "text/html": [
              " View sweep at <a href='https://wandb.ai/simeonbetapudi-belmont-university/convnet_CIFAR10_sweep/sweeps/klsyko7c' target=\"_blank\">https://wandb.ai/simeonbetapudi-belmont-university/convnet_CIFAR10_sweep/sweeps/klsyko7c</a>"
            ],
            "text/plain": [
              "<IPython.core.display.HTML object>"
            ]
          },
          "metadata": {},
          "output_type": "display_data"
        },
        {
          "data": {
            "text/html": [
              " View run at <a href='https://wandb.ai/simeonbetapudi-belmont-university/convnet_CIFAR10_sweep/runs/snfitu8t' target=\"_blank\">https://wandb.ai/simeonbetapudi-belmont-university/convnet_CIFAR10_sweep/runs/snfitu8t</a>"
            ],
            "text/plain": [
              "<IPython.core.display.HTML object>"
            ]
          },
          "metadata": {},
          "output_type": "display_data"
        },
        {
          "metadata": {
            "tags": null
          },
          "name": "stderr",
          "output_type": "stream",
          "text": [
            "Epoch 1/10: 100%|██████████| 196/196 [00:11<00:00, 16.58it/s, Loss=1.2446, Acc=45.48%]\n"
          ]
        },
        {
          "metadata": {
            "tags": null
          },
          "name": "stdout",
          "output_type": "stream",
          "text": [
            "Epoch 1: Train Loss: 1.5186, Train Acc: 45.48%, Test Acc: 54.22%\n"
          ]
        },
        {
          "metadata": {
            "tags": null
          },
          "name": "stderr",
          "output_type": "stream",
          "text": [
            "Epoch 2/10: 100%|██████████| 196/196 [00:11<00:00, 16.67it/s, Loss=1.0306, Acc=57.58%]\n"
          ]
        },
        {
          "metadata": {
            "tags": null
          },
          "name": "stdout",
          "output_type": "stream",
          "text": [
            "Epoch 2: Train Loss: 1.1904, Train Acc: 57.58%, Test Acc: 60.17%\n"
          ]
        },
        {
          "metadata": {
            "tags": null
          },
          "name": "stderr",
          "output_type": "stream",
          "text": [
            "Epoch 3/10: 100%|██████████| 196/196 [00:11<00:00, 16.72it/s, Loss=1.1087, Acc=63.96%]\n"
          ]
        },
        {
          "metadata": {
            "tags": null
          },
          "name": "stdout",
          "output_type": "stream",
          "text": [
            "Epoch 3: Train Loss: 1.0186, Train Acc: 63.96%, Test Acc: 63.15%\n"
          ]
        },
        {
          "metadata": {
            "tags": null
          },
          "name": "stderr",
          "output_type": "stream",
          "text": [
            "Epoch 4/10: 100%|██████████| 196/196 [00:11<00:00, 16.64it/s, Loss=0.7585, Acc=68.74%]\n"
          ]
        },
        {
          "metadata": {
            "tags": null
          },
          "name": "stdout",
          "output_type": "stream",
          "text": [
            "Epoch 4: Train Loss: 0.8840, Train Acc: 68.74%, Test Acc: 64.23%\n"
          ]
        },
        {
          "metadata": {
            "tags": null
          },
          "name": "stderr",
          "output_type": "stream",
          "text": [
            "Epoch 5/10: 100%|██████████| 196/196 [00:11<00:00, 16.78it/s, Loss=0.9738, Acc=72.98%]\n"
          ]
        },
        {
          "metadata": {
            "tags": null
          },
          "name": "stdout",
          "output_type": "stream",
          "text": [
            "Epoch 5: Train Loss: 0.7629, Train Acc: 72.98%, Test Acc: 65.53%\n"
          ]
        },
        {
          "metadata": {
            "tags": null
          },
          "name": "stderr",
          "output_type": "stream",
          "text": [
            "Epoch 6/10: 100%|██████████| 196/196 [00:11<00:00, 16.69it/s, Loss=0.6764, Acc=77.06%]\n"
          ]
        },
        {
          "metadata": {
            "tags": null
          },
          "name": "stdout",
          "output_type": "stream",
          "text": [
            "Epoch 6: Train Loss: 0.6512, Train Acc: 77.06%, Test Acc: 65.57%\n"
          ]
        },
        {
          "metadata": {
            "tags": null
          },
          "name": "stderr",
          "output_type": "stream",
          "text": [
            "Epoch 7/10: 100%|██████████| 196/196 [00:11<00:00, 16.61it/s, Loss=0.6262, Acc=80.10%]\n"
          ]
        },
        {
          "metadata": {
            "tags": null
          },
          "name": "stdout",
          "output_type": "stream",
          "text": [
            "Epoch 7: Train Loss: 0.5607, Train Acc: 80.10%, Test Acc: 66.29%\n"
          ]
        },
        {
          "metadata": {
            "tags": null
          },
          "name": "stderr",
          "output_type": "stream",
          "text": [
            "Epoch 8/10: 100%|██████████| 196/196 [00:11<00:00, 16.63it/s, Loss=0.5539, Acc=82.98%]\n"
          ]
        },
        {
          "metadata": {
            "tags": null
          },
          "name": "stdout",
          "output_type": "stream",
          "text": [
            "Epoch 8: Train Loss: 0.4798, Train Acc: 82.98%, Test Acc: 66.66%\n"
          ]
        },
        {
          "metadata": {
            "tags": null
          },
          "name": "stderr",
          "output_type": "stream",
          "text": [
            "Epoch 9/10: 100%|██████████| 196/196 [00:11<00:00, 16.74it/s, Loss=0.4468, Acc=85.08%]\n"
          ]
        },
        {
          "metadata": {
            "tags": null
          },
          "name": "stdout",
          "output_type": "stream",
          "text": [
            "Epoch 9: Train Loss: 0.4185, Train Acc: 85.08%, Test Acc: 66.65%\n"
          ]
        },
        {
          "metadata": {
            "tags": null
          },
          "name": "stderr",
          "output_type": "stream",
          "text": [
            "Epoch 10/10: 100%|██████████| 196/196 [00:11<00:00, 16.66it/s, Loss=0.2304, Acc=86.97%]\n"
          ]
        },
        {
          "metadata": {
            "tags": null
          },
          "name": "stdout",
          "output_type": "stream",
          "text": [
            "Epoch 10: Train Loss: 0.3652, Train Acc: 86.97%, Test Acc: 66.31%\n"
          ]
        },
        {
          "data": {
            "text/html": [],
            "text/plain": [
              "<IPython.core.display.HTML object>"
            ]
          },
          "metadata": {},
          "output_type": "display_data"
        },
        {
          "data": {
            "text/html": [
              "<br>    <style><br>        .wandb-row {<br>            display: flex;<br>            flex-direction: row;<br>            flex-wrap: wrap;<br>            justify-content: flex-start;<br>            width: 100%;<br>        }<br>        .wandb-col {<br>            display: flex;<br>            flex-direction: column;<br>            flex-basis: 100%;<br>            flex: 1;<br>            padding: 10px;<br>        }<br>    </style><br><div class=\"wandb-row\"><div class=\"wandb-col\"><h3>Run history:</h3><br/><table class=\"wandb\"><tr><td>epoch</td><td>▁▂▃▃▄▅▆▆▇█</td></tr><tr><td>test_accuracy</td><td>▁▄▆▇▇▇████</td></tr><tr><td>train_accuracy</td><td>▁▃▄▅▆▆▇▇██</td></tr><tr><td>train_loss</td><td>█▆▅▄▃▃▂▂▁▁</td></tr></table><br/></div><div class=\"wandb-col\"><h3>Run summary:</h3><br/><table class=\"wandb\"><tr><td>epoch</td><td>10</td></tr><tr><td>test_accuracy</td><td>66.31</td></tr><tr><td>train_accuracy</td><td>86.972</td></tr><tr><td>train_loss</td><td>0.36519</td></tr></table><br/></div></div>"
            ],
            "text/plain": [
              "<IPython.core.display.HTML object>"
            ]
          },
          "metadata": {},
          "output_type": "display_data"
        },
        {
          "data": {
            "text/html": [
              " View run <strong style=\"color:#cdcd00\">Idk Where this shows</strong> at: <a href='https://wandb.ai/simeonbetapudi-belmont-university/convnet_CIFAR10_sweep/runs/snfitu8t' target=\"_blank\">https://wandb.ai/simeonbetapudi-belmont-university/convnet_CIFAR10_sweep/runs/snfitu8t</a><br> View project at: <a href='https://wandb.ai/simeonbetapudi-belmont-university/convnet_CIFAR10_sweep' target=\"_blank\">https://wandb.ai/simeonbetapudi-belmont-university/convnet_CIFAR10_sweep</a><br>Synced 5 W&B file(s), 0 media file(s), 0 artifact file(s) and 0 other file(s)"
            ],
            "text/plain": [
              "<IPython.core.display.HTML object>"
            ]
          },
          "metadata": {},
          "output_type": "display_data"
        },
        {
          "data": {
            "text/html": [
              "Find logs at: <code>./wandb/run-20250908_213720-snfitu8t/logs</code>"
            ],
            "text/plain": [
              "<IPython.core.display.HTML object>"
            ]
          },
          "metadata": {},
          "output_type": "display_data"
        },
        {
          "metadata": {
            "tags": null
          },
          "name": "stderr",
          "output_type": "stream",
          "text": [
            "\u001b[34m\u001b[1mwandb\u001b[0m: Agent Starting Run: 72qksw0r with config:\n",
            "\u001b[34m\u001b[1mwandb\u001b[0m: \tactivation: SiLU\n",
            "\u001b[34m\u001b[1mwandb\u001b[0m: \tbase_channels: 64\n",
            "\u001b[34m\u001b[1mwandb\u001b[0m: \tchannel_mult: 4\n",
            "\u001b[34m\u001b[1mwandb\u001b[0m: \tkernel_size: [3, 5]\n",
            "\u001b[34m\u001b[1mwandb\u001b[0m: \tn_conv_layers: 3\n",
            "\u001b[34m\u001b[1mwandb\u001b[0m: \tstride: 2\n"
          ]
        },
        {
          "data": {
            "text/html": [
              "Ignoring project 'convnet_CIFAR10_sweep' when running a sweep."
            ],
            "text/plain": [
              "<IPython.core.display.HTML object>"
            ]
          },
          "metadata": {},
          "output_type": "display_data"
        },
        {
          "data": {
            "text/html": [],
            "text/plain": [
              "<IPython.core.display.HTML object>"
            ]
          },
          "metadata": {},
          "output_type": "display_data"
        },
        {
          "data": {
            "text/html": [
              "Tracking run with wandb version 0.21.3"
            ],
            "text/plain": [
              "<IPython.core.display.HTML object>"
            ]
          },
          "metadata": {},
          "output_type": "display_data"
        },
        {
          "data": {
            "text/html": [
              "Run data is saved locally in <code>/content/wandb/run-20250908_213946-72qksw0r</code>"
            ],
            "text/plain": [
              "<IPython.core.display.HTML object>"
            ]
          },
          "metadata": {},
          "output_type": "display_data"
        },
        {
          "data": {
            "text/html": [
              "Syncing run <strong><a href='https://wandb.ai/simeonbetapudi-belmont-university/convnet_CIFAR10_sweep/runs/72qksw0r' target=\"_blank\">Idk Where this shows</a></strong> to <a href='https://wandb.ai/simeonbetapudi-belmont-university/convnet_CIFAR10_sweep' target=\"_blank\">Weights & Biases</a> (<a href='https://wandb.me/developer-guide' target=\"_blank\">docs</a>)<br>Sweep page: <a href='https://wandb.ai/simeonbetapudi-belmont-university/convnet_CIFAR10_sweep/sweeps/klsyko7c' target=\"_blank\">https://wandb.ai/simeonbetapudi-belmont-university/convnet_CIFAR10_sweep/sweeps/klsyko7c</a>"
            ],
            "text/plain": [
              "<IPython.core.display.HTML object>"
            ]
          },
          "metadata": {},
          "output_type": "display_data"
        },
        {
          "data": {
            "text/html": [
              " View project at <a href='https://wandb.ai/simeonbetapudi-belmont-university/convnet_CIFAR10_sweep' target=\"_blank\">https://wandb.ai/simeonbetapudi-belmont-university/convnet_CIFAR10_sweep</a>"
            ],
            "text/plain": [
              "<IPython.core.display.HTML object>"
            ]
          },
          "metadata": {},
          "output_type": "display_data"
        },
        {
          "data": {
            "text/html": [
              " View sweep at <a href='https://wandb.ai/simeonbetapudi-belmont-university/convnet_CIFAR10_sweep/sweeps/klsyko7c' target=\"_blank\">https://wandb.ai/simeonbetapudi-belmont-university/convnet_CIFAR10_sweep/sweeps/klsyko7c</a>"
            ],
            "text/plain": [
              "<IPython.core.display.HTML object>"
            ]
          },
          "metadata": {},
          "output_type": "display_data"
        },
        {
          "data": {
            "text/html": [
              " View run at <a href='https://wandb.ai/simeonbetapudi-belmont-university/convnet_CIFAR10_sweep/runs/72qksw0r' target=\"_blank\">https://wandb.ai/simeonbetapudi-belmont-university/convnet_CIFAR10_sweep/runs/72qksw0r</a>"
            ],
            "text/plain": [
              "<IPython.core.display.HTML object>"
            ]
          },
          "metadata": {},
          "output_type": "display_data"
        },
        {
          "metadata": {
            "tags": null
          },
          "name": "stderr",
          "output_type": "stream",
          "text": [
            "Epoch 1/10: 100%|██████████| 196/196 [00:12<00:00, 16.19it/s, Loss=1.2930, Acc=40.10%]\n"
          ]
        },
        {
          "metadata": {
            "tags": null
          },
          "name": "stdout",
          "output_type": "stream",
          "text": [
            "Epoch 1: Train Loss: 1.6359, Train Acc: 40.10%, Test Acc: 48.23%\n"
          ]
        },
        {
          "metadata": {
            "tags": null
          },
          "name": "stderr",
          "output_type": "stream",
          "text": [
            "Epoch 2/10: 100%|██████████| 196/196 [00:12<00:00, 16.30it/s, Loss=1.2920, Acc=53.07%]\n"
          ]
        },
        {
          "metadata": {
            "tags": null
          },
          "name": "stdout",
          "output_type": "stream",
          "text": [
            "Epoch 2: Train Loss: 1.3031, Train Acc: 53.07%, Test Acc: 57.27%\n"
          ]
        },
        {
          "metadata": {
            "tags": null
          },
          "name": "stderr",
          "output_type": "stream",
          "text": [
            "Epoch 3/10: 100%|██████████| 196/196 [00:11<00:00, 16.38it/s, Loss=1.1605, Acc=61.01%]\n"
          ]
        },
        {
          "metadata": {
            "tags": null
          },
          "name": "stdout",
          "output_type": "stream",
          "text": [
            "Epoch 3: Train Loss: 1.1053, Train Acc: 61.01%, Test Acc: 62.81%\n"
          ]
        },
        {
          "metadata": {
            "tags": null
          },
          "name": "stderr",
          "output_type": "stream",
          "text": [
            "Epoch 4/10: 100%|██████████| 196/196 [00:11<00:00, 16.34it/s, Loss=0.8251, Acc=66.48%]\n"
          ]
        },
        {
          "metadata": {
            "tags": null
          },
          "name": "stdout",
          "output_type": "stream",
          "text": [
            "Epoch 4: Train Loss: 0.9497, Train Acc: 66.48%, Test Acc: 65.62%\n"
          ]
        },
        {
          "metadata": {
            "tags": null
          },
          "name": "stderr",
          "output_type": "stream",
          "text": [
            "Epoch 5/10: 100%|██████████| 196/196 [00:11<00:00, 16.40it/s, Loss=0.8296, Acc=71.75%]\n"
          ]
        },
        {
          "metadata": {
            "tags": null
          },
          "name": "stdout",
          "output_type": "stream",
          "text": [
            "Epoch 5: Train Loss: 0.8055, Train Acc: 71.75%, Test Acc: 67.80%\n"
          ]
        },
        {
          "metadata": {
            "tags": null
          },
          "name": "stderr",
          "output_type": "stream",
          "text": [
            "Epoch 6/10: 100%|██████████| 196/196 [00:11<00:00, 16.37it/s, Loss=0.5983, Acc=76.51%]\n"
          ]
        },
        {
          "metadata": {
            "tags": null
          },
          "name": "stdout",
          "output_type": "stream",
          "text": [
            "Epoch 6: Train Loss: 0.6722, Train Acc: 76.51%, Test Acc: 68.43%\n"
          ]
        },
        {
          "metadata": {
            "tags": null
          },
          "name": "stderr",
          "output_type": "stream",
          "text": [
            "Epoch 7/10: 100%|██████████| 196/196 [00:11<00:00, 16.42it/s, Loss=0.5848, Acc=81.10%]\n"
          ]
        },
        {
          "metadata": {
            "tags": null
          },
          "name": "stdout",
          "output_type": "stream",
          "text": [
            "Epoch 7: Train Loss: 0.5504, Train Acc: 81.10%, Test Acc: 69.45%\n"
          ]
        },
        {
          "metadata": {
            "tags": null
          },
          "name": "stderr",
          "output_type": "stream",
          "text": [
            "Epoch 8/10: 100%|██████████| 196/196 [00:11<00:00, 16.37it/s, Loss=0.4923, Acc=84.68%]\n"
          ]
        },
        {
          "metadata": {
            "tags": null
          },
          "name": "stdout",
          "output_type": "stream",
          "text": [
            "Epoch 8: Train Loss: 0.4428, Train Acc: 84.68%, Test Acc: 69.91%\n"
          ]
        },
        {
          "metadata": {
            "tags": null
          },
          "name": "stderr",
          "output_type": "stream",
          "text": [
            "Epoch 9/10: 100%|██████████| 196/196 [00:11<00:00, 16.36it/s, Loss=0.3800, Acc=87.87%]\n"
          ]
        },
        {
          "metadata": {
            "tags": null
          },
          "name": "stdout",
          "output_type": "stream",
          "text": [
            "Epoch 9: Train Loss: 0.3544, Train Acc: 87.87%, Test Acc: 70.31%\n"
          ]
        },
        {
          "metadata": {
            "tags": null
          },
          "name": "stderr",
          "output_type": "stream",
          "text": [
            "Epoch 10/10: 100%|██████████| 196/196 [00:12<00:00, 16.32it/s, Loss=0.3526, Acc=90.63%]\n"
          ]
        },
        {
          "metadata": {
            "tags": null
          },
          "name": "stdout",
          "output_type": "stream",
          "text": [
            "Epoch 10: Train Loss: 0.2781, Train Acc: 90.63%, Test Acc: 70.18%\n"
          ]
        },
        {
          "data": {
            "text/html": [],
            "text/plain": [
              "<IPython.core.display.HTML object>"
            ]
          },
          "metadata": {},
          "output_type": "display_data"
        },
        {
          "data": {
            "text/html": [
              "<br>    <style><br>        .wandb-row {<br>            display: flex;<br>            flex-direction: row;<br>            flex-wrap: wrap;<br>            justify-content: flex-start;<br>            width: 100%;<br>        }<br>        .wandb-col {<br>            display: flex;<br>            flex-direction: column;<br>            flex-basis: 100%;<br>            flex: 1;<br>            padding: 10px;<br>        }<br>    </style><br><div class=\"wandb-row\"><div class=\"wandb-col\"><h3>Run history:</h3><br/><table class=\"wandb\"><tr><td>epoch</td><td>▁▂▃▃▄▅▆▆▇█</td></tr><tr><td>test_accuracy</td><td>▁▄▆▇▇▇████</td></tr><tr><td>train_accuracy</td><td>▁▃▄▅▅▆▇▇██</td></tr><tr><td>train_loss</td><td>█▆▅▄▄▃▂▂▁▁</td></tr></table><br/></div><div class=\"wandb-col\"><h3>Run summary:</h3><br/><table class=\"wandb\"><tr><td>epoch</td><td>10</td></tr><tr><td>test_accuracy</td><td>70.18</td></tr><tr><td>train_accuracy</td><td>90.626</td></tr><tr><td>train_loss</td><td>0.27815</td></tr></table><br/></div></div>"
            ],
            "text/plain": [
              "<IPython.core.display.HTML object>"
            ]
          },
          "metadata": {},
          "output_type": "display_data"
        },
        {
          "data": {
            "text/html": [
              " View run <strong style=\"color:#cdcd00\">Idk Where this shows</strong> at: <a href='https://wandb.ai/simeonbetapudi-belmont-university/convnet_CIFAR10_sweep/runs/72qksw0r' target=\"_blank\">https://wandb.ai/simeonbetapudi-belmont-university/convnet_CIFAR10_sweep/runs/72qksw0r</a><br> View project at: <a href='https://wandb.ai/simeonbetapudi-belmont-university/convnet_CIFAR10_sweep' target=\"_blank\">https://wandb.ai/simeonbetapudi-belmont-university/convnet_CIFAR10_sweep</a><br>Synced 5 W&B file(s), 0 media file(s), 0 artifact file(s) and 0 other file(s)"
            ],
            "text/plain": [
              "<IPython.core.display.HTML object>"
            ]
          },
          "metadata": {},
          "output_type": "display_data"
        },
        {
          "data": {
            "text/html": [
              "Find logs at: <code>./wandb/run-20250908_213946-72qksw0r/logs</code>"
            ],
            "text/plain": [
              "<IPython.core.display.HTML object>"
            ]
          },
          "metadata": {},
          "output_type": "display_data"
        },
        {
          "metadata": {
            "tags": null
          },
          "name": "stderr",
          "output_type": "stream",
          "text": [
            "\u001b[34m\u001b[1mwandb\u001b[0m: Agent Starting Run: h01owc2o with config:\n",
            "\u001b[34m\u001b[1mwandb\u001b[0m: \tactivation: SiLU\n",
            "\u001b[34m\u001b[1mwandb\u001b[0m: \tbase_channels: 128\n",
            "\u001b[34m\u001b[1mwandb\u001b[0m: \tchannel_mult: 4\n",
            "\u001b[34m\u001b[1mwandb\u001b[0m: \tkernel_size: [3, 5]\n",
            "\u001b[34m\u001b[1mwandb\u001b[0m: \tn_conv_layers: 3\n",
            "\u001b[34m\u001b[1mwandb\u001b[0m: \tstride: 3\n"
          ]
        },
        {
          "data": {
            "text/html": [
              "Ignoring project 'convnet_CIFAR10_sweep' when running a sweep."
            ],
            "text/plain": [
              "<IPython.core.display.HTML object>"
            ]
          },
          "metadata": {},
          "output_type": "display_data"
        },
        {
          "data": {
            "text/html": [
              "creating run (0.0s)"
            ],
            "text/plain": [
              "<IPython.core.display.HTML object>"
            ]
          },
          "metadata": {},
          "output_type": "display_data"
        },
        {
          "data": {
            "text/html": [
              "Tracking run with wandb version 0.21.3"
            ],
            "text/plain": [
              "<IPython.core.display.HTML object>"
            ]
          },
          "metadata": {},
          "output_type": "display_data"
        },
        {
          "data": {
            "text/html": [
              "Run data is saved locally in <code>/content/wandb/run-20250908_214222-h01owc2o</code>"
            ],
            "text/plain": [
              "<IPython.core.display.HTML object>"
            ]
          },
          "metadata": {},
          "output_type": "display_data"
        },
        {
          "data": {
            "text/html": [
              "Syncing run <strong><a href='https://wandb.ai/simeonbetapudi-belmont-university/convnet_CIFAR10_sweep/runs/h01owc2o' target=\"_blank\">Idk Where this shows</a></strong> to <a href='https://wandb.ai/simeonbetapudi-belmont-university/convnet_CIFAR10_sweep' target=\"_blank\">Weights & Biases</a> (<a href='https://wandb.me/developer-guide' target=\"_blank\">docs</a>)<br>Sweep page: <a href='https://wandb.ai/simeonbetapudi-belmont-university/convnet_CIFAR10_sweep/sweeps/klsyko7c' target=\"_blank\">https://wandb.ai/simeonbetapudi-belmont-university/convnet_CIFAR10_sweep/sweeps/klsyko7c</a>"
            ],
            "text/plain": [
              "<IPython.core.display.HTML object>"
            ]
          },
          "metadata": {},
          "output_type": "display_data"
        },
        {
          "data": {
            "text/html": [
              " View project at <a href='https://wandb.ai/simeonbetapudi-belmont-university/convnet_CIFAR10_sweep' target=\"_blank\">https://wandb.ai/simeonbetapudi-belmont-university/convnet_CIFAR10_sweep</a>"
            ],
            "text/plain": [
              "<IPython.core.display.HTML object>"
            ]
          },
          "metadata": {},
          "output_type": "display_data"
        },
        {
          "data": {
            "text/html": [
              " View sweep at <a href='https://wandb.ai/simeonbetapudi-belmont-university/convnet_CIFAR10_sweep/sweeps/klsyko7c' target=\"_blank\">https://wandb.ai/simeonbetapudi-belmont-university/convnet_CIFAR10_sweep/sweeps/klsyko7c</a>"
            ],
            "text/plain": [
              "<IPython.core.display.HTML object>"
            ]
          },
          "metadata": {},
          "output_type": "display_data"
        },
        {
          "data": {
            "text/html": [
              " View run at <a href='https://wandb.ai/simeonbetapudi-belmont-university/convnet_CIFAR10_sweep/runs/h01owc2o' target=\"_blank\">https://wandb.ai/simeonbetapudi-belmont-university/convnet_CIFAR10_sweep/runs/h01owc2o</a>"
            ],
            "text/plain": [
              "<IPython.core.display.HTML object>"
            ]
          },
          "metadata": {},
          "output_type": "display_data"
        },
        {
          "metadata": {
            "tags": null
          },
          "name": "stderr",
          "output_type": "stream",
          "text": [
            "Epoch 1/10: 100%|██████████| 196/196 [00:12<00:00, 16.13it/s, Loss=1.6565, Acc=45.88%]\n"
          ]
        },
        {
          "metadata": {
            "tags": null
          },
          "name": "stdout",
          "output_type": "stream",
          "text": [
            "Epoch 1: Train Loss: 1.5083, Train Acc: 45.88%, Test Acc: 53.55%\n"
          ]
        },
        {
          "metadata": {
            "tags": null
          },
          "name": "stderr",
          "output_type": "stream",
          "text": [
            "Epoch 2/10: 100%|██████████| 196/196 [00:12<00:00, 16.26it/s, Loss=1.0060, Acc=58.21%]\n"
          ]
        },
        {
          "metadata": {
            "tags": null
          },
          "name": "stdout",
          "output_type": "stream",
          "text": [
            "Epoch 2: Train Loss: 1.1663, Train Acc: 58.21%, Test Acc: 60.41%\n"
          ]
        },
        {
          "metadata": {
            "tags": null
          },
          "name": "stderr",
          "output_type": "stream",
          "text": [
            "Epoch 3/10: 100%|██████████| 196/196 [00:12<00:00, 16.25it/s, Loss=0.9899, Acc=66.18%]\n"
          ]
        },
        {
          "metadata": {
            "tags": null
          },
          "name": "stdout",
          "output_type": "stream",
          "text": [
            "Epoch 3: Train Loss: 0.9517, Train Acc: 66.18%, Test Acc: 62.82%\n"
          ]
        },
        {
          "metadata": {
            "tags": null
          },
          "name": "stderr",
          "output_type": "stream",
          "text": [
            "Epoch 4/10: 100%|██████████| 196/196 [00:12<00:00, 16.25it/s, Loss=0.8496, Acc=74.04%]\n"
          ]
        },
        {
          "metadata": {
            "tags": null
          },
          "name": "stdout",
          "output_type": "stream",
          "text": [
            "Epoch 4: Train Loss: 0.7332, Train Acc: 74.04%, Test Acc: 65.48%\n"
          ]
        },
        {
          "metadata": {
            "tags": null
          },
          "name": "stderr",
          "output_type": "stream",
          "text": [
            "Epoch 5/10: 100%|██████████| 196/196 [00:11<00:00, 16.37it/s, Loss=0.5069, Acc=82.32%]\n"
          ]
        },
        {
          "metadata": {
            "tags": null
          },
          "name": "stdout",
          "output_type": "stream",
          "text": [
            "Epoch 5: Train Loss: 0.5068, Train Acc: 82.32%, Test Acc: 65.54%\n"
          ]
        },
        {
          "metadata": {
            "tags": null
          },
          "name": "stderr",
          "output_type": "stream",
          "text": [
            "Epoch 6/10: 100%|██████████| 196/196 [00:12<00:00, 16.19it/s, Loss=0.4334, Acc=88.44%]\n"
          ]
        },
        {
          "metadata": {
            "tags": null
          },
          "name": "stdout",
          "output_type": "stream",
          "text": [
            "Epoch 6: Train Loss: 0.3326, Train Acc: 88.44%, Test Acc: 65.55%\n"
          ]
        },
        {
          "metadata": {
            "tags": null
          },
          "name": "stderr",
          "output_type": "stream",
          "text": [
            "Epoch 7/10: 100%|██████████| 196/196 [00:12<00:00, 16.21it/s, Loss=0.3722, Acc=92.16%]\n"
          ]
        },
        {
          "metadata": {
            "tags": null
          },
          "name": "stdout",
          "output_type": "stream",
          "text": [
            "Epoch 7: Train Loss: 0.2234, Train Acc: 92.16%, Test Acc: 65.65%\n"
          ]
        },
        {
          "metadata": {
            "tags": null
          },
          "name": "stderr",
          "output_type": "stream",
          "text": [
            "Epoch 8/10: 100%|██████████| 196/196 [00:12<00:00, 16.26it/s, Loss=0.1615, Acc=94.48%]\n"
          ]
        },
        {
          "metadata": {
            "tags": null
          },
          "name": "stdout",
          "output_type": "stream",
          "text": [
            "Epoch 8: Train Loss: 0.1626, Train Acc: 94.48%, Test Acc: 65.84%\n"
          ]
        },
        {
          "metadata": {
            "tags": null
          },
          "name": "stderr",
          "output_type": "stream",
          "text": [
            "Epoch 9/10: 100%|██████████| 196/196 [00:12<00:00, 16.22it/s, Loss=0.0633, Acc=95.50%]\n"
          ]
        },
        {
          "metadata": {
            "tags": null
          },
          "name": "stdout",
          "output_type": "stream",
          "text": [
            "Epoch 9: Train Loss: 0.1288, Train Acc: 95.50%, Test Acc: 66.07%\n"
          ]
        },
        {
          "metadata": {
            "tags": null
          },
          "name": "stderr",
          "output_type": "stream",
          "text": [
            "Epoch 10/10: 100%|██████████| 196/196 [00:12<00:00, 16.23it/s, Loss=0.1162, Acc=96.14%]\n"
          ]
        },
        {
          "metadata": {
            "tags": null
          },
          "name": "stdout",
          "output_type": "stream",
          "text": [
            "Epoch 10: Train Loss: 0.1132, Train Acc: 96.14%, Test Acc: 66.27%\n"
          ]
        },
        {
          "data": {
            "text/html": [],
            "text/plain": [
              "<IPython.core.display.HTML object>"
            ]
          },
          "metadata": {},
          "output_type": "display_data"
        },
        {
          "data": {
            "text/html": [
              "<br>    <style><br>        .wandb-row {<br>            display: flex;<br>            flex-direction: row;<br>            flex-wrap: wrap;<br>            justify-content: flex-start;<br>            width: 100%;<br>        }<br>        .wandb-col {<br>            display: flex;<br>            flex-direction: column;<br>            flex-basis: 100%;<br>            flex: 1;<br>            padding: 10px;<br>        }<br>    </style><br><div class=\"wandb-row\"><div class=\"wandb-col\"><h3>Run history:</h3><br/><table class=\"wandb\"><tr><td>epoch</td><td>▁▂▃▃▄▅▆▆▇█</td></tr><tr><td>test_accuracy</td><td>▁▅▆███████</td></tr><tr><td>train_accuracy</td><td>▁▃▄▅▆▇▇███</td></tr><tr><td>train_loss</td><td>█▆▅▄▃▂▂▁▁▁</td></tr></table><br/></div><div class=\"wandb-col\"><h3>Run summary:</h3><br/><table class=\"wandb\"><tr><td>epoch</td><td>10</td></tr><tr><td>test_accuracy</td><td>66.27</td></tr><tr><td>train_accuracy</td><td>96.144</td></tr><tr><td>train_loss</td><td>0.11318</td></tr></table><br/></div></div>"
            ],
            "text/plain": [
              "<IPython.core.display.HTML object>"
            ]
          },
          "metadata": {},
          "output_type": "display_data"
        },
        {
          "data": {
            "text/html": [
              " View run <strong style=\"color:#cdcd00\">Idk Where this shows</strong> at: <a href='https://wandb.ai/simeonbetapudi-belmont-university/convnet_CIFAR10_sweep/runs/h01owc2o' target=\"_blank\">https://wandb.ai/simeonbetapudi-belmont-university/convnet_CIFAR10_sweep/runs/h01owc2o</a><br> View project at: <a href='https://wandb.ai/simeonbetapudi-belmont-university/convnet_CIFAR10_sweep' target=\"_blank\">https://wandb.ai/simeonbetapudi-belmont-university/convnet_CIFAR10_sweep</a><br>Synced 5 W&B file(s), 0 media file(s), 0 artifact file(s) and 0 other file(s)"
            ],
            "text/plain": [
              "<IPython.core.display.HTML object>"
            ]
          },
          "metadata": {},
          "output_type": "display_data"
        },
        {
          "data": {
            "text/html": [
              "Find logs at: <code>./wandb/run-20250908_214222-h01owc2o/logs</code>"
            ],
            "text/plain": [
              "<IPython.core.display.HTML object>"
            ]
          },
          "metadata": {},
          "output_type": "display_data"
        },
        {
          "metadata": {
            "tags": null
          },
          "name": "stderr",
          "output_type": "stream",
          "text": [
            "\u001b[34m\u001b[1mwandb\u001b[0m: Agent Starting Run: v6i5n8ic with config:\n",
            "\u001b[34m\u001b[1mwandb\u001b[0m: \tactivation: SiLU\n",
            "\u001b[34m\u001b[1mwandb\u001b[0m: \tbase_channels: 128\n",
            "\u001b[34m\u001b[1mwandb\u001b[0m: \tchannel_mult: 4\n",
            "\u001b[34m\u001b[1mwandb\u001b[0m: \tkernel_size: [5, 3]\n",
            "\u001b[34m\u001b[1mwandb\u001b[0m: \tn_conv_layers: 3\n",
            "\u001b[34m\u001b[1mwandb\u001b[0m: \tstride: 1\n"
          ]
        },
        {
          "data": {
            "text/html": [
              "Ignoring project 'convnet_CIFAR10_sweep' when running a sweep."
            ],
            "text/plain": [
              "<IPython.core.display.HTML object>"
            ]
          },
          "metadata": {},
          "output_type": "display_data"
        },
        {
          "data": {
            "text/html": [
              "creating run (0.0s)"
            ],
            "text/plain": [
              "<IPython.core.display.HTML object>"
            ]
          },
          "metadata": {},
          "output_type": "display_data"
        },
        {
          "data": {
            "text/html": [
              "Tracking run with wandb version 0.21.3"
            ],
            "text/plain": [
              "<IPython.core.display.HTML object>"
            ]
          },
          "metadata": {},
          "output_type": "display_data"
        },
        {
          "data": {
            "text/html": [
              "Run data is saved locally in <code>/content/wandb/run-20250908_214459-v6i5n8ic</code>"
            ],
            "text/plain": [
              "<IPython.core.display.HTML object>"
            ]
          },
          "metadata": {},
          "output_type": "display_data"
        },
        {
          "data": {
            "text/html": [
              "Syncing run <strong><a href='https://wandb.ai/simeonbetapudi-belmont-university/convnet_CIFAR10_sweep/runs/v6i5n8ic' target=\"_blank\">Idk Where this shows</a></strong> to <a href='https://wandb.ai/simeonbetapudi-belmont-university/convnet_CIFAR10_sweep' target=\"_blank\">Weights & Biases</a> (<a href='https://wandb.me/developer-guide' target=\"_blank\">docs</a>)<br>Sweep page: <a href='https://wandb.ai/simeonbetapudi-belmont-university/convnet_CIFAR10_sweep/sweeps/klsyko7c' target=\"_blank\">https://wandb.ai/simeonbetapudi-belmont-university/convnet_CIFAR10_sweep/sweeps/klsyko7c</a>"
            ],
            "text/plain": [
              "<IPython.core.display.HTML object>"
            ]
          },
          "metadata": {},
          "output_type": "display_data"
        },
        {
          "data": {
            "text/html": [
              " View project at <a href='https://wandb.ai/simeonbetapudi-belmont-university/convnet_CIFAR10_sweep' target=\"_blank\">https://wandb.ai/simeonbetapudi-belmont-university/convnet_CIFAR10_sweep</a>"
            ],
            "text/plain": [
              "<IPython.core.display.HTML object>"
            ]
          },
          "metadata": {},
          "output_type": "display_data"
        },
        {
          "data": {
            "text/html": [
              " View sweep at <a href='https://wandb.ai/simeonbetapudi-belmont-university/convnet_CIFAR10_sweep/sweeps/klsyko7c' target=\"_blank\">https://wandb.ai/simeonbetapudi-belmont-university/convnet_CIFAR10_sweep/sweeps/klsyko7c</a>"
            ],
            "text/plain": [
              "<IPython.core.display.HTML object>"
            ]
          },
          "metadata": {},
          "output_type": "display_data"
        },
        {
          "data": {
            "text/html": [
              " View run at <a href='https://wandb.ai/simeonbetapudi-belmont-university/convnet_CIFAR10_sweep/runs/v6i5n8ic' target=\"_blank\">https://wandb.ai/simeonbetapudi-belmont-university/convnet_CIFAR10_sweep/runs/v6i5n8ic</a>"
            ],
            "text/plain": [
              "<IPython.core.display.HTML object>"
            ]
          },
          "metadata": {},
          "output_type": "display_data"
        },
        {
          "metadata": {
            "tags": null
          },
          "name": "stderr",
          "output_type": "stream",
          "text": [
            "Epoch 1/10: 100%|██████████| 196/196 [00:50<00:00,  3.89it/s, Loss=1.3473, Acc=39.39%]\n"
          ]
        },
        {
          "metadata": {
            "tags": null
          },
          "name": "stdout",
          "output_type": "stream",
          "text": [
            "Epoch 1: Train Loss: 1.6556, Train Acc: 39.39%, Test Acc: 47.27%\n"
          ]
        },
        {
          "metadata": {
            "tags": null
          },
          "name": "stderr",
          "output_type": "stream",
          "text": [
            "Epoch 2/10: 100%|██████████| 196/196 [00:50<00:00,  3.88it/s, Loss=1.2447, Acc=53.77%]\n"
          ]
        },
        {
          "metadata": {
            "tags": null
          },
          "name": "stdout",
          "output_type": "stream",
          "text": [
            "Epoch 2: Train Loss: 1.3000, Train Acc: 53.77%, Test Acc: 56.57%\n"
          ]
        },
        {
          "metadata": {
            "tags": null
          },
          "name": "stderr",
          "output_type": "stream",
          "text": [
            "Epoch 3/10: 100%|██████████| 196/196 [00:50<00:00,  3.88it/s, Loss=1.1316, Acc=60.76%]\n"
          ]
        },
        {
          "metadata": {
            "tags": null
          },
          "name": "stdout",
          "output_type": "stream",
          "text": [
            "Epoch 3: Train Loss: 1.1161, Train Acc: 60.76%, Test Acc: 64.30%\n"
          ]
        },
        {
          "metadata": {
            "tags": null
          },
          "name": "stderr",
          "output_type": "stream",
          "text": [
            "Epoch 4/10: 100%|██████████| 196/196 [00:50<00:00,  3.88it/s, Loss=1.1797, Acc=65.52%]\n"
          ]
        },
        {
          "metadata": {
            "tags": null
          },
          "name": "stdout",
          "output_type": "stream",
          "text": [
            "Epoch 4: Train Loss: 0.9876, Train Acc: 65.52%, Test Acc: 66.43%\n"
          ]
        },
        {
          "metadata": {
            "tags": null
          },
          "name": "stderr",
          "output_type": "stream",
          "text": [
            "Epoch 5/10: 100%|██████████| 196/196 [00:50<00:00,  3.87it/s, Loss=0.8937, Acc=69.33%]\n"
          ]
        },
        {
          "metadata": {
            "tags": null
          },
          "name": "stdout",
          "output_type": "stream",
          "text": [
            "Epoch 5: Train Loss: 0.8818, Train Acc: 69.33%, Test Acc: 67.36%\n"
          ]
        },
        {
          "metadata": {
            "tags": null
          },
          "name": "stderr",
          "output_type": "stream",
          "text": [
            "Epoch 6/10: 100%|██████████| 196/196 [00:50<00:00,  3.88it/s, Loss=0.6968, Acc=72.18%]\n"
          ]
        },
        {
          "metadata": {
            "tags": null
          },
          "name": "stdout",
          "output_type": "stream",
          "text": [
            "Epoch 6: Train Loss: 0.8018, Train Acc: 72.18%, Test Acc: 73.59%\n"
          ]
        },
        {
          "metadata": {
            "tags": null
          },
          "name": "stderr",
          "output_type": "stream",
          "text": [
            "Epoch 7/10: 100%|██████████| 196/196 [00:50<00:00,  3.88it/s, Loss=0.9175, Acc=74.62%]\n"
          ]
        },
        {
          "metadata": {
            "tags": null
          },
          "name": "stdout",
          "output_type": "stream",
          "text": [
            "Epoch 7: Train Loss: 0.7359, Train Acc: 74.62%, Test Acc: 74.22%\n"
          ]
        },
        {
          "metadata": {
            "tags": null
          },
          "name": "stderr",
          "output_type": "stream",
          "text": [
            "Epoch 8/10: 100%|██████████| 196/196 [00:50<00:00,  3.88it/s, Loss=0.7468, Acc=76.91%]\n"
          ]
        },
        {
          "metadata": {
            "tags": null
          },
          "name": "stdout",
          "output_type": "stream",
          "text": [
            "Epoch 8: Train Loss: 0.6687, Train Acc: 76.91%, Test Acc: 75.30%\n"
          ]
        },
        {
          "metadata": {
            "tags": null
          },
          "name": "stderr",
          "output_type": "stream",
          "text": [
            "Epoch 9/10: 100%|██████████| 196/196 [00:50<00:00,  3.88it/s, Loss=0.6464, Acc=78.95%]\n"
          ]
        },
        {
          "metadata": {
            "tags": null
          },
          "name": "stdout",
          "output_type": "stream",
          "text": [
            "Epoch 9: Train Loss: 0.6092, Train Acc: 78.95%, Test Acc: 75.12%\n"
          ]
        },
        {
          "metadata": {
            "tags": null
          },
          "name": "stderr",
          "output_type": "stream",
          "text": [
            "Epoch 10/10: 100%|██████████| 196/196 [00:50<00:00,  3.89it/s, Loss=0.4386, Acc=81.05%]\n"
          ]
        },
        {
          "metadata": {
            "tags": null
          },
          "name": "stdout",
          "output_type": "stream",
          "text": [
            "Epoch 10: Train Loss: 0.5519, Train Acc: 81.05%, Test Acc: 76.20%\n"
          ]
        },
        {
          "data": {
            "text/html": [],
            "text/plain": [
              "<IPython.core.display.HTML object>"
            ]
          },
          "metadata": {},
          "output_type": "display_data"
        },
        {
          "data": {
            "text/html": [
              "<br>    <style><br>        .wandb-row {<br>            display: flex;<br>            flex-direction: row;<br>            flex-wrap: wrap;<br>            justify-content: flex-start;<br>            width: 100%;<br>        }<br>        .wandb-col {<br>            display: flex;<br>            flex-direction: column;<br>            flex-basis: 100%;<br>            flex: 1;<br>            padding: 10px;<br>        }<br>    </style><br><div class=\"wandb-row\"><div class=\"wandb-col\"><h3>Run history:</h3><br/><table class=\"wandb\"><tr><td>epoch</td><td>▁▂▃▃▄▅▆▆▇█</td></tr><tr><td>test_accuracy</td><td>▁▃▅▆▆▇████</td></tr><tr><td>train_accuracy</td><td>▁▃▅▅▆▇▇▇██</td></tr><tr><td>train_loss</td><td>█▆▅▄▃▃▂▂▁▁</td></tr></table><br/></div><div class=\"wandb-col\"><h3>Run summary:</h3><br/><table class=\"wandb\"><tr><td>epoch</td><td>10</td></tr><tr><td>test_accuracy</td><td>76.2</td></tr><tr><td>train_accuracy</td><td>81.048</td></tr><tr><td>train_loss</td><td>0.55189</td></tr></table><br/></div></div>"
            ],
            "text/plain": [
              "<IPython.core.display.HTML object>"
            ]
          },
          "metadata": {},
          "output_type": "display_data"
        },
        {
          "data": {
            "text/html": [
              " View run <strong style=\"color:#cdcd00\">Idk Where this shows</strong> at: <a href='https://wandb.ai/simeonbetapudi-belmont-university/convnet_CIFAR10_sweep/runs/v6i5n8ic' target=\"_blank\">https://wandb.ai/simeonbetapudi-belmont-university/convnet_CIFAR10_sweep/runs/v6i5n8ic</a><br> View project at: <a href='https://wandb.ai/simeonbetapudi-belmont-university/convnet_CIFAR10_sweep' target=\"_blank\">https://wandb.ai/simeonbetapudi-belmont-university/convnet_CIFAR10_sweep</a><br>Synced 5 W&B file(s), 0 media file(s), 0 artifact file(s) and 0 other file(s)"
            ],
            "text/plain": [
              "<IPython.core.display.HTML object>"
            ]
          },
          "metadata": {},
          "output_type": "display_data"
        },
        {
          "data": {
            "text/html": [
              "Find logs at: <code>./wandb/run-20250908_214459-v6i5n8ic/logs</code>"
            ],
            "text/plain": [
              "<IPython.core.display.HTML object>"
            ]
          },
          "metadata": {},
          "output_type": "display_data"
        },
        {
          "metadata": {
            "tags": null
          },
          "name": "stderr",
          "output_type": "stream",
          "text": [
            "\u001b[34m\u001b[1mwandb\u001b[0m: Agent Starting Run: lphsjk93 with config:\n",
            "\u001b[34m\u001b[1mwandb\u001b[0m: \tactivation: SiLU\n",
            "\u001b[34m\u001b[1mwandb\u001b[0m: \tbase_channels: 128\n",
            "\u001b[34m\u001b[1mwandb\u001b[0m: \tchannel_mult: 4\n",
            "\u001b[34m\u001b[1mwandb\u001b[0m: \tkernel_size: [5, 3]\n",
            "\u001b[34m\u001b[1mwandb\u001b[0m: \tn_conv_layers: 5\n",
            "\u001b[34m\u001b[1mwandb\u001b[0m: \tstride: 2\n"
          ]
        },
        {
          "data": {
            "text/html": [
              "Ignoring project 'convnet_CIFAR10_sweep' when running a sweep."
            ],
            "text/plain": [
              "<IPython.core.display.HTML object>"
            ]
          },
          "metadata": {},
          "output_type": "display_data"
        },
        {
          "data": {
            "text/html": [],
            "text/plain": [
              "<IPython.core.display.HTML object>"
            ]
          },
          "metadata": {},
          "output_type": "display_data"
        },
        {
          "data": {
            "text/html": [
              "Tracking run with wandb version 0.21.3"
            ],
            "text/plain": [
              "<IPython.core.display.HTML object>"
            ]
          },
          "metadata": {},
          "output_type": "display_data"
        },
        {
          "data": {
            "text/html": [
              "Run data is saved locally in <code>/content/wandb/run-20250908_215423-lphsjk93</code>"
            ],
            "text/plain": [
              "<IPython.core.display.HTML object>"
            ]
          },
          "metadata": {},
          "output_type": "display_data"
        },
        {
          "data": {
            "text/html": [
              "Syncing run <strong><a href='https://wandb.ai/simeonbetapudi-belmont-university/convnet_CIFAR10_sweep/runs/lphsjk93' target=\"_blank\">Idk Where this shows</a></strong> to <a href='https://wandb.ai/simeonbetapudi-belmont-university/convnet_CIFAR10_sweep' target=\"_blank\">Weights & Biases</a> (<a href='https://wandb.me/developer-guide' target=\"_blank\">docs</a>)<br>Sweep page: <a href='https://wandb.ai/simeonbetapudi-belmont-university/convnet_CIFAR10_sweep/sweeps/klsyko7c' target=\"_blank\">https://wandb.ai/simeonbetapudi-belmont-university/convnet_CIFAR10_sweep/sweeps/klsyko7c</a>"
            ],
            "text/plain": [
              "<IPython.core.display.HTML object>"
            ]
          },
          "metadata": {},
          "output_type": "display_data"
        },
        {
          "data": {
            "text/html": [
              " View project at <a href='https://wandb.ai/simeonbetapudi-belmont-university/convnet_CIFAR10_sweep' target=\"_blank\">https://wandb.ai/simeonbetapudi-belmont-university/convnet_CIFAR10_sweep</a>"
            ],
            "text/plain": [
              "<IPython.core.display.HTML object>"
            ]
          },
          "metadata": {},
          "output_type": "display_data"
        },
        {
          "data": {
            "text/html": [
              " View sweep at <a href='https://wandb.ai/simeonbetapudi-belmont-university/convnet_CIFAR10_sweep/sweeps/klsyko7c' target=\"_blank\">https://wandb.ai/simeonbetapudi-belmont-university/convnet_CIFAR10_sweep/sweeps/klsyko7c</a>"
            ],
            "text/plain": [
              "<IPython.core.display.HTML object>"
            ]
          },
          "metadata": {},
          "output_type": "display_data"
        },
        {
          "data": {
            "text/html": [
              " View run at <a href='https://wandb.ai/simeonbetapudi-belmont-university/convnet_CIFAR10_sweep/runs/lphsjk93' target=\"_blank\">https://wandb.ai/simeonbetapudi-belmont-university/convnet_CIFAR10_sweep/runs/lphsjk93</a>"
            ],
            "text/plain": [
              "<IPython.core.display.HTML object>"
            ]
          },
          "metadata": {},
          "output_type": "display_data"
        },
        {
          "metadata": {
            "tags": null
          },
          "name": "stderr",
          "output_type": "stream",
          "text": [
            "Epoch 1/10:   0%|          | 0/196 [00:00<?, ?it/s]\n",
            "Traceback (most recent call last):\n",
            "  File \"/usr/local/lib/python3.12/dist-packages/wandb/agents/pyagent.py\", line 297, in _run_job\n",
            "    self._function()\n",
            "  File \"/tmp/ipython-input-1212523289.py\", line 24, in sweep_train\n",
            "    results = train_model(model,\n",
            "              ^^^^^^^^^^^^^^^^^^\n",
            "  File \"/tmp/ipython-input-1911957378.py\", line 29, in train_model\n",
            "    output = model(data)\n",
            "             ^^^^^^^^^^^\n",
            "  File \"/usr/local/lib/python3.12/dist-packages/torch/nn/modules/module.py\", line 1773, in _wrapped_call_impl\n",
            "    return self._call_impl(*args, **kwargs)\n",
            "           ^^^^^^^^^^^^^^^^^^^^^^^^^^^^^^^^\n",
            "  File \"/usr/local/lib/python3.12/dist-packages/torch/nn/modules/module.py\", line 1784, in _call_impl\n",
            "    return forward_call(*args, **kwargs)\n",
            "           ^^^^^^^^^^^^^^^^^^^^^^^^^^^^^\n",
            "  File \"/tmp/ipython-input-1595289304.py\", line 23, in forward\n",
            "    x = self.activation(conv_layer(x))\n",
            "                        ^^^^^^^^^^^^^\n",
            "  File \"/usr/local/lib/python3.12/dist-packages/torch/nn/modules/module.py\", line 1773, in _wrapped_call_impl\n",
            "    return self._call_impl(*args, **kwargs)\n",
            "           ^^^^^^^^^^^^^^^^^^^^^^^^^^^^^^^^\n",
            "  File \"/usr/local/lib/python3.12/dist-packages/torch/nn/modules/module.py\", line 1784, in _call_impl\n",
            "    return forward_call(*args, **kwargs)\n",
            "           ^^^^^^^^^^^^^^^^^^^^^^^^^^^^^\n",
            "  File \"/usr/local/lib/python3.12/dist-packages/torch/nn/modules/conv.py\", line 548, in forward\n",
            "    return self._conv_forward(input, self.weight, self.bias)\n",
            "           ^^^^^^^^^^^^^^^^^^^^^^^^^^^^^^^^^^^^^^^^^^^^^^^^^\n",
            "  File \"/usr/local/lib/python3.12/dist-packages/torch/nn/modules/conv.py\", line 543, in _conv_forward\n",
            "    return F.conv2d(\n",
            "           ^^^^^^^^^\n",
            "RuntimeError: Calculated padded input size per channel: (3 x 4). Kernel size: (5 x 3). Kernel size can't be greater than actual input size\n",
            "\n"
          ]
        },
        {
          "data": {
            "text/html": [],
            "text/plain": [
              "<IPython.core.display.HTML object>"
            ]
          },
          "metadata": {},
          "output_type": "display_data"
        },
        {
          "data": {
            "text/html": [
              " View run <strong style=\"color:#cdcd00\">Idk Where this shows</strong> at: <a href='https://wandb.ai/simeonbetapudi-belmont-university/convnet_CIFAR10_sweep/runs/lphsjk93' target=\"_blank\">https://wandb.ai/simeonbetapudi-belmont-university/convnet_CIFAR10_sweep/runs/lphsjk93</a><br> View project at: <a href='https://wandb.ai/simeonbetapudi-belmont-university/convnet_CIFAR10_sweep' target=\"_blank\">https://wandb.ai/simeonbetapudi-belmont-university/convnet_CIFAR10_sweep</a><br>Synced 5 W&B file(s), 0 media file(s), 0 artifact file(s) and 0 other file(s)"
            ],
            "text/plain": [
              "<IPython.core.display.HTML object>"
            ]
          },
          "metadata": {},
          "output_type": "display_data"
        },
        {
          "data": {
            "text/html": [
              "Find logs at: <code>./wandb/run-20250908_215423-lphsjk93/logs</code>"
            ],
            "text/plain": [
              "<IPython.core.display.HTML object>"
            ]
          },
          "metadata": {},
          "output_type": "display_data"
        },
        {
          "metadata": {
            "tags": null
          },
          "name": "stderr",
          "output_type": "stream",
          "text": [
            "\u001b[34m\u001b[1mwandb\u001b[0m: \u001b[32m\u001b[41mERROR\u001b[0m Run lphsjk93 errored: Calculated padded input size per channel: (3 x 4). Kernel size: (5 x 3). Kernel size can't be greater than actual input size\n",
            "\u001b[34m\u001b[1mwandb\u001b[0m: Agent Starting Run: aszwup2k with config:\n",
            "\u001b[34m\u001b[1mwandb\u001b[0m: \tactivation: SiLU\n",
            "\u001b[34m\u001b[1mwandb\u001b[0m: \tbase_channels: 128\n",
            "\u001b[34m\u001b[1mwandb\u001b[0m: \tchannel_mult: 4\n",
            "\u001b[34m\u001b[1mwandb\u001b[0m: \tkernel_size: [5, 3]\n",
            "\u001b[34m\u001b[1mwandb\u001b[0m: \tn_conv_layers: 3\n",
            "\u001b[34m\u001b[1mwandb\u001b[0m: \tstride: 2\n"
          ]
        },
        {
          "data": {
            "text/html": [
              "Ignoring project 'convnet_CIFAR10_sweep' when running a sweep."
            ],
            "text/plain": [
              "<IPython.core.display.HTML object>"
            ]
          },
          "metadata": {},
          "output_type": "display_data"
        },
        {
          "data": {
            "text/html": [
              "creating run (0.0s)"
            ],
            "text/plain": [
              "<IPython.core.display.HTML object>"
            ]
          },
          "metadata": {},
          "output_type": "display_data"
        },
        {
          "data": {
            "text/html": [
              "Tracking run with wandb version 0.21.3"
            ],
            "text/plain": [
              "<IPython.core.display.HTML object>"
            ]
          },
          "metadata": {},
          "output_type": "display_data"
        },
        {
          "data": {
            "text/html": [
              "Run data is saved locally in <code>/content/wandb/run-20250908_215513-aszwup2k</code>"
            ],
            "text/plain": [
              "<IPython.core.display.HTML object>"
            ]
          },
          "metadata": {},
          "output_type": "display_data"
        },
        {
          "data": {
            "text/html": [
              "Syncing run <strong><a href='https://wandb.ai/simeonbetapudi-belmont-university/convnet_CIFAR10_sweep/runs/aszwup2k' target=\"_blank\">Idk Where this shows</a></strong> to <a href='https://wandb.ai/simeonbetapudi-belmont-university/convnet_CIFAR10_sweep' target=\"_blank\">Weights & Biases</a> (<a href='https://wandb.me/developer-guide' target=\"_blank\">docs</a>)<br>Sweep page: <a href='https://wandb.ai/simeonbetapudi-belmont-university/convnet_CIFAR10_sweep/sweeps/klsyko7c' target=\"_blank\">https://wandb.ai/simeonbetapudi-belmont-university/convnet_CIFAR10_sweep/sweeps/klsyko7c</a>"
            ],
            "text/plain": [
              "<IPython.core.display.HTML object>"
            ]
          },
          "metadata": {},
          "output_type": "display_data"
        },
        {
          "data": {
            "text/html": [
              " View project at <a href='https://wandb.ai/simeonbetapudi-belmont-university/convnet_CIFAR10_sweep' target=\"_blank\">https://wandb.ai/simeonbetapudi-belmont-university/convnet_CIFAR10_sweep</a>"
            ],
            "text/plain": [
              "<IPython.core.display.HTML object>"
            ]
          },
          "metadata": {},
          "output_type": "display_data"
        },
        {
          "data": {
            "text/html": [
              " View sweep at <a href='https://wandb.ai/simeonbetapudi-belmont-university/convnet_CIFAR10_sweep/sweeps/klsyko7c' target=\"_blank\">https://wandb.ai/simeonbetapudi-belmont-university/convnet_CIFAR10_sweep/sweeps/klsyko7c</a>"
            ],
            "text/plain": [
              "<IPython.core.display.HTML object>"
            ]
          },
          "metadata": {},
          "output_type": "display_data"
        },
        {
          "data": {
            "text/html": [
              " View run at <a href='https://wandb.ai/simeonbetapudi-belmont-university/convnet_CIFAR10_sweep/runs/aszwup2k' target=\"_blank\">https://wandb.ai/simeonbetapudi-belmont-university/convnet_CIFAR10_sweep/runs/aszwup2k</a>"
            ],
            "text/plain": [
              "<IPython.core.display.HTML object>"
            ]
          },
          "metadata": {},
          "output_type": "display_data"
        },
        {
          "metadata": {
            "tags": null
          },
          "name": "stderr",
          "output_type": "stream",
          "text": [
            "Epoch 1/10: 100%|██████████| 196/196 [00:12<00:00, 15.16it/s, Loss=1.5833, Acc=42.74%]\n"
          ]
        },
        {
          "metadata": {
            "tags": null
          },
          "name": "stdout",
          "output_type": "stream",
          "text": [
            "Epoch 1: Train Loss: 1.5765, Train Acc: 42.74%, Test Acc: 51.28%\n"
          ]
        },
        {
          "metadata": {
            "tags": null
          },
          "name": "stderr",
          "output_type": "stream",
          "text": [
            "Epoch 2/10: 100%|██████████| 196/196 [00:12<00:00, 15.12it/s, Loss=1.3074, Acc=57.15%]\n"
          ]
        },
        {
          "metadata": {
            "tags": null
          },
          "name": "stdout",
          "output_type": "stream",
          "text": [
            "Epoch 2: Train Loss: 1.2019, Train Acc: 57.15%, Test Acc: 59.34%\n"
          ]
        },
        {
          "metadata": {
            "tags": null
          },
          "name": "stderr",
          "output_type": "stream",
          "text": [
            "Epoch 3/10: 100%|██████████| 196/196 [00:12<00:00, 15.11it/s, Loss=0.9500, Acc=65.71%]\n"
          ]
        },
        {
          "metadata": {
            "tags": null
          },
          "name": "stdout",
          "output_type": "stream",
          "text": [
            "Epoch 3: Train Loss: 0.9785, Train Acc: 65.71%, Test Acc: 65.11%\n"
          ]
        },
        {
          "metadata": {
            "tags": null
          },
          "name": "stderr",
          "output_type": "stream",
          "text": [
            "Epoch 4/10: 100%|██████████| 196/196 [00:12<00:00, 15.15it/s, Loss=0.7808, Acc=73.04%]\n"
          ]
        },
        {
          "metadata": {
            "tags": null
          },
          "name": "stdout",
          "output_type": "stream",
          "text": [
            "Epoch 4: Train Loss: 0.7687, Train Acc: 73.04%, Test Acc: 66.87%\n"
          ]
        },
        {
          "metadata": {
            "tags": null
          },
          "name": "stderr",
          "output_type": "stream",
          "text": [
            "Epoch 5/10: 100%|██████████| 196/196 [00:12<00:00, 15.20it/s, Loss=0.5817, Acc=80.64%]\n"
          ]
        },
        {
          "metadata": {
            "tags": null
          },
          "name": "stdout",
          "output_type": "stream",
          "text": [
            "Epoch 5: Train Loss: 0.5568, Train Acc: 80.64%, Test Acc: 70.06%\n"
          ]
        },
        {
          "metadata": {
            "tags": null
          },
          "name": "stderr",
          "output_type": "stream",
          "text": [
            "Epoch 6/10: 100%|██████████| 196/196 [00:12<00:00, 15.12it/s, Loss=0.2371, Acc=87.96%]\n"
          ]
        },
        {
          "metadata": {
            "tags": null
          },
          "name": "stdout",
          "output_type": "stream",
          "text": [
            "Epoch 6: Train Loss: 0.3575, Train Acc: 87.96%, Test Acc: 70.46%\n"
          ]
        },
        {
          "metadata": {
            "tags": null
          },
          "name": "stderr",
          "output_type": "stream",
          "text": [
            "Epoch 7/10: 100%|██████████| 196/196 [00:12<00:00, 15.21it/s, Loss=0.2315, Acc=93.12%]\n"
          ]
        },
        {
          "metadata": {
            "tags": null
          },
          "name": "stdout",
          "output_type": "stream",
          "text": [
            "Epoch 7: Train Loss: 0.2131, Train Acc: 93.12%, Test Acc: 70.17%\n"
          ]
        },
        {
          "metadata": {
            "tags": null
          },
          "name": "stderr",
          "output_type": "stream",
          "text": [
            "Epoch 8/10: 100%|██████████| 196/196 [00:12<00:00, 15.18it/s, Loss=0.1269, Acc=95.69%]\n"
          ]
        },
        {
          "metadata": {
            "tags": null
          },
          "name": "stdout",
          "output_type": "stream",
          "text": [
            "Epoch 8: Train Loss: 0.1350, Train Acc: 95.69%, Test Acc: 70.98%\n"
          ]
        },
        {
          "metadata": {
            "tags": null
          },
          "name": "stderr",
          "output_type": "stream",
          "text": [
            "Epoch 9/10: 100%|██████████| 196/196 [00:12<00:00, 15.20it/s, Loss=0.1532, Acc=96.96%]\n"
          ]
        },
        {
          "metadata": {
            "tags": null
          },
          "name": "stdout",
          "output_type": "stream",
          "text": [
            "Epoch 9: Train Loss: 0.0963, Train Acc: 96.96%, Test Acc: 70.77%\n"
          ]
        },
        {
          "metadata": {
            "tags": null
          },
          "name": "stderr",
          "output_type": "stream",
          "text": [
            "Epoch 10/10: 100%|██████████| 196/196 [00:12<00:00, 15.15it/s, Loss=0.0584, Acc=97.59%]\n"
          ]
        },
        {
          "metadata": {
            "tags": null
          },
          "name": "stdout",
          "output_type": "stream",
          "text": [
            "Epoch 10: Train Loss: 0.0759, Train Acc: 97.59%, Test Acc: 70.45%\n"
          ]
        },
        {
          "data": {
            "text/html": [],
            "text/plain": [
              "<IPython.core.display.HTML object>"
            ]
          },
          "metadata": {},
          "output_type": "display_data"
        },
        {
          "data": {
            "text/html": [
              "<br>    <style><br>        .wandb-row {<br>            display: flex;<br>            flex-direction: row;<br>            flex-wrap: wrap;<br>            justify-content: flex-start;<br>            width: 100%;<br>        }<br>        .wandb-col {<br>            display: flex;<br>            flex-direction: column;<br>            flex-basis: 100%;<br>            flex: 1;<br>            padding: 10px;<br>        }<br>    </style><br><div class=\"wandb-row\"><div class=\"wandb-col\"><h3>Run history:</h3><br/><table class=\"wandb\"><tr><td>epoch</td><td>▁▂▃▃▄▅▆▆▇█</td></tr><tr><td>test_accuracy</td><td>▁▄▆▇██████</td></tr><tr><td>train_accuracy</td><td>▁▃▄▅▆▇▇███</td></tr><tr><td>train_loss</td><td>█▆▅▄▃▂▂▁▁▁</td></tr></table><br/></div><div class=\"wandb-col\"><h3>Run summary:</h3><br/><table class=\"wandb\"><tr><td>epoch</td><td>10</td></tr><tr><td>test_accuracy</td><td>70.45</td></tr><tr><td>train_accuracy</td><td>97.586</td></tr><tr><td>train_loss</td><td>0.07593</td></tr></table><br/></div></div>"
            ],
            "text/plain": [
              "<IPython.core.display.HTML object>"
            ]
          },
          "metadata": {},
          "output_type": "display_data"
        },
        {
          "data": {
            "text/html": [
              " View run <strong style=\"color:#cdcd00\">Idk Where this shows</strong> at: <a href='https://wandb.ai/simeonbetapudi-belmont-university/convnet_CIFAR10_sweep/runs/aszwup2k' target=\"_blank\">https://wandb.ai/simeonbetapudi-belmont-university/convnet_CIFAR10_sweep/runs/aszwup2k</a><br> View project at: <a href='https://wandb.ai/simeonbetapudi-belmont-university/convnet_CIFAR10_sweep' target=\"_blank\">https://wandb.ai/simeonbetapudi-belmont-university/convnet_CIFAR10_sweep</a><br>Synced 5 W&B file(s), 0 media file(s), 0 artifact file(s) and 0 other file(s)"
            ],
            "text/plain": [
              "<IPython.core.display.HTML object>"
            ]
          },
          "metadata": {},
          "output_type": "display_data"
        },
        {
          "data": {
            "text/html": [
              "Find logs at: <code>./wandb/run-20250908_215513-aszwup2k/logs</code>"
            ],
            "text/plain": [
              "<IPython.core.display.HTML object>"
            ]
          },
          "metadata": {},
          "output_type": "display_data"
        },
        {
          "metadata": {
            "tags": null
          },
          "name": "stderr",
          "output_type": "stream",
          "text": [
            "\u001b[34m\u001b[1mwandb\u001b[0m: Agent Starting Run: 4mi6pvv7 with config:\n",
            "\u001b[34m\u001b[1mwandb\u001b[0m: \tactivation: SiLU\n",
            "\u001b[34m\u001b[1mwandb\u001b[0m: \tbase_channels: 128\n",
            "\u001b[34m\u001b[1mwandb\u001b[0m: \tchannel_mult: 4\n",
            "\u001b[34m\u001b[1mwandb\u001b[0m: \tkernel_size: 5\n",
            "\u001b[34m\u001b[1mwandb\u001b[0m: \tn_conv_layers: 3\n",
            "\u001b[34m\u001b[1mwandb\u001b[0m: \tstride: 2\n"
          ]
        },
        {
          "data": {
            "text/html": [
              "Ignoring project 'convnet_CIFAR10_sweep' when running a sweep."
            ],
            "text/plain": [
              "<IPython.core.display.HTML object>"
            ]
          },
          "metadata": {},
          "output_type": "display_data"
        },
        {
          "data": {
            "text/html": [],
            "text/plain": [
              "<IPython.core.display.HTML object>"
            ]
          },
          "metadata": {},
          "output_type": "display_data"
        },
        {
          "data": {
            "text/html": [
              "Tracking run with wandb version 0.21.3"
            ],
            "text/plain": [
              "<IPython.core.display.HTML object>"
            ]
          },
          "metadata": {},
          "output_type": "display_data"
        },
        {
          "data": {
            "text/html": [
              "Run data is saved locally in <code>/content/wandb/run-20250908_215800-4mi6pvv7</code>"
            ],
            "text/plain": [
              "<IPython.core.display.HTML object>"
            ]
          },
          "metadata": {},
          "output_type": "display_data"
        },
        {
          "data": {
            "text/html": [
              "Syncing run <strong><a href='https://wandb.ai/simeonbetapudi-belmont-university/convnet_CIFAR10_sweep/runs/4mi6pvv7' target=\"_blank\">Idk Where this shows</a></strong> to <a href='https://wandb.ai/simeonbetapudi-belmont-university/convnet_CIFAR10_sweep' target=\"_blank\">Weights & Biases</a> (<a href='https://wandb.me/developer-guide' target=\"_blank\">docs</a>)<br>Sweep page: <a href='https://wandb.ai/simeonbetapudi-belmont-university/convnet_CIFAR10_sweep/sweeps/klsyko7c' target=\"_blank\">https://wandb.ai/simeonbetapudi-belmont-university/convnet_CIFAR10_sweep/sweeps/klsyko7c</a>"
            ],
            "text/plain": [
              "<IPython.core.display.HTML object>"
            ]
          },
          "metadata": {},
          "output_type": "display_data"
        },
        {
          "data": {
            "text/html": [
              " View project at <a href='https://wandb.ai/simeonbetapudi-belmont-university/convnet_CIFAR10_sweep' target=\"_blank\">https://wandb.ai/simeonbetapudi-belmont-university/convnet_CIFAR10_sweep</a>"
            ],
            "text/plain": [
              "<IPython.core.display.HTML object>"
            ]
          },
          "metadata": {},
          "output_type": "display_data"
        },
        {
          "data": {
            "text/html": [
              " View sweep at <a href='https://wandb.ai/simeonbetapudi-belmont-university/convnet_CIFAR10_sweep/sweeps/klsyko7c' target=\"_blank\">https://wandb.ai/simeonbetapudi-belmont-university/convnet_CIFAR10_sweep/sweeps/klsyko7c</a>"
            ],
            "text/plain": [
              "<IPython.core.display.HTML object>"
            ]
          },
          "metadata": {},
          "output_type": "display_data"
        },
        {
          "data": {
            "text/html": [
              " View run at <a href='https://wandb.ai/simeonbetapudi-belmont-university/convnet_CIFAR10_sweep/runs/4mi6pvv7' target=\"_blank\">https://wandb.ai/simeonbetapudi-belmont-university/convnet_CIFAR10_sweep/runs/4mi6pvv7</a>"
            ],
            "text/plain": [
              "<IPython.core.display.HTML object>"
            ]
          },
          "metadata": {},
          "output_type": "display_data"
        },
        {
          "metadata": {
            "tags": null
          },
          "name": "stderr",
          "output_type": "stream",
          "text": [
            "Epoch 1/10: 100%|██████████| 196/196 [00:13<00:00, 14.60it/s, Loss=1.3109, Acc=43.99%]\n"
          ]
        },
        {
          "metadata": {
            "tags": null
          },
          "name": "stdout",
          "output_type": "stream",
          "text": [
            "Epoch 1: Train Loss: 1.5502, Train Acc: 43.99%, Test Acc: 54.00%\n"
          ]
        },
        {
          "metadata": {
            "tags": null
          },
          "name": "stderr",
          "output_type": "stream",
          "text": [
            "Epoch 2/10: 100%|██████████| 196/196 [00:13<00:00, 14.62it/s, Loss=1.0922, Acc=60.71%]\n"
          ]
        },
        {
          "metadata": {
            "tags": null
          },
          "name": "stdout",
          "output_type": "stream",
          "text": [
            "Epoch 2: Train Loss: 1.1107, Train Acc: 60.71%, Test Acc: 63.47%\n"
          ]
        },
        {
          "metadata": {
            "tags": null
          },
          "name": "stderr",
          "output_type": "stream",
          "text": [
            "Epoch 3/10: 100%|██████████| 196/196 [00:13<00:00, 14.61it/s, Loss=0.7397, Acc=70.36%]\n"
          ]
        },
        {
          "metadata": {
            "tags": null
          },
          "name": "stdout",
          "output_type": "stream",
          "text": [
            "Epoch 3: Train Loss: 0.8454, Train Acc: 70.36%, Test Acc: 67.85%\n"
          ]
        },
        {
          "metadata": {
            "tags": null
          },
          "name": "stderr",
          "output_type": "stream",
          "text": [
            "Epoch 4/10: 100%|██████████| 196/196 [00:13<00:00, 14.62it/s, Loss=0.6481, Acc=79.98%]\n"
          ]
        },
        {
          "metadata": {
            "tags": null
          },
          "name": "stdout",
          "output_type": "stream",
          "text": [
            "Epoch 4: Train Loss: 0.5797, Train Acc: 79.98%, Test Acc: 70.33%\n"
          ]
        },
        {
          "metadata": {
            "tags": null
          },
          "name": "stderr",
          "output_type": "stream",
          "text": [
            "Epoch 5/10: 100%|██████████| 196/196 [00:13<00:00, 14.65it/s, Loss=0.4333, Acc=89.14%]\n"
          ]
        },
        {
          "metadata": {
            "tags": null
          },
          "name": "stdout",
          "output_type": "stream",
          "text": [
            "Epoch 5: Train Loss: 0.3213, Train Acc: 89.14%, Test Acc: 69.91%\n"
          ]
        },
        {
          "metadata": {
            "tags": null
          },
          "name": "stderr",
          "output_type": "stream",
          "text": [
            "Epoch 6/10: 100%|██████████| 196/196 [00:13<00:00, 14.53it/s, Loss=0.2324, Acc=94.69%]\n"
          ]
        },
        {
          "metadata": {
            "tags": null
          },
          "name": "stdout",
          "output_type": "stream",
          "text": [
            "Epoch 6: Train Loss: 0.1643, Train Acc: 94.69%, Test Acc: 70.25%\n"
          ]
        },
        {
          "metadata": {
            "tags": null
          },
          "name": "stderr",
          "output_type": "stream",
          "text": [
            "Epoch 7/10: 100%|██████████| 196/196 [00:13<00:00, 14.63it/s, Loss=0.0688, Acc=96.65%]\n"
          ]
        },
        {
          "metadata": {
            "tags": null
          },
          "name": "stdout",
          "output_type": "stream",
          "text": [
            "Epoch 7: Train Loss: 0.1036, Train Acc: 96.65%, Test Acc: 71.33%\n"
          ]
        },
        {
          "metadata": {
            "tags": null
          },
          "name": "stderr",
          "output_type": "stream",
          "text": [
            "Epoch 8/10: 100%|██████████| 196/196 [00:13<00:00, 14.57it/s, Loss=0.0437, Acc=97.75%]\n"
          ]
        },
        {
          "metadata": {
            "tags": null
          },
          "name": "stdout",
          "output_type": "stream",
          "text": [
            "Epoch 8: Train Loss: 0.0710, Train Acc: 97.75%, Test Acc: 72.05%\n"
          ]
        },
        {
          "metadata": {
            "tags": null
          },
          "name": "stderr",
          "output_type": "stream",
          "text": [
            "Epoch 9/10: 100%|██████████| 196/196 [00:13<00:00, 14.65it/s, Loss=0.0173, Acc=98.09%]\n"
          ]
        },
        {
          "metadata": {
            "tags": null
          },
          "name": "stdout",
          "output_type": "stream",
          "text": [
            "Epoch 9: Train Loss: 0.0599, Train Acc: 98.09%, Test Acc: 71.61%\n"
          ]
        },
        {
          "metadata": {
            "tags": null
          },
          "name": "stderr",
          "output_type": "stream",
          "text": [
            "Epoch 10/10: 100%|██████████| 196/196 [00:13<00:00, 14.58it/s, Loss=0.0490, Acc=98.11%]\n"
          ]
        },
        {
          "metadata": {
            "tags": null
          },
          "name": "stdout",
          "output_type": "stream",
          "text": [
            "Epoch 10: Train Loss: 0.0567, Train Acc: 98.11%, Test Acc: 71.33%\n"
          ]
        },
        {
          "data": {
            "text/html": [],
            "text/plain": [
              "<IPython.core.display.HTML object>"
            ]
          },
          "metadata": {},
          "output_type": "display_data"
        },
        {
          "data": {
            "text/html": [
              "<br>    <style><br>        .wandb-row {<br>            display: flex;<br>            flex-direction: row;<br>            flex-wrap: wrap;<br>            justify-content: flex-start;<br>            width: 100%;<br>        }<br>        .wandb-col {<br>            display: flex;<br>            flex-direction: column;<br>            flex-basis: 100%;<br>            flex: 1;<br>            padding: 10px;<br>        }<br>    </style><br><div class=\"wandb-row\"><div class=\"wandb-col\"><h3>Run history:</h3><br/><table class=\"wandb\"><tr><td>epoch</td><td>▁▂▃▃▄▅▆▆▇█</td></tr><tr><td>test_accuracy</td><td>▁▅▆▇▇▇████</td></tr><tr><td>train_accuracy</td><td>▁▃▄▆▇█████</td></tr><tr><td>train_loss</td><td>█▆▅▃▂▂▁▁▁▁</td></tr></table><br/></div><div class=\"wandb-col\"><h3>Run summary:</h3><br/><table class=\"wandb\"><tr><td>epoch</td><td>10</td></tr><tr><td>test_accuracy</td><td>71.33</td></tr><tr><td>train_accuracy</td><td>98.106</td></tr><tr><td>train_loss</td><td>0.05669</td></tr></table><br/></div></div>"
            ],
            "text/plain": [
              "<IPython.core.display.HTML object>"
            ]
          },
          "metadata": {},
          "output_type": "display_data"
        },
        {
          "data": {
            "text/html": [
              " View run <strong style=\"color:#cdcd00\">Idk Where this shows</strong> at: <a href='https://wandb.ai/simeonbetapudi-belmont-university/convnet_CIFAR10_sweep/runs/4mi6pvv7' target=\"_blank\">https://wandb.ai/simeonbetapudi-belmont-university/convnet_CIFAR10_sweep/runs/4mi6pvv7</a><br> View project at: <a href='https://wandb.ai/simeonbetapudi-belmont-university/convnet_CIFAR10_sweep' target=\"_blank\">https://wandb.ai/simeonbetapudi-belmont-university/convnet_CIFAR10_sweep</a><br>Synced 5 W&B file(s), 0 media file(s), 0 artifact file(s) and 0 other file(s)"
            ],
            "text/plain": [
              "<IPython.core.display.HTML object>"
            ]
          },
          "metadata": {},
          "output_type": "display_data"
        },
        {
          "data": {
            "text/html": [
              "Find logs at: <code>./wandb/run-20250908_215800-4mi6pvv7/logs</code>"
            ],
            "text/plain": [
              "<IPython.core.display.HTML object>"
            ]
          },
          "metadata": {},
          "output_type": "display_data"
        },
        {
          "metadata": {
            "tags": null
          },
          "name": "stderr",
          "output_type": "stream",
          "text": [
            "\u001b[34m\u001b[1mwandb\u001b[0m: Agent Starting Run: hqbod7y6 with config:\n",
            "\u001b[34m\u001b[1mwandb\u001b[0m: \tactivation: SiLU\n",
            "\u001b[34m\u001b[1mwandb\u001b[0m: \tbase_channels: 128\n",
            "\u001b[34m\u001b[1mwandb\u001b[0m: \tchannel_mult: 4\n",
            "\u001b[34m\u001b[1mwandb\u001b[0m: \tkernel_size: [5, 3]\n",
            "\u001b[34m\u001b[1mwandb\u001b[0m: \tn_conv_layers: 3\n",
            "\u001b[34m\u001b[1mwandb\u001b[0m: \tstride: 1\n"
          ]
        },
        {
          "data": {
            "text/html": [
              "Ignoring project 'convnet_CIFAR10_sweep' when running a sweep."
            ],
            "text/plain": [
              "<IPython.core.display.HTML object>"
            ]
          },
          "metadata": {},
          "output_type": "display_data"
        },
        {
          "data": {
            "text/html": [],
            "text/plain": [
              "<IPython.core.display.HTML object>"
            ]
          },
          "metadata": {},
          "output_type": "display_data"
        },
        {
          "data": {
            "text/html": [
              "Tracking run with wandb version 0.21.3"
            ],
            "text/plain": [
              "<IPython.core.display.HTML object>"
            ]
          },
          "metadata": {},
          "output_type": "display_data"
        },
        {
          "data": {
            "text/html": [
              "Run data is saved locally in <code>/content/wandb/run-20250908_220051-hqbod7y6</code>"
            ],
            "text/plain": [
              "<IPython.core.display.HTML object>"
            ]
          },
          "metadata": {},
          "output_type": "display_data"
        },
        {
          "data": {
            "text/html": [
              "Syncing run <strong><a href='https://wandb.ai/simeonbetapudi-belmont-university/convnet_CIFAR10_sweep/runs/hqbod7y6' target=\"_blank\">Idk Where this shows</a></strong> to <a href='https://wandb.ai/simeonbetapudi-belmont-university/convnet_CIFAR10_sweep' target=\"_blank\">Weights & Biases</a> (<a href='https://wandb.me/developer-guide' target=\"_blank\">docs</a>)<br>Sweep page: <a href='https://wandb.ai/simeonbetapudi-belmont-university/convnet_CIFAR10_sweep/sweeps/klsyko7c' target=\"_blank\">https://wandb.ai/simeonbetapudi-belmont-university/convnet_CIFAR10_sweep/sweeps/klsyko7c</a>"
            ],
            "text/plain": [
              "<IPython.core.display.HTML object>"
            ]
          },
          "metadata": {},
          "output_type": "display_data"
        },
        {
          "data": {
            "text/html": [
              " View project at <a href='https://wandb.ai/simeonbetapudi-belmont-university/convnet_CIFAR10_sweep' target=\"_blank\">https://wandb.ai/simeonbetapudi-belmont-university/convnet_CIFAR10_sweep</a>"
            ],
            "text/plain": [
              "<IPython.core.display.HTML object>"
            ]
          },
          "metadata": {},
          "output_type": "display_data"
        },
        {
          "data": {
            "text/html": [
              " View sweep at <a href='https://wandb.ai/simeonbetapudi-belmont-university/convnet_CIFAR10_sweep/sweeps/klsyko7c' target=\"_blank\">https://wandb.ai/simeonbetapudi-belmont-university/convnet_CIFAR10_sweep/sweeps/klsyko7c</a>"
            ],
            "text/plain": [
              "<IPython.core.display.HTML object>"
            ]
          },
          "metadata": {},
          "output_type": "display_data"
        },
        {
          "data": {
            "text/html": [
              " View run at <a href='https://wandb.ai/simeonbetapudi-belmont-university/convnet_CIFAR10_sweep/runs/hqbod7y6' target=\"_blank\">https://wandb.ai/simeonbetapudi-belmont-university/convnet_CIFAR10_sweep/runs/hqbod7y6</a>"
            ],
            "text/plain": [
              "<IPython.core.display.HTML object>"
            ]
          },
          "metadata": {},
          "output_type": "display_data"
        },
        {
          "output_type": "stream",
          "name": "stderr",
          "text": [
            "Epoch 1/10: 100%|██████████| 196/196 [00:50<00:00,  3.88it/s, Loss=1.3594, Acc=39.18%]\n"
          ]
        },
        {
          "output_type": "stream",
          "name": "stdout",
          "text": [
            "Epoch 1: Train Loss: 1.6720, Train Acc: 39.18%, Test Acc: 47.33%\n"
          ]
        },
        {
          "output_type": "stream",
          "name": "stderr",
          "text": [
            "Epoch 2/10: 100%|██████████| 196/196 [00:50<00:00,  3.87it/s, Loss=1.3056, Acc=52.85%]\n"
          ]
        },
        {
          "output_type": "stream",
          "name": "stdout",
          "text": [
            "Epoch 2: Train Loss: 1.3257, Train Acc: 52.85%, Test Acc: 56.83%\n"
          ]
        },
        {
          "output_type": "stream",
          "name": "stderr",
          "text": [
            "Epoch 3/10: 100%|██████████| 196/196 [00:50<00:00,  3.86it/s, Loss=0.9574, Acc=59.69%]\n"
          ]
        },
        {
          "output_type": "stream",
          "name": "stdout",
          "text": [
            "Epoch 3: Train Loss: 1.1492, Train Acc: 59.69%, Test Acc: 62.58%\n"
          ]
        },
        {
          "output_type": "stream",
          "name": "stderr",
          "text": [
            "Epoch 4/10: 100%|██████████| 196/196 [00:50<00:00,  3.87it/s, Loss=0.9637, Acc=64.84%]\n"
          ]
        },
        {
          "output_type": "stream",
          "name": "stdout",
          "text": [
            "Epoch 4: Train Loss: 1.0085, Train Acc: 64.84%, Test Acc: 65.92%\n"
          ]
        },
        {
          "output_type": "stream",
          "name": "stderr",
          "text": [
            "Epoch 5/10: 100%|██████████| 196/196 [00:50<00:00,  3.87it/s, Loss=0.9044, Acc=68.36%]\n"
          ]
        },
        {
          "output_type": "stream",
          "name": "stdout",
          "text": [
            "Epoch 5: Train Loss: 0.9058, Train Acc: 68.36%, Test Acc: 67.66%\n"
          ]
        },
        {
          "output_type": "stream",
          "name": "stderr",
          "text": [
            "Epoch 6/10: 100%|██████████| 196/196 [00:50<00:00,  3.87it/s, Loss=0.7647, Acc=71.71%]\n"
          ]
        },
        {
          "output_type": "stream",
          "name": "stdout",
          "text": [
            "Epoch 6: Train Loss: 0.8192, Train Acc: 71.71%, Test Acc: 70.84%\n"
          ]
        },
        {
          "output_type": "stream",
          "name": "stderr",
          "text": [
            "Epoch 7/10: 100%|██████████| 196/196 [00:50<00:00,  3.88it/s, Loss=0.7230, Acc=73.72%]\n"
          ]
        },
        {
          "output_type": "stream",
          "name": "stdout",
          "text": [
            "Epoch 7: Train Loss: 0.7560, Train Acc: 73.72%, Test Acc: 73.94%\n"
          ]
        },
        {
          "output_type": "stream",
          "name": "stderr",
          "text": [
            "Epoch 8/10: 100%|██████████| 196/196 [00:50<00:00,  3.88it/s, Loss=0.4720, Acc=76.35%]\n"
          ]
        },
        {
          "output_type": "stream",
          "name": "stdout",
          "text": [
            "Epoch 8: Train Loss: 0.6816, Train Acc: 76.35%, Test Acc: 75.37%\n"
          ]
        },
        {
          "output_type": "stream",
          "name": "stderr",
          "text": [
            "Epoch 9/10: 100%|██████████| 196/196 [00:50<00:00,  3.88it/s, Loss=0.5542, Acc=77.97%]\n"
          ]
        },
        {
          "output_type": "stream",
          "name": "stdout",
          "text": [
            "Epoch 9: Train Loss: 0.6330, Train Acc: 77.97%, Test Acc: 76.77%\n"
          ]
        },
        {
          "output_type": "stream",
          "name": "stderr",
          "text": [
            "Epoch 10/10: 100%|██████████| 196/196 [00:50<00:00,  3.88it/s, Loss=0.6941, Acc=80.39%]\n"
          ]
        },
        {
          "output_type": "stream",
          "name": "stdout",
          "text": [
            "Epoch 10: Train Loss: 0.5696, Train Acc: 80.39%, Test Acc: 75.53%\n"
          ]
        },
        {
          "output_type": "display_data",
          "data": {
            "text/plain": [
              "<IPython.core.display.HTML object>"
            ],
            "text/html": []
          },
          "metadata": {}
        },
        {
          "output_type": "display_data",
          "data": {
            "text/plain": [
              "<IPython.core.display.HTML object>"
            ],
            "text/html": [
              "<br>    <style><br>        .wandb-row {<br>            display: flex;<br>            flex-direction: row;<br>            flex-wrap: wrap;<br>            justify-content: flex-start;<br>            width: 100%;<br>        }<br>        .wandb-col {<br>            display: flex;<br>            flex-direction: column;<br>            flex-basis: 100%;<br>            flex: 1;<br>            padding: 10px;<br>        }<br>    </style><br><div class=\"wandb-row\"><div class=\"wandb-col\"><h3>Run history:</h3><br/><table class=\"wandb\"><tr><td>epoch</td><td>▁▂▃▃▄▅▆▆▇█</td></tr><tr><td>test_accuracy</td><td>▁▃▅▅▆▇▇███</td></tr><tr><td>train_accuracy</td><td>▁▃▄▅▆▇▇▇██</td></tr><tr><td>train_loss</td><td>█▆▅▄▃▃▂▂▁▁</td></tr></table><br/></div><div class=\"wandb-col\"><h3>Run summary:</h3><br/><table class=\"wandb\"><tr><td>epoch</td><td>10</td></tr><tr><td>test_accuracy</td><td>75.53</td></tr><tr><td>train_accuracy</td><td>80.394</td></tr><tr><td>train_loss</td><td>0.56959</td></tr></table><br/></div></div>"
            ]
          },
          "metadata": {}
        },
        {
          "output_type": "display_data",
          "data": {
            "text/plain": [
              "<IPython.core.display.HTML object>"
            ],
            "text/html": [
              " View run <strong style=\"color:#cdcd00\">Idk Where this shows</strong> at: <a href='https://wandb.ai/simeonbetapudi-belmont-university/convnet_CIFAR10_sweep/runs/hqbod7y6' target=\"_blank\">https://wandb.ai/simeonbetapudi-belmont-university/convnet_CIFAR10_sweep/runs/hqbod7y6</a><br> View project at: <a href='https://wandb.ai/simeonbetapudi-belmont-university/convnet_CIFAR10_sweep' target=\"_blank\">https://wandb.ai/simeonbetapudi-belmont-university/convnet_CIFAR10_sweep</a><br>Synced 5 W&B file(s), 0 media file(s), 0 artifact file(s) and 0 other file(s)"
            ]
          },
          "metadata": {}
        },
        {
          "output_type": "display_data",
          "data": {
            "text/plain": [
              "<IPython.core.display.HTML object>"
            ],
            "text/html": [
              "Find logs at: <code>./wandb/run-20250908_220051-hqbod7y6/logs</code>"
            ]
          },
          "metadata": {}
        },
        {
          "output_type": "stream",
          "name": "stderr",
          "text": [
            "\u001b[34m\u001b[1mwandb\u001b[0m: Agent Starting Run: o99ji4gz with config:\n",
            "\u001b[34m\u001b[1mwandb\u001b[0m: \tactivation: SiLU\n",
            "\u001b[34m\u001b[1mwandb\u001b[0m: \tbase_channels: 128\n",
            "\u001b[34m\u001b[1mwandb\u001b[0m: \tchannel_mult: 4\n",
            "\u001b[34m\u001b[1mwandb\u001b[0m: \tkernel_size: [5, 3]\n",
            "\u001b[34m\u001b[1mwandb\u001b[0m: \tn_conv_layers: 3\n",
            "\u001b[34m\u001b[1mwandb\u001b[0m: \tstride: 1\n"
          ]
        },
        {
          "output_type": "display_data",
          "data": {
            "text/plain": [
              "<IPython.core.display.HTML object>"
            ],
            "text/html": [
              "Ignoring project 'convnet_CIFAR10_sweep' when running a sweep."
            ]
          },
          "metadata": {}
        },
        {
          "output_type": "display_data",
          "data": {
            "text/plain": [
              "<IPython.core.display.HTML object>"
            ],
            "text/html": []
          },
          "metadata": {}
        },
        {
          "output_type": "display_data",
          "data": {
            "text/plain": [
              "<IPython.core.display.HTML object>"
            ],
            "text/html": [
              "Tracking run with wandb version 0.21.3"
            ]
          },
          "metadata": {}
        },
        {
          "output_type": "display_data",
          "data": {
            "text/plain": [
              "<IPython.core.display.HTML object>"
            ],
            "text/html": [
              "Run data is saved locally in <code>/content/wandb/run-20250908_221016-o99ji4gz</code>"
            ]
          },
          "metadata": {}
        },
        {
          "output_type": "display_data",
          "data": {
            "text/plain": [
              "<IPython.core.display.HTML object>"
            ],
            "text/html": [
              "Syncing run <strong><a href='https://wandb.ai/simeonbetapudi-belmont-university/convnet_CIFAR10_sweep/runs/o99ji4gz' target=\"_blank\">Idk Where this shows</a></strong> to <a href='https://wandb.ai/simeonbetapudi-belmont-university/convnet_CIFAR10_sweep' target=\"_blank\">Weights & Biases</a> (<a href='https://wandb.me/developer-guide' target=\"_blank\">docs</a>)<br>Sweep page: <a href='https://wandb.ai/simeonbetapudi-belmont-university/convnet_CIFAR10_sweep/sweeps/klsyko7c' target=\"_blank\">https://wandb.ai/simeonbetapudi-belmont-university/convnet_CIFAR10_sweep/sweeps/klsyko7c</a>"
            ]
          },
          "metadata": {}
        },
        {
          "output_type": "display_data",
          "data": {
            "text/plain": [
              "<IPython.core.display.HTML object>"
            ],
            "text/html": [
              " View project at <a href='https://wandb.ai/simeonbetapudi-belmont-university/convnet_CIFAR10_sweep' target=\"_blank\">https://wandb.ai/simeonbetapudi-belmont-university/convnet_CIFAR10_sweep</a>"
            ]
          },
          "metadata": {}
        },
        {
          "output_type": "display_data",
          "data": {
            "text/plain": [
              "<IPython.core.display.HTML object>"
            ],
            "text/html": [
              " View sweep at <a href='https://wandb.ai/simeonbetapudi-belmont-university/convnet_CIFAR10_sweep/sweeps/klsyko7c' target=\"_blank\">https://wandb.ai/simeonbetapudi-belmont-university/convnet_CIFAR10_sweep/sweeps/klsyko7c</a>"
            ]
          },
          "metadata": {}
        },
        {
          "output_type": "display_data",
          "data": {
            "text/plain": [
              "<IPython.core.display.HTML object>"
            ],
            "text/html": [
              " View run at <a href='https://wandb.ai/simeonbetapudi-belmont-university/convnet_CIFAR10_sweep/runs/o99ji4gz' target=\"_blank\">https://wandb.ai/simeonbetapudi-belmont-university/convnet_CIFAR10_sweep/runs/o99ji4gz</a>"
            ]
          },
          "metadata": {}
        },
        {
          "output_type": "stream",
          "name": "stderr",
          "text": [
            "Epoch 1/10: 100%|██████████| 196/196 [00:50<00:00,  3.87it/s, Loss=1.5012, Acc=39.00%]\n"
          ]
        },
        {
          "output_type": "stream",
          "name": "stdout",
          "text": [
            "Epoch 1: Train Loss: 1.6563, Train Acc: 39.00%, Test Acc: 45.22%\n"
          ]
        },
        {
          "output_type": "stream",
          "name": "stderr",
          "text": [
            "Epoch 2/10: 100%|██████████| 196/196 [00:50<00:00,  3.87it/s, Loss=1.2005, Acc=53.02%]\n"
          ]
        },
        {
          "output_type": "stream",
          "name": "stdout",
          "text": [
            "Epoch 2: Train Loss: 1.3093, Train Acc: 53.02%, Test Acc: 57.31%\n"
          ]
        },
        {
          "output_type": "stream",
          "name": "stderr",
          "text": [
            "Epoch 3/10: 100%|██████████| 196/196 [00:50<00:00,  3.87it/s, Loss=1.1289, Acc=60.00%]\n"
          ]
        },
        {
          "output_type": "stream",
          "name": "stdout",
          "text": [
            "Epoch 3: Train Loss: 1.1294, Train Acc: 60.00%, Test Acc: 62.86%\n"
          ]
        },
        {
          "output_type": "stream",
          "name": "stderr",
          "text": [
            "Epoch 4/10: 100%|██████████| 196/196 [00:50<00:00,  3.88it/s, Loss=1.0329, Acc=65.53%]\n"
          ]
        },
        {
          "output_type": "stream",
          "name": "stdout",
          "text": [
            "Epoch 4: Train Loss: 0.9880, Train Acc: 65.53%, Test Acc: 65.25%\n"
          ]
        },
        {
          "output_type": "stream",
          "name": "stderr",
          "text": [
            "Epoch 5/10:  21%|██▏       | 42/196 [00:10<00:39,  3.89it/s, Loss=0.9106, Acc=67.37%]"
          ]
        }
      ]
    }
  ]
}